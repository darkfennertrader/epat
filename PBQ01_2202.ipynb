{
 "cells": [
  {
   "cell_type": "markdown",
   "metadata": {},
   "source": [
    "# Basics of Python Programming(PBQ-01)\n",
    "#### Notebook Created on: 30 Mar 2020\n",
    "##### Last Update: 8 Feb 2022\n",
    "##### Author: Vivek Krishnamoorthy\n"
   ]
  },
  {
   "cell_type": "markdown",
   "metadata": {},
   "source": [
    "Welcome! <br>This is a fast-paced introduction to the Python programming language mostly by the use of examples.  \n",
    "\n",
    "<div class=\"alert alert-info\"><strong>Note:</strong> Please ensure that you have spent a non-trivial amount of time going through the <strong>Python Primer</strong> (especially for those of you who have no programming background) before attending this lecture (or going through its recording). \n",
    "<br> To get acquainted with the Jupyter Notebook interface, pay special attention to Section 10. I would also strongly urge you to read through and play with this file for 1-2 hours before the lecture.</div>\n",
    "\n",
    "*You can then extract a higher utility from the lecture. If you're a newbie to programming, do not worry. You CAN do this. Yes, it's going to be a little challenging. Yes, you'll need to put in the extra yards. But I assure you, it's very realizable.*"
   ]
  },
  {
   "cell_type": "markdown",
   "metadata": {},
   "source": [
    "### Today's Agenda\n",
    "\n",
    "- A brief intro to Python (slides)\n",
    "- Getting familiar with Jupyter Notebooks\n",
    "- A Sample Program\n",
    "- Python as a calculator\n",
    "- The `print()` method\n",
    "- Noteworthy Points (# 1)\n",
    "- Native data structures\n",
    "- `NumPy` teaser\n",
    "- Side note: `matplotlib`\n",
    "- Generating trading signals based on volumes traded\n",
    "- Noteworthy Points (# 2)\n",
    "- `pandas` teaser\n",
    "- Loops & Conditional Statements\n",
    "    - A trading rule to decide when to buy and sell"
   ]
  },
  {
   "cell_type": "markdown",
   "metadata": {},
   "source": [
    "### Frequently Used Keyboard Shortcuts in Jupyter Notebook\n",
    "\n",
    "***Everything suggested below can be done using point-and-click with a mouse and without any keystrokes. If you find this too tedious, please ignore on your first reading. You may want to revisit this later.***\n",
    "\n",
    "A Jupyter Notebook, at its core, is a collection of cells. The cell is simply the 'box' that we write in. We work with **two** types of cells: `Code` and `Markdown`. \n",
    "\n",
    "- We use the `Code` cell to write in a programming language like Python.\n",
    "- We use the `Markdown` cell to write in a human language like English. *Markdown* is a computer language in itself. Fortunately, we won't learn it separately. We'll discover it as we spend more time with Notebooks.\n",
    "- **Optional**: [Here](https://github.com/adam-p/markdown-here/wiki/Markdown-Cheatsheet) is a *Markdown* cheatsheet. Please check it out on your own time at leisure.\n",
    "\n",
    "A Jupyter Notebook operates in two modes, and each mode has its own set of key bindings.\n",
    "Here's a truncated list of shortcut keys which I use the most.\n",
    "\n",
    "#### Edit Mode\n",
    "\n",
    "Here, you can type into any cell. You can enter this mode by pressing the *Enter* key or double-clicking the mouse when you hover over the cell.\n",
    "\n",
    "- Run a cell and go to the next cell in Edit Mode: *Shift* + *Enter*\n",
    "- Run a cell and stay in the same cell in Edit Mode: *Ctrl* + *Enter*\n",
    "\n",
    "\n",
    "#### Command Mode\n",
    "\n",
    "In this mode, you can scroll through the whole Notebook without stepping into any cell. By default, you are in this mode. If not, you can enter into it by pressing the *Esc* key. In Command mode, you can carry out commonly performed notebook and cell actions efficiently. Sample this.\n",
    "\n",
    "- Navigation: Up and Down arrow keys to view different cells in the Notebook. Use *Page Up* and *Page Down* to scroll pagewise.\n",
    "- Create a cell above the current one: *a*\n",
    "- Create a cell below the current one: *b*\n",
    "- Delete a cell: *d* (press twice) \n",
    "- Change cell type to Code: *y*\n",
    "- Change cell type to Markdown: *m*\n",
    "- Interrupt the kernel: *i* (press twice)\n",
    "- Restart the kernel: *0* (press twice)"
   ]
  },
  {
   "cell_type": "markdown",
   "metadata": {},
   "source": [
    "Jupyter Notebook is one of the many ways that you can interface with Python and its scientific libraries. It provides a browser-based environment wherein you have the option to create a **single document** with Python code, its output, explanations, mathematical expressions, etc. \n",
    "\n",
    "I consider the Notebook to be a present-day embodiment of [literate programming](https://en.wikipedia.org/wiki/Literate_programming) that \"treats a program or code as literature understandable to human beings\". \n",
    "\n",
    "I prefer [Jupyter Lab](http://jupyterlab.readthedocs.io/en/stable/getting_started/overview.html), that's almost identical to the Jupyter Notebook interface. You can use whichever environment you prefer (Spyder IDE, Jupyter Notebook, etc.).\n",
    "\n",
    "Let's get started!"
   ]
  },
  {
   "cell_type": "code",
   "execution_count": 1,
   "metadata": {},
   "outputs": [],
   "source": [
    "#############################################################\n",
    "################## Class Exercise 1 #########################\n",
    "#############################################################\n",
    "\n",
    "# Create two cells below this cell and two cells above this cell\n",
    "# Delete one each from the ones you just created above and below."
   ]
  },
  {
   "cell_type": "markdown",
   "metadata": {},
   "source": [
    "```python\n",
    "# Hello there. This is a line that won't get executed. That's because we prefixed it with a #\n",
    "# A rite of passage when you start learning to code in any computer language is to print Hello World\n",
    "# Let's begin our journey to learn Python with it\n",
    "print(\"Hello World!\")\n",
    "# We can use either single quotes or double quotes to call the print function\n",
    "\n",
    "\"\"\"\n",
    "Longer comments can be written over multiple lines by enclosing them within triple\n",
    "single or double quotes\n",
    "\"\"\"\n",
    "\n",
    "\n",
    "```"
   ]
  },
  {
   "cell_type": "code",
   "execution_count": 2,
   "metadata": {},
   "outputs": [],
   "source": [
    "#############################################################\n",
    "################## Class Exercise 2 #########################\n",
    "#############################################################\n",
    "\n",
    "# Print the line \"Hello World!\". You can write your code below this line.\n"
   ]
  },
  {
   "cell_type": "markdown",
   "metadata": {},
   "source": [
    "One of the first things to know when you start learning any programming language is to call for help when you get into trouble.\n",
    "\n",
    "In Python (and in the Jupyter Notebook GUI in particular), you can do it in two ways. \n",
    "\n",
    "1. One is to use the prefix or suffix `?`. You can also type `help(print)` to access the Help documentation of the `print` function.\n",
    "2. The other is the *Tab Complete* feature when you are accessing different methods and properties of any object. If you're like me, you would also not remember every feature of each object and should find this handy.\n",
    "\n",
    "We'll repeatedly see how to use both of them today."
   ]
  },
  {
   "cell_type": "code",
   "execution_count": 3,
   "metadata": {},
   "outputs": [],
   "source": [
    "#############################################################\n",
    "################## Class Exercise 3A ########################\n",
    "#############################################################\n",
    "\n",
    "# Try using the ? to check documentation on the print function. You can write your code below this line.\n"
   ]
  },
  {
   "cell_type": "code",
   "execution_count": 4,
   "metadata": {},
   "outputs": [
    {
     "name": "stdout",
     "output_type": "stream",
     "text": [
      "Hello World\n"
     ]
    }
   ],
   "source": [
    "#############################################################\n",
    "################## Class Exercise 3B ########################\n",
    "#############################################################\n",
    "\n",
    "# Try using the help function to check documentation on the print function. \n",
    "# You can write your code below this line.\n",
    "print(\"Hello World\")"
   ]
  },
  {
   "cell_type": "code",
   "execution_count": 5,
   "metadata": {},
   "outputs": [
    {
     "data": {
      "text/plain": [
       "\u001b[0;31mDocstring:\u001b[0m\n",
       "print(value, ..., sep=' ', end='\\n', file=sys.stdout, flush=False)\n",
       "\n",
       "Prints the values to a stream, or to sys.stdout by default.\n",
       "Optional keyword arguments:\n",
       "file:  a file-like object (stream); defaults to the current sys.stdout.\n",
       "sep:   string inserted between values, default a space.\n",
       "end:   string appended after the last value, default a newline.\n",
       "flush: whether to forcibly flush the stream.\n",
       "\u001b[0;31mType:\u001b[0m      builtin_function_or_method\n"
      ]
     },
     "metadata": {},
     "output_type": "display_data"
    }
   ],
   "source": [
    "?print"
   ]
  },
  {
   "cell_type": "markdown",
   "metadata": {},
   "source": [
    "### [A Sample Program](https://matplotlib.org/3.1.1/gallery/subplots_axes_and_figures/ganged_plots.html#sphx-glr-gallery-subplots-axes-and-figures-ganged-plots-py)\n",
    "\n",
    "Run this program to see what happens.\n",
    "<br>You can copy-paste the below code snippet in the below-mentioned `Code` cell to run it. We should all get the same chart on our screens.\n",
    "\n",
    "For now, we won't bother with the fine print. \n",
    "That's for much later.\n",
    "\n",
    "\n",
    "```python\n",
    "\n",
    "import matplotlib.pyplot as plt\n",
    "import numpy as np\n",
    "\n",
    "t = np.arange(0.0, 2.0, 0.01)\n",
    "\n",
    "s1 = np.sin(2 * np.pi * t)\n",
    "s2 = np.exp(-t)\n",
    "s3 = s1 * s2\n",
    "\n",
    "fig, axs = plt.subplots(3, 1, sharex=True, figsize=(12, 8))\n",
    "# Remove horizontal space between axes\n",
    "fig.subplots_adjust(hspace=0)\n",
    "\n",
    "# Plot each graph, and manually set the y tick values\n",
    "axs[0].plot(t, s1)\n",
    "axs[0].grid(True)\n",
    "axs[0].set_yticks(np.arange(-0.9, 1.0, 0.4))\n",
    "axs[0].set_ylim(-1.2, 1.2)\n",
    "\n",
    "axs[1].plot(t, s2)\n",
    "axs[1].grid(True)\n",
    "axs[1].set_yticks(np.arange(0.1, 1.0, 0.2))\n",
    "axs[1].set_ylim(0, 1.5)\n",
    "\n",
    "axs[2].plot(t, s3)\n",
    "axs[2].grid(True)\n",
    "axs[2].set_yticks(np.arange(-0.9, 1.0, 0.4))\n",
    "axs[2].set_ylim(-1, 1)\n",
    "\n",
    "plt.show()\n",
    "\n",
    "```"
   ]
  },
  {
   "cell_type": "code",
   "execution_count": 2,
   "metadata": {},
   "outputs": [
    {
     "data": {
      "image/png": "[encoded data removed]",
      "text/plain": [
       "<Figure size 864x576 with 3 Axes>"
      ]
     },
     "metadata": {
      "needs_background": "light"
     },
     "output_type": "display_data"
    }
   ],
   "source": [
    "import matplotlib.pyplot as plt\n",
    "import numpy as np\n",
    "\n",
    "t = np.arange(0.0, 2.0, 0.01)\n",
    "\n",
    "s1 = np.sin(2 * np.pi * t)\n",
    "s2 = np.exp(-t)\n",
    "s3 = s1 * s2\n",
    "\n",
    "fig, axs = plt.subplots(3, 1, sharex=True, figsize=(12, 8))\n",
    "# Remove horizontal space between axes\n",
    "fig.subplots_adjust(hspace=0)\n",
    "\n",
    "# Plot each graph, and manually set the y tick values\n",
    "axs[0].plot(t, s1)\n",
    "axs[0].grid(True)\n",
    "axs[0].set_yticks(np.arange(-0.9, 1.0, 0.4))\n",
    "axs[0].set_ylim(-1.2, 1.2)\n",
    "\n",
    "axs[1].plot(t, s2)\n",
    "axs[1].grid(True)\n",
    "axs[1].set_yticks(np.arange(0.1, 1.0, 0.2))\n",
    "axs[1].set_ylim(0, 1.5)\n",
    "\n",
    "axs[2].plot(t, s3)\n",
    "axs[2].grid(True)\n",
    "axs[2].set_yticks(np.arange(-0.9, 1.0, 0.4))\n",
    "axs[2].set_ylim(-1, 1)\n",
    "\n",
    "plt.show()"
   ]
  },
  {
   "cell_type": "code",
   "execution_count": 4,
   "metadata": {},
   "outputs": [],
   "source": [
    "#############################################################\n",
    "################## Class Exercise 4 #########################\n",
    "#############################################################\n",
    "\n",
    "# Create a cell above this line. \n",
    "# Copy paste the above code snippet below this line.\n"
   ]
  },
  {
   "cell_type": "markdown",
   "metadata": {},
   "source": [
    "### Python as a calculator\n",
    "\n",
    "```python\n",
    "# Most rudimentary way to use Python is as a calculator\n",
    "# It's like using a Ferrari to pick up groceries\n",
    "# Nevertheless, humble beginnings...\n",
    "# Try some of the below lines\n",
    "\n",
    "30 + 15\n",
    "40 / 12\n",
    "12345679 * 63\n",
    "```"
   ]
  },
  {
   "cell_type": "code",
   "execution_count": 3,
   "metadata": {},
   "outputs": [
    {
     "data": {
      "text/plain": [
       "777777777"
      ]
     },
     "execution_count": 3,
     "metadata": {},
     "output_type": "execute_result"
    }
   ],
   "source": [
    "#############################################################\n",
    "################## Class Exercise 5 #########################\n",
    "#############################################################\n",
    "\n",
    "# Try some basic calculations\n",
    "# You'll notice that if you run multiple lines of calculations in a single cell, only the last one's displayed\n",
    "# To see all the results, use the print() method on each of them\n",
    "30 + 15\n",
    "40 / 12\n",
    "12345679 * 63\n"
   ]
  },
  {
   "cell_type": "markdown",
   "metadata": {},
   "source": [
    "### The `print()` method\n",
    "\n",
    "Using the `print()` function gives us more control over the appearance of the output.\n",
    "<br>Here are a few different ways in which you can use `print()`."
   ]
  },
  {
   "cell_type": "markdown",
   "metadata": {},
   "source": [
    "```python\n",
    "# Note to self: run below line once at the start if Tab Complete does not work\n",
    "# %config Completer.use_jedi = False\n",
    "\n",
    "print(\"The product of 12345679 and 36 is\", 12345679 * 36)\n",
    "\n",
    "ticker = 'TWTR'\n",
    "firm_name = 'Twitter, Inc.'\n",
    "industry = 'Internet Content & Information'\n",
    "last_traded_price = 36.04\n",
    "date_of_price_recorded = '7th Feb 2022'\n",
    "market_cap = 28.818 * (10 ** 9) # The value is originally in USD billions, hence the multiplication to get the dollar value\n",
    "\n",
    "outstanding_shares = market_cap / last_traded_price\n",
    "\n",
    "print(\"The market capitalization of\", firm_name, 'at the close of', date_of_price_recorded, \"is US$\", market_cap)\n",
    "\n",
    "print(f\"This way of using print is more convenient. We display the ticker as \\\n",
    "{ticker} and the share price as US$ {last_traded_price}.\")\n",
    "\n",
    "# The above strings are called f-strings or formatted string literals.\n",
    "\n",
    "print(\"{0:s} has {1:.1f} million outstanding shares. Notice how we use the \\\n",
    "print() function and perform computation on the \\\n",
    "fly.\".format(firm_name, outstanding_shares / 10**6))\n",
    "# This is the .format() method to format and display strings.\n",
    "\n",
    "# Let's try printing the market capitalization in a more readable format.\n",
    "\n",
    "print(\"Nicer way of displaying large numbers:\\n The market capitalization of \\\n",
    "{0:s}({1:s}) on {3:s} is US$ {2:.2f} billion.\".format(ticker, firm_name, market_cap / 10 ** 9, date_of_price_recorded))\n",
    "```"
   ]
  },
  {
   "cell_type": "code",
   "execution_count": 4,
   "metadata": {},
   "outputs": [
    {
     "name": "stdout",
     "output_type": "stream",
     "text": [
      "The product of 12345679 and 36 is 444444444\n",
      "The market capitalization of Twitter, Inc. at the close of 7th Feb 2022 is US$ 28818000000.0\n",
      "This way of using print is more convenient. We display the ticker as TWTR and the share price as US$ 36.04.\n",
      "Twitter, Inc. has 799.6 million outstanding shares. Notice how we use the print() function and perform computation on the fly.\n",
      "Nicer way of displaying large numbers:\n",
      " The market capitalization of TWTR(Twitter, Inc.) on 7th Feb 2022 is US$ 28.82 billion.\n"
     ]
    }
   ],
   "source": [
    "#############################################################\n",
    "################## Class Exercise 6 #########################\n",
    "#############################################################\n",
    "\n",
    "# Using print() to display better quality output\n",
    "# Run the above code snippets and pay close attention to each line before running it.\n",
    "print(\"The product of 12345679 and 36 is\", 12345679 * 36)\n",
    "\n",
    "ticker = 'TWTR'\n",
    "firm_name = 'Twitter, Inc.'\n",
    "industry = 'Internet Content & Information'\n",
    "last_traded_price = 36.04\n",
    "date_of_price_recorded = '7th Feb 2022'\n",
    "market_cap = 28.818 * (10 ** 9) # The value is originally in USD billions, hence the multiplication to get the dollar value\n",
    "\n",
    "outstanding_shares = market_cap / last_traded_price\n",
    "\n",
    "print(\"The market capitalization of\", firm_name, 'at the close of', date_of_price_recorded, \"is US$\", market_cap)\n",
    "\n",
    "print(f\"This way of using print is more convenient. We display the ticker as \\\n",
    "{ticker} and the share price as US$ {last_traded_price}.\")\n",
    "\n",
    "# The above strings are called f-strings or formatted string literals.\n",
    "\n",
    "print(\"{0:s} has {1:.1f} million outstanding shares. Notice how we use the \\\n",
    "print() function and perform computation on the \\\n",
    "fly.\".format(firm_name, outstanding_shares / 10**6))\n",
    "# This is the .format() method to format and display strings.\n",
    "\n",
    "# Let's try printing the market capitalization in a more readable format.\n",
    "\n",
    "print(\"Nicer way of displaying large numbers:\\n The market capitalization of \\\n",
    "{0:s}({1:s}) on {3:s} is US$ {2:.2f} billion.\".format(ticker, firm_name, market_cap / 10 ** 9, date_of_price_recorded))\n"
   ]
  },
  {
   "cell_type": "markdown",
   "metadata": {},
   "source": [
    "### Noteworthy points (# 1)\n",
    "\n",
    "- If we've come to Python from languages like C, C++ or Java, we would pleasantly note that there is no need to declare variables explicitly. Hence, Python is a *dynamically typed* language.\n",
    "- In Python, the `=` operator is an assignment operator. When it is used in math and colloquially elsewhere, we think of it as `equal to`. Not so here. That is also why a statement like `i = i + 1` is meaningful in Python and other programming languages.\n",
    "- It's a good practice to check the types of variables or other objects you create. We can do so using the `type()` method.\n",
    "- We can also periodically enlist all the objects that we've created. For that, we run the magic command `%who` or `%whos` (in the Jupyter environment).\n",
    "- We can read more about magic commands by running `%magic` in a `Code` cell."
   ]
  },
  {
   "cell_type": "code",
   "execution_count": 8,
   "metadata": {},
   "outputs": [],
   "source": [
    "#############################################################\n",
    "################## Class Exercise 7 #########################\n",
    "#############################################################\n",
    "\n",
    "# Check the types of objects that we created in the previous example\n"
   ]
  },
  {
   "cell_type": "code",
   "execution_count": 9,
   "metadata": {},
   "outputs": [
    {
     "name": "stdout",
     "output_type": "stream",
     "text": [
      "Variable                 Type       Data/Info\n",
      "---------------------------------------------\n",
      "axs                      ndarray    3: 3 elems, type `object`, 24 bytes\n",
      "date_of_price_recorded   str        7th Feb 2022\n",
      "fig                      Figure     Figure(864x576)\n",
      "firm_name                str        Twitter, Inc.\n",
      "industry                 str        Internet Content & Information\n",
      "last_traded_price        float      36.04\n",
      "market_cap               float      28818000000.0\n",
      "np                       module     <module 'numpy' from '/ho<...>kages/numpy/__init__.py'>\n",
      "outstanding_shares       float      799611542.7302997\n",
      "plt                      module     <module 'matplotlib.pyplo<...>es/matplotlib/pyplot.py'>\n",
      "s1                       ndarray    200: 200 elems, type `float64`, 1600 bytes\n",
      "s2                       ndarray    200: 200 elems, type `float64`, 1600 bytes\n",
      "s3                       ndarray    200: 200 elems, type `float64`, 1600 bytes\n",
      "t                        ndarray    200: 200 elems, type `float64`, 1600 bytes\n",
      "ticker                   str        TWTR\n"
     ]
    }
   ],
   "source": [
    "#############################################################\n",
    "################## Class Exercise 8 #########################\n",
    "#############################################################\n",
    "\n",
    "# Display a list of all the objects created\n",
    "# What is the difference in the output of each?\n",
    "%whos"
   ]
  },
  {
   "cell_type": "markdown",
   "metadata": {},
   "source": [
    "<div class=\"alert alert-danger\" style=\"margin: 10px\"><strong>Note:</strong> All home exercises in this document are for self-study.</div>"
   ]
  },
  {
   "cell_type": "code",
   "execution_count": null,
   "metadata": {},
   "outputs": [],
   "source": [
    "#############################################################\n",
    "################## Home Exercise 1 ##########################\n",
    "#############################################################\n",
    "\n",
    "# Read the documentation on magic commands by running %magic"
   ]
  },
  {
   "cell_type": "markdown",
   "metadata": {},
   "source": [
    "### Native Data Structures\n",
    "\n",
    "We look at some native data structures in Python via examples.\n",
    "- Lists\n",
    "- Tuples\n",
    "- Dictionaries\n",
    "\n",
    "I find it helpful to think of data structures as **containers which house data**. [Data structures](https://en.wikipedia.org/wiki/Data_structure) are a way to organize and store data in a computer to be accessed and modified efficiently. <br>For example, an Excel spreadsheet is a data structure which stores our data in a grid format (rows and columns)."
   ]
  },
  {
   "cell_type": "markdown",
   "metadata": {},
   "source": [
    "**Lists** (as the name suggests) consists of a collection of elements. The elements can be heterogeneous. A list can even contain another list among its elements."
   ]
  },
  {
   "cell_type": "markdown",
   "metadata": {},
   "source": [
    "```python\n",
    "\n",
    "list_exchanges = ['NSE', 'NYSE', 'NASDAQ', 'LSE', 'SGX', \"HKEX\"]\n",
    "list_tickers = ['TENCENT', 'INFY', 'SAINSBURY', 'SINGTEL', \"AAL\", \"KO\"]\n",
    "\n",
    "list_bp = ['British Petroleum', 'Oil, Gas & Coal', 290, 'LSE', False]\n",
    "\n",
    "list_mixed = [list_exchanges, list_tickers] # think of this as a box which contains two boxes\n",
    "# We can include heterogenous data inside any list\n",
    "\n",
    "list_mixed2 = list_exchanges + list_tickers + list_bp\n",
    "```"
   ]
  },
  {
   "cell_type": "code",
   "execution_count": 13,
   "metadata": {},
   "outputs": [],
   "source": [
    "#############################################################\n",
    "################## Class Exercise 9 #########################\n",
    "#############################################################\n",
    "\n",
    "# Create the five given lists\n",
    "# Check the object types\n",
    "# Try to use the help() or the ? on one or more of them\n",
    "\n",
    "list_exchanges = ['NSE', 'NYSE', 'NASDAQ', 'LSE', 'SGX', \"HKEX\"]\n",
    "list_tickers = ['TENCENT', 'INFY', 'SAINSBURY', 'SINGTEL', \"AAL\", \"KO\"]\n",
    "\n",
    "list_bp = ['British Petroleum', 'Oil, Gas & Coal', 290, 'LSE', False]\n",
    "\n",
    "list_mixed = [list_exchanges, list_tickers] # think of this as a box which contains two boxes\n",
    "# We can include heterogenous data inside any list\n",
    "\n",
    "list_mixed2 = list_exchanges + list_tickers + list_bp"
   ]
  },
  {
   "cell_type": "markdown",
   "metadata": {},
   "source": [
    "**Tuples** also consist of a collection of elements. The elements can be heterogeneous. A tuple can even contain another tuple or list among its elements. They are very similar to lists. <br> However, there is one crucial difference between them. <br>*Tuples are unchangeable or immutable*."
   ]
  },
  {
   "cell_type": "markdown",
   "metadata": {},
   "source": [
    "```python\n",
    "\n",
    "tuple_exchanges = ('NSE', 'NYSE', 'TSX', 'LSE', 'SGX', \"HKEX\")\n",
    "tuple_tickers = ('TENCENT', 'INFY', 'SAINSBURY', 'SINGTEL', \"AAL\", \"BMO\")\n",
    "\n",
    "tuple_britannia = ('Britannia', 'Consumer Foods', 2954, 'NSE', 'India', False)\n",
    "\n",
    "tuple_mixed = (tuple_exchanges, tuple_tickers) # think of this as a box which contains two boxes\n",
    "# We can include heterogenous data inside any tuple\n",
    "\n",
    "tuple_mixed2 = tuple_exchanges + tuple_tickers + tuple_britannia\n",
    "\n",
    "```"
   ]
  },
  {
   "cell_type": "code",
   "execution_count": 10,
   "metadata": {},
   "outputs": [],
   "source": [
    "#############################################################\n",
    "################## Class Exercise 10 ########################\n",
    "#############################################################\n",
    "\n",
    "# Create the five given tuples\n",
    "# Check the object types\n",
    "# Try to use the help() or the ? on one or more of them\n",
    "tuple_exchanges = ('NSE', 'NYSE', 'TSX', 'LSE', 'SGX', \"HKEX\")\n",
    "tuple_tickers = ('TENCENT', 'INFY', 'SAINSBURY', 'SINGTEL', \"AAL\", \"BMO\")\n",
    "\n",
    "tuple_britannia = ('Britannia', 'Consumer Foods', 2954, 'NSE', 'India', False)\n",
    "\n",
    "tuple_mixed = (tuple_exchanges, tuple_tickers) # think of this as a box which contains two boxes\n",
    "# We can include heterogenous data inside any tuple\n",
    "\n",
    "tuple_mixed2 = tuple_exchanges + tuple_tickers + tuple_britannia"
   ]
  },
  {
   "cell_type": "markdown",
   "metadata": {},
   "source": [
    "```python\n",
    "\n",
    "# Adding new elements to the list\n",
    "list_exchanges.append(\"Euronext\") # New element gets added at the last position\n",
    "list_exchanges.insert(0, \"TYO\") # We specify the index position of the new element\n",
    "\n",
    "# Try adding new elements to the tuple using similar syntax\n",
    "\n",
    "\n",
    "# Checking the length of a list or tuple\n",
    "len(tuple_tickers)\n",
    "len(list_mixed2)\n",
    "\n",
    "# Accessing elements of a list\n",
    "# You can also try the same syntax for tuples\n",
    "\n",
    "list_tickers[0] # The first element has index 0\n",
    "list_tickers[-1] # The last element\n",
    "\n",
    "list_bp[1:3] # Slicing operation\n",
    "\n",
    "# Checking if a particular ticker is in the list of tickers\n",
    "'TCS' in list_tickers\n",
    "'Euronext'in list_exchanges\n",
    "'Euronext' in tuple_exchanges\n",
    "\n",
    "# Lots of routines that you can perform with lists or tuples\n",
    "# Two ways to check them: \n",
    "# 1. Tab Complete\n",
    "# 2. Using dir()\n",
    "\n",
    "```"
   ]
  },
  {
   "cell_type": "code",
   "execution_count": null,
   "metadata": {},
   "outputs": [],
   "source": [
    "#############################################################\n",
    "################## Class Exercise 11 ########################\n",
    "#############################################################\n",
    "\n",
    "# Try adding new elements to any of the lists and tuples\n",
    "# Check the length of some of the lists and tuples\n",
    "# Accessing one or more of the elements of the lists/tuples\n",
    "# Checking if a particular element is present in a list or tuple\n",
    "\n",
    "# How do you check what type of object the last element in tuple_bp is?\n",
    "\n",
    "# Adding new elements to the list\n",
    "\n"
   ]
  },
  {
   "cell_type": "markdown",
   "metadata": {},
   "source": [
    "We now look at one final data structure in native Python - **Dictionaries**.\n",
    "<br>They are analogous to human language dictionaries. However, instead of words and their corresponding meaning, Python dictionaries have `keys` and their corresponding `values`.\n",
    "\n",
    "```python\n",
    "## Creating a dictionary\n",
    "\n",
    "d = {'AAPL': 'Apple', 'MSFT': 'Microsoft', \n",
    "           'GOOG': 'Google', 'TSLA': 'Tesla'}\n",
    "d['TSLA']\n",
    "\n",
    "# AAPL, MSFT, etc are called 'keys' and the corresponding objects that they are mapped to are called 'values'.\n",
    "print(d.keys())\n",
    "print(d.values())\n",
    "\n",
    "```"
   ]
  },
  {
   "cell_type": "code",
   "execution_count": 13,
   "metadata": {},
   "outputs": [],
   "source": [
    "#############################################################\n",
    "################## Class Exercise 12 ########################\n",
    "#############################################################\n",
    "\n",
    "# Create a dictionary as shown\n",
    "# Check its length\n",
    "# Check its type\n",
    "# What is the value associated with the key 'TSLA'?\n"
   ]
  },
  {
   "cell_type": "markdown",
   "metadata": {},
   "source": [
    "### Non-native data structures\n",
    "\n",
    "#### NumPy\n",
    "\n",
    "`NumPy` (pronounced 'num pie') is the computational engine driving many Python programs.  That's because many popular data science libraries like `pandas`, `scikit-learn`, and `scipy` are built on top of it. The data is stored as an array called a `numpy.ndarray`. These arrays are somewhat like native Python lists, except that the data is homogeneous (all elements of the same type). We'll see them up close and personal today.\n",
    "\n",
    "#### Side-note: matplotlib\n",
    "\n",
    "`matplotlib` is a popular charting library used to produce publication-quality graphs and figures. We'll primarily use it as a visualization tool. \n",
    "\n",
    "Visualization is an important step in data analysis. It helps you get a 'feel' for your dataset and draw inferences that would otherwise not be possible. It is usually done at a preliminary stage. \n",
    "\n",
    "We will spend more time on charting later. For now, we'll just inspect the line plot.\n",
    "\n",
    "```python\n",
    "\n",
    "# Importing the required libraries with aliases (latter is optional; would still highly recommended it)\n",
    "import numpy as np\n",
    "import matplotlib.pyplot as plt\n",
    "\n",
    "\n",
    "np.__version__ # to check the version of NumPy in our Python environment\n",
    "# This also implicitly checks if the NumPy library has been properly loaded.\n",
    "\n",
    "x = np.random.normal(loc=0, scale=1, size=10000) # Generates a random sample from a normal distribution with a mean of 0 and standard deviation of 1\n",
    "# Specifying argument name is optional; good programming practice to spell it out\n",
    "\n",
    "```"
   ]
  },
  {
   "cell_type": "markdown",
   "metadata": {},
   "source": [
    "Let's pause for a few seconds to admire the beauty of the previous step.\n",
    "\n",
    "In one fell swoop, we've created a set of 10,000 random numbers sampled from a standard normal distribution. Imagine doing the same operation on a spreadsheet application! This gives us an inkling of the power of high-level languages like Python and R.\n",
    "\n",
    "The `np.random` routine has many different ways of creating arrays of random numbers. The operation takes just one Python statement and a fraction of a second."
   ]
  },
  {
   "cell_type": "markdown",
   "metadata": {},
   "source": [
    "```python\n",
    "%matplotlib inline\n",
    "\n",
    "plt.plot(x)\n",
    "\n",
    "```"
   ]
  },
  {
   "cell_type": "code",
   "execution_count": 6,
   "metadata": {},
   "outputs": [
    {
     "data": {
      "text/plain": [
       "[<matplotlib.lines.Line2D at 0x7f9119b7b4f0>]"
      ]
     },
     "execution_count": 6,
     "metadata": {},
     "output_type": "execute_result"
    },
    {
     "data": {
      "image/png": "[encoded data removed]",
      "text/plain": [
       "<Figure size 432x288 with 1 Axes>"
      ]
     },
     "metadata": {
      "needs_background": "light"
     },
     "output_type": "display_data"
    }
   ],
   "source": [
    "#############################################################\n",
    "################## Class Exercise 13 ########################\n",
    "#############################################################\n",
    "\n",
    "# Create a sequence of 10000 numbers drawn from a standard normal distribution\n",
    "# Check its length\n",
    "# Check its type\n",
    "# Plot the sequence\n",
    "# Importing the required libraries with aliases (latter is optional; would still highly recommended it)\n",
    "import numpy as np\n",
    "import matplotlib.pyplot as plt\n",
    "\n",
    "\n",
    "np.__version__ # to check the version of NumPy in our Python environment\n",
    "# This also implicitly checks if the NumPy library has been properly loaded.\n",
    "\n",
    "x = np.random.normal(loc=0, scale=1, size=10000) # Generates a random sample from a normal distribution with a mean of 0 and standard deviation of 1\n",
    "# Specifying argument name is optional; good programming practice to spell it out\n",
    "\n",
    "%matplotlib inline\n",
    "\n",
    "plt.plot(x)"
   ]
  },
  {
   "cell_type": "markdown",
   "metadata": {},
   "source": [
    "### Advantage of NumPy `ndarray` over Python `list`  \n",
    "\n",
    "```python\n",
    "\n",
    "heights = [1.73, 1.68, 1.71, 1.89, 1.79]\n",
    "weights = [65.4, 59.2, 63.6, 88.4, 68.7]\n",
    "\n",
    "weights/ heights ** 2 # What's the output?\n",
    "\n",
    "np_heights = np.array(heights) # converting the list to a NumPy ndarray\n",
    "np_weights = np.array(weights)\n",
    "\n",
    "bmi = np_weights / np_heights ** 2\n",
    "```"
   ]
  },
  {
   "cell_type": "code",
   "execution_count": 17,
   "metadata": {},
   "outputs": [
    {
     "data": {
      "text/plain": [
       "array([21.85171573, 20.97505669, 21.75028214, 24.7473475 , 21.44127836])"
      ]
     },
     "execution_count": 17,
     "metadata": {},
     "output_type": "execute_result"
    }
   ],
   "source": [
    "#############################################################\n",
    "################## Class Exercise 14 ########################\n",
    "#############################################################\n",
    "\n",
    "# Create two lists called heights and weights with values as shown above\n",
    "# Check their length\n",
    "# Check their type\n",
    "# What is the maximum height?\n",
    "# What is the mean weight?\n",
    "# What is the median height and weight?\n",
    "# What is the index position of the minimum weight?\n",
    "heights = [1.73, 1.68, 1.71, 1.89, 1.79]\n",
    "weights = [65.4, 59.2, 63.6, 88.4, 68.7]\n",
    "\n",
    "#weights/ heights ** 2 # What's the output?\n",
    "\n",
    "np_heights = np.array(heights) # converting the list to a NumPy ndarray\n",
    "np_weights = np.array(weights)\n",
    "\n",
    "bmi = np_weights / np_heights ** 2\n",
    "bmi"
   ]
  },
  {
   "cell_type": "markdown",
   "metadata": {},
   "source": [
    "### Generating trading signals based on volumes traded (simulated data)\n",
    "\n",
    "#### i. Data generation and analysis\n",
    "```python\n",
    "\n",
    "volume_traded = np.round(np.random.normal(loc=250, scale=50, size=100), decimals=2)\n",
    "\n",
    "## Displaying the day when trading volumes were below 150\n",
    "np.where(volume_traded < 150)\n",
    "\n",
    "## Displaying the day when trading volumes were above 350\n",
    "np.where(volume_traded > 350)\n",
    "\n",
    "## Displaying the values when at least one of the conditions are met\n",
    "volume_traded[np.where((volume_traded < 150) | (volume_traded > 350))]\n",
    "```"
   ]
  },
  {
   "cell_type": "code",
   "execution_count": 8,
   "metadata": {},
   "outputs": [
    {
     "name": "stdout",
     "output_type": "stream",
     "text": [
      "[303.43 258.78 306.62 277.62 289.69 263.31 220.52 234.75 235.78 229.98\n",
      " 294.55 134.19 273.19 370.65 221.91 302.29 226.63 245.56 242.94 230.33\n",
      " 312.19 356.99 141.39 192.52 209.39 203.46 245.51 264.68 290.29 156.03\n",
      " 282.96 259.4  299.83 313.29  75.59 266.99 146.34 241.49 277.49 226.43\n",
      " 329.84 338.67 180.83 334.64 237.09 368.62 205.75 270.51 242.78 264.23\n",
      " 266.14 221.23 289.4  244.84 252.79 291.67 300.   155.29 268.53 166.21\n",
      " 309.98 280.04 336.36 269.05 253.48 241.95 244.97 262.71 258.97 275.38\n",
      " 158.12 258.2  176.46 208.23 205.27 323.33 318.52 252.54 298.76 273.91\n",
      " 172.23 236.16 270.95 298.18 343.5  201.63 226.68 179.13 347.02 240.54\n",
      " 272.81 300.53 327.33 182.71 305.2  221.58 261.47 308.61 312.77 253.88]\n",
      "(array([11, 22, 34, 36]),)\n",
      "(array([13, 21, 45]),)\n",
      "[134.19 370.65 356.99 141.39  75.59 146.34 368.62]\n"
     ]
    }
   ],
   "source": [
    "#############################################################\n",
    "################## Class Exercise 15 ########################\n",
    "#############################################################\n",
    "\n",
    "# Display the volumes traded for the first 10 days\n",
    "# Display the days when trading volumes were below 200\n",
    "# Display the days when trading volumes were above 300 and below 400\n",
    "# Display the maximum volume traded in the last 100 days\n",
    "\n",
    "\n",
    "volume_traded = np.round(np.random.normal(loc=250, scale=50, size=100), decimals=2)\n",
    "print(volume_traded)\n",
    "\n",
    "## Displaying the day when trading volumes were below 150\n",
    "print(np.where(volume_traded < 150))\n",
    "\n",
    "## Displaying the day when trading volumes were above 350\n",
    "print(np.where(volume_traded > 350))\n",
    "\n",
    "## Displaying the values when at least one of the conditions are met\n",
    "both_cond = volume_traded[np.where((volume_traded < 150) | (volume_traded > 350))]\n",
    "print(both_cond)"
   ]
  },
  {
   "cell_type": "markdown",
   "metadata": {},
   "source": [
    "#### ii. Trading signal generation\n",
    "\n",
    "Suppose we decide to go short on days when there are high trading volumes and long on days when there are low trading volumes.\n",
    "\n",
    "We define high trading volumes as greater than 325 and low trading volumes as less than 175.\n",
    "\n",
    "```python\n",
    "signals = np.where(volume_traded > 325, \"short\", 0)\n",
    "signals = np.where(volume_traded < 175, \"long\", signals)\n",
    "\n",
    "unique_values, count_values = np.unique(signals, return_counts=True)\n",
    "np.asarray((unique_values, count_values)).T\n",
    "```\n"
   ]
  },
  {
   "cell_type": "code",
   "execution_count": 9,
   "metadata": {},
   "outputs": [
    {
     "name": "stdout",
     "output_type": "stream",
     "text": [
      "['0' '0' '0' '0' '0' '0' '0' '0' '0' '0' '0' '0' '0' 'short' '0' '0' '0'\n",
      " '0' '0' '0' '0' 'short' '0' '0' '0' '0' '0' '0' '0' '0' '0' '0' '0' '0'\n",
      " '0' '0' '0' '0' '0' '0' 'short' 'short' '0' 'short' '0' 'short' '0' '0'\n",
      " '0' '0' '0' '0' '0' '0' '0' '0' '0' '0' '0' '0' '0' '0' 'short' '0' '0'\n",
      " '0' '0' '0' '0' '0' '0' '0' '0' '0' '0' '0' '0' '0' '0' '0' '0' '0' '0'\n",
      " '0' 'short' '0' '0' '0' 'short' '0' '0' '0' 'short' '0' '0' '0' '0' '0'\n",
      " '0' '0']\n",
      "\n",
      "['0' '0' '0' '0' '0' '0' '0' '0' '0' '0' '0' 'long' '0' 'short' '0' '0'\n",
      " '0' '0' '0' '0' '0' 'short' 'long' '0' '0' '0' '0' '0' '0' 'long' '0' '0'\n",
      " '0' '0' 'long' '0' 'long' '0' '0' '0' 'short' 'short' '0' 'short' '0'\n",
      " 'short' '0' '0' '0' '0' '0' '0' '0' '0' '0' '0' '0' 'long' '0' 'long' '0'\n",
      " '0' 'short' '0' '0' '0' '0' '0' '0' '0' 'long' '0' '0' '0' '0' '0' '0'\n",
      " '0' '0' '0' 'long' '0' '0' '0' 'short' '0' '0' '0' 'short' '0' '0' '0'\n",
      " 'short' '0' '0' '0' '0' '0' '0' '0']\n",
      "\n"
     ]
    },
    {
     "data": {
      "text/plain": [
       "array([['0', '81'],\n",
       "       ['long', '9'],\n",
       "       ['short', '10']], dtype='<U21')"
      ]
     },
     "execution_count": 9,
     "metadata": {},
     "output_type": "execute_result"
    }
   ],
   "source": [
    "#############################################################\n",
    "################## Class Exercise 16 ########################\n",
    "#############################################################\n",
    "\n",
    "# Create a NumPy array where all days on which volume traded exceeds 325 is encoded \"short\"\n",
    "# In the same NumPy array, encode \"long\" for all days on which volume traded is less than 175\n",
    "# How many \"long\" and \"short\" days show up?\n",
    "\n",
    "signals = np.where(volume_traded > 325, \"short\", 0)\n",
    "print(signals)\n",
    "signals = np.where(volume_traded < 175, \"long\", signals)\n",
    "print()\n",
    "print(signals)\n",
    "unique_values, count_values = np.unique(signals, return_counts=True)\n",
    "print()\n",
    "np.asarray((unique_values, count_values)).T"
   ]
  },
  {
   "cell_type": "markdown",
   "metadata": {},
   "source": [
    "### Noteworthy points (# 2)\n",
    "\n",
    "Good programming practice\n",
    "\n",
    "- Use standard aliases for commonly used libraries. Ex. `np` for `NumPy`, `pd` for `pandas`, etc.\n",
    "- Specify argument names while using functions or routines ex. any of the `np.random` sub-libraries\n",
    "- Provide meaningful names to variables you create. We aren't doing algebra and don't need to cryptically name unknowns as x, y, z, etc.\n",
    "- Run %whos and check the variable names we've used so far.Run `%whos` and check the variable names we've used so far.\n",
    "- Skim through the documentation on new functions and libraries you come across. Apart from `?` and `help()`."
   ]
  },
  {
   "cell_type": "markdown",
   "metadata": {},
   "source": [
    "### pandas\n",
    "\n",
    "`pandas` is a vital library for users in the Python data science and quant finance community. It can perform data manipulation and other Excel-like operations at high speed. It is built on top of `NumPy`. To get a sense of how comprehensive it is, the pandas' [official documentation](https://pandas.pydata.org/pandas-docs/stable/) of `pandas` is over ~~2500~~ ~~2600~~ ~~2900~~ 3000 pages! Do check out [10 minutes to `pandas`](https://pandas.pydata.org/pandas-docs/stable/user_guide/10min.html), a superb resource put out by its dev team.\n",
    "\n",
    "Statistical libraries like `statsmodels` and `scikit-learn` are built on top of `pandas`.\n",
    "\n",
    "We mainly use the pandas `Series` and `DataFrame` data structures.\n",
    "\n",
    "You can think of `Series` as a single 'column' of data. \n",
    "<br>The pandas `DataFrame` is like an Excel sheet with multiple columns of data.\n",
    "\n",
    "You can import data into pandas from numerous file formats. <br>Type `pd.read`, tap on the `Tab` key and be amazed.\n",
    "\n",
    "For the most part, we'll deal with CSV (Comma Separated Values) files. A CSV file is a watered-down version of a spreadsheet. It stores data as a list of plain text usually separated by commas. Its simple structure makes it convenient to import it into different software applications.\n",
    "\n",
    "***Tip:*** *Always open any CSV file in a text editor or spreadsheet application to get an idea of what the data looks like. Sometimes files have headers or other descriptions in the first few rows. Doing this will ensure that you account for them when you read the data into your application.*\n",
    "\n",
    "```python\n",
    "\n",
    "# For now, let's import a csv file.\n",
    "# Please take a quick glance at the documentation (or help()) whenever you have to read files into Python\n",
    "\n",
    "df = pd.read_csv(\"TCS.NS.csv\", index_col=\"Date\", parse_dates=True)\n",
    "\n",
    "df.shape # Shows the dimensions of the Data Frame\n",
    "\n",
    "df.head() # Displays the first 5 rows\n",
    "df.tail() # Displays the last 5 rows\n",
    "\n",
    "df.info()\n",
    "\n",
    "df.describe() # Descriptive statistics on each column\n",
    "\n",
    "# Line plots of various columns\n",
    "df['Adj Close'].plot()\n",
    "\n",
    "# If there are issues in reading csv file use the below function as a date parser\n",
    "\n",
    "mydateparser = lambda x: datetime.datetime.strptime(x, \"%d-%m-%Y\")\n",
    "df = pd.read_csv(\"TCS.NS.csv\", index_col=\"Date\", date_parser=mydateparser, parse_dates=True)\n",
    "\n",
    "df[['Close', 'Adj Close']].plot(figsize=(12, 8), grid=True, linewidth=0.5)\n",
    "df['Volume'].plot(figsize=(12, 8), linewidth=1)\n",
    "\n",
    "```"
   ]
  },
  {
   "cell_type": "markdown",
   "metadata": {},
   "source": [
    "The nice thing about the `pandas DataFrame` (compared to the `NumPy array`) is we can have different kinds of data and meaningful names for each column. We can also select subsets of our data using the column names."
   ]
  },
  {
   "cell_type": "code",
   "execution_count": 11,
   "metadata": {},
   "outputs": [
    {
     "name": "stdout",
     "output_type": "stream",
     "text": [
      "<class 'pandas.core.frame.DataFrame'>\n",
      "DatetimeIndex: 2460 entries, 2010-04-26 to 2020-04-20\n",
      "Data columns (total 6 columns):\n",
      " #   Column     Non-Null Count  Dtype  \n",
      "---  ------     --------------  -----  \n",
      " 0   High       2460 non-null   float64\n",
      " 1   Low        2460 non-null   float64\n",
      " 2   Open       2460 non-null   float64\n",
      " 3   Close      2460 non-null   float64\n",
      " 4   Volume     2460 non-null   int64  \n",
      " 5   Adj Close  2460 non-null   float64\n",
      "dtypes: float64(5), int64(1)\n",
      "memory usage: 134.5 KB\n"
     ]
    },
    {
     "data": {
      "text/plain": [
       "<matplotlib.axes._subplots.AxesSubplot at 0x7f91113d3190>"
      ]
     },
     "execution_count": 11,
     "metadata": {},
     "output_type": "execute_result"
    },
    {
     "data": {
      "image/png": "[encoded data removed]",
      "text/plain": [
       "<Figure size 432x288 with 1 Axes>"
      ]
     },
     "metadata": {
      "needs_background": "light"
     },
     "output_type": "display_data"
    }
   ],
   "source": [
    "#############################################################\n",
    "################## Class Exercise 17 ########################\n",
    "#############################################################\n",
    "\n",
    "# Read in the \"TCS.NS.csv\" file into a pandas DataFrame\n",
    "# How many rows and columns exist?\n",
    "# Check its type\n",
    "# Display the first 10 rows\n",
    "# Display the last 10 rows\n",
    "# Show the minimum, maximum, average, and other descriptive statistics for each column of the data.\n",
    "# Plot the Adjusted Close price as a time series\n",
    "# Plot the Close and Adjusted Close prices over time. \n",
    "# Plot the Volumes traded as a time series\n",
    "import pandas as pd\n",
    "import datetime\n",
    "\n",
    "mydateparser = lambda x: datetime.datetime.strptime(x, \"%d-%m-%Y\")\n",
    "df = pd.read_csv(\"TCS.NS.csv\", index_col=\"Date\", date_parser=mydateparser, parse_dates=True)\n",
    "\n",
    "df.shape # Shows the dimensions of the Data Frame\n",
    "df.head() # Displays the first 5 rows\n",
    "df.tail() # Displays the last 5 rows\n",
    "df.info()\n",
    "df.describe() # Descriptive statistics on each column\n",
    "# Line plots of various columns\n",
    "df['Adj Close'].plot()"
   ]
  },
  {
   "cell_type": "markdown",
   "metadata": {},
   "source": [
    "### Loops & conditional statements\n",
    "```python\n",
    "## Here are two commonly used 'for' loop avatars\n",
    "\n",
    "# 'for' loop - Type # 1\n",
    "\n",
    "n_days = len(df)\n",
    "df['Test'] = 0 # Initializing a new column with zero\n",
    "\n",
    "for i in range(n_days - 50, n_days):\n",
    "    df.iloc[i, 6] = 'Trade'\n",
    "```\n",
    "### A trading rule to decide when to buy and sell\n",
    "\n",
    "#### Firstly, we simulate close prices for Vedanta\n",
    "```python\n",
    "# 'for' loop - Type # 2\n",
    "# BONUS: We combine the loop with some 'if' statements\n",
    "\n",
    "\n",
    "vedanta_close_prices = list(np.random.randint(low=65, high=85, size=100))\n",
    "threshold_sell_price = 83\n",
    "```\n",
    "#### Secondly, we come up with (whimsical) rules to buy and sell\n",
    "*(Whimsical, because this is only a toy demonstration of using `for` loops and `if` statements.)*\n",
    "\n",
    "- We sell at open the next day, when the closing price on a particular day is greater than 83.\n",
    "- We buy at open the next day, when the closing price on a particular day is less than 67. \n",
    "\n",
    "```python\n",
    "\n",
    "for i, close_price in enumerate(vedanta_close_prices):\n",
    "    if close_price > threshold_sell_price:\n",
    "        print(\"Day {0} closed at {1}; sell at open on day {2}\".format(i, close_price, i+1))\n",
    "        \n",
    "threshold_buy_price = 67\n",
    "\n",
    "for i, close_price in enumerate(vedanta_close_prices):\n",
    "    if close_price < threshold_buy_price:\n",
    "        print(\"Day {0} closed at {1}; buy at open on day {2}\".format(i, close_price, i+1))\n",
    "\n",
    "# Now we combine both if statements     \n",
    "\n",
    "threshold_sell_price = 83\n",
    "threshold_buy_price = 67\n",
    "\n",
    "for i, close_price in enumerate(vedanta_close_prices):\n",
    "    if close_price > threshold_sell_price:\n",
    "        print(\"Day {0} closed at {1}; sell at open on day {2}\".format(i, close_price, i+1))\n",
    "    elif close_price < threshold_buy_price:\n",
    "        print(\"Day {0} closed at {1}; buy at open on day {2}\".format(i, close_price, i+1)) \n",
    "\n",
    "# Adding an 'else' statement at the end.\n",
    "        \n",
    "for i, close_price in enumerate(vedanta_close_prices):\n",
    "    if close_price > threshold_sell_price:\n",
    "        print(\"Day {0} closed at {1}; sell at open on day {2}\".format(i, close_price, i+1))\n",
    "    elif close_price < threshold_buy_price:\n",
    "        print(\"Day {0} closed at {1}; buy at open on day {2}\".format(i, close_price, i+1)) \n",
    "    else:\n",
    "        continue\n",
    "```"
   ]
  },
  {
   "cell_type": "code",
   "execution_count": 17,
   "metadata": {},
   "outputs": [
    {
     "data": {
      "text/html": [
       "<div>\n",
       "<style scoped>\n",
       "    .dataframe tbody tr th:only-of-type {\n",
       "        vertical-align: middle;\n",
       "    }\n",
       "\n",
       "    .dataframe tbody tr th {\n",
       "        vertical-align: top;\n",
       "    }\n",
       "\n",
       "    .dataframe thead th {\n",
       "        text-align: right;\n",
       "    }\n",
       "</style>\n",
       "<table border=\"1\" class=\"dataframe\">\n",
       "  <thead>\n",
       "    <tr style=\"text-align: right;\">\n",
       "      <th></th>\n",
       "      <th>High</th>\n",
       "      <th>Low</th>\n",
       "      <th>Open</th>\n",
       "      <th>Close</th>\n",
       "      <th>Volume</th>\n",
       "      <th>Adj Close</th>\n",
       "      <th>Test</th>\n",
       "    </tr>\n",
       "    <tr>\n",
       "      <th>Date</th>\n",
       "      <th></th>\n",
       "      <th></th>\n",
       "      <th></th>\n",
       "      <th></th>\n",
       "      <th></th>\n",
       "      <th></th>\n",
       "      <th></th>\n",
       "    </tr>\n",
       "  </thead>\n",
       "  <tbody>\n",
       "    <tr>\n",
       "      <th>2020-04-13</th>\n",
       "      <td>1787.000000</td>\n",
       "      <td>1746.000000</td>\n",
       "      <td>1761.000000</td>\n",
       "      <td>1759.250000</td>\n",
       "      <td>2990438</td>\n",
       "      <td>Trade</td>\n",
       "      <td>Trade</td>\n",
       "    </tr>\n",
       "    <tr>\n",
       "      <th>2020-04-15</th>\n",
       "      <td>1812.000000</td>\n",
       "      <td>1727.800049</td>\n",
       "      <td>1785.000000</td>\n",
       "      <td>1735.150024</td>\n",
       "      <td>4761399</td>\n",
       "      <td>Trade</td>\n",
       "      <td>Trade</td>\n",
       "    </tr>\n",
       "    <tr>\n",
       "      <th>2020-04-16</th>\n",
       "      <td>1764.900024</td>\n",
       "      <td>1675.050049</td>\n",
       "      <td>1709.949951</td>\n",
       "      <td>1716.050049</td>\n",
       "      <td>6245533</td>\n",
       "      <td>Trade</td>\n",
       "      <td>Trade</td>\n",
       "    </tr>\n",
       "    <tr>\n",
       "      <th>2020-04-17</th>\n",
       "      <td>1851.949951</td>\n",
       "      <td>1753.000000</td>\n",
       "      <td>1800.000000</td>\n",
       "      <td>1806.199951</td>\n",
       "      <td>9895823</td>\n",
       "      <td>Trade</td>\n",
       "      <td>Trade</td>\n",
       "    </tr>\n",
       "    <tr>\n",
       "      <th>2020-04-20</th>\n",
       "      <td>1830.000000</td>\n",
       "      <td>1802.500000</td>\n",
       "      <td>1830.000000</td>\n",
       "      <td>1818.650024</td>\n",
       "      <td>3244282</td>\n",
       "      <td>Trade</td>\n",
       "      <td>Trade</td>\n",
       "    </tr>\n",
       "  </tbody>\n",
       "</table>\n",
       "</div>"
      ],
      "text/plain": [
       "                   High          Low         Open        Close   Volume  \\\n",
       "Date                                                                      \n",
       "2020-04-13  1787.000000  1746.000000  1761.000000  1759.250000  2990438   \n",
       "2020-04-15  1812.000000  1727.800049  1785.000000  1735.150024  4761399   \n",
       "2020-04-16  1764.900024  1675.050049  1709.949951  1716.050049  6245533   \n",
       "2020-04-17  1851.949951  1753.000000  1800.000000  1806.199951  9895823   \n",
       "2020-04-20  1830.000000  1802.500000  1830.000000  1818.650024  3244282   \n",
       "\n",
       "           Adj Close   Test  \n",
       "Date                         \n",
       "2020-04-13     Trade  Trade  \n",
       "2020-04-15     Trade  Trade  \n",
       "2020-04-16     Trade  Trade  \n",
       "2020-04-17     Trade  Trade  \n",
       "2020-04-20     Trade  Trade  "
      ]
     },
     "execution_count": 17,
     "metadata": {},
     "output_type": "execute_result"
    }
   ],
   "source": [
    "#############################################################\n",
    "################## Class Exercise 18 ########################\n",
    "#############################################################\n",
    "\n",
    "# Create a column called 'Test' in the pandas DataFrame df and initialize it to 0\n",
    "# Use a 'for' loop to set the value in 'Test' to 'Trade' for the last 50 rows\n",
    "\n",
    "# Create a Python list of close prices for the last 100 days using the np.random routine for a discrete \n",
    "# uniform distribution as shown\n",
    "# Create variables threshold_sell_price and threshold_buy_price and initialize them to 83 and 67 respectively.\n",
    "# Use a for loop and if statements to set up the above mentioned trading rules\n",
    "# Try the above by using an if-elif statement instead\n",
    "\n",
    "n_days = len(df)\n",
    "df['Test'] = 0 # Initializing a new column with zero\n",
    "\n",
    "for i in range(n_days - 50, n_days):\n",
    "    df.iloc[i, 6] = 'Trade'\n",
    "\n",
    "df.tail()"
   ]
  },
  {
   "cell_type": "code",
   "execution_count": 13,
   "metadata": {},
   "outputs": [
    {
     "name": "stdout",
     "output_type": "stream",
     "text": [
      "[81, 70, 69, 75, 69, 75, 67, 68, 75, 77, 79, 78, 66, 66, 79, 69, 84, 80, 83, 83, 77, 79, 73, 80, 66, 75, 74, 77, 77, 74, 83, 70, 73, 68, 72, 80, 77, 71, 77, 76, 70, 68, 77, 73, 82, 70, 78, 65, 82, 67, 78, 79, 71, 71, 65, 68, 82, 74, 76, 84, 80, 83, 79, 66, 66, 75, 69, 70, 67, 70, 75, 74, 74, 76, 84, 68, 77, 72, 74, 74, 82, 70, 68, 65, 65, 79, 83, 71, 73, 74, 68, 79, 69, 71, 68, 65, 69, 75, 80, 76]\n",
      "\n",
      "Day 12 closed at 66; buy at open on day 13\n",
      "Day 13 closed at 66; buy at open on day 14\n",
      "Day 16 closed at 84; sell at open on day 17\n",
      "Day 24 closed at 66; buy at open on day 25\n",
      "Day 47 closed at 65; buy at open on day 48\n",
      "Day 54 closed at 65; buy at open on day 55\n",
      "Day 59 closed at 84; sell at open on day 60\n",
      "Day 63 closed at 66; buy at open on day 64\n",
      "Day 64 closed at 66; buy at open on day 65\n",
      "Day 74 closed at 84; sell at open on day 75\n",
      "Day 83 closed at 65; buy at open on day 84\n",
      "Day 84 closed at 65; buy at open on day 85\n",
      "Day 95 closed at 65; buy at open on day 96\n"
     ]
    }
   ],
   "source": [
    "import numpy as np\n",
    "vedanta_close_prices = list(np.random.randint(low=65, high=85, size=100))\n",
    "threshold_sell_price = 83\n",
    "threshold_buy_price = 67\n",
    "print(vedanta_close_prices)\n",
    "print()\n",
    "for i, close_price in enumerate(vedanta_close_prices):\n",
    "    if close_price > threshold_sell_price:\n",
    "        print(\"Day {0} closed at {1}; sell at open on day {2}\".format(i, close_price, i+1))\n",
    "    elif close_price < threshold_buy_price:\n",
    "        print(\"Day {0} closed at {1}; buy at open on day {2}\".format(i, close_price, i+1)) \n",
    "    else:\n",
    "        continue"
   ]
  },
  {
   "cell_type": "code",
   "execution_count": 14,
   "metadata": {},
   "outputs": [
    {
     "name": "stdout",
     "output_type": "stream",
     "text": [
      "Adding 5 to the newly formed list\n",
      "Adding 6 to the newly formed list\n",
      "Adding 7 to the newly formed list\n",
      "Adding 8 to the newly formed list\n",
      "Adding 9 to the newly formed list\n"
     ]
    }
   ],
   "source": [
    "#############################################################\n",
    "################## Home Exercise 2 ##########################\n",
    "#############################################################\n",
    "\n",
    "# The below exercise will help you get a better grip on the mechanics of loops and conditional processes \n",
    "# Read each code block in the below cell, and try to work out the expected output\n",
    "# Then run it, and check what it actually is.\n",
    "# You can also try and deduce what the break and continue statements do \n",
    "# Go through Section 7.3 in the Python Handbook or the documentation to learn more about them\n",
    "\n",
    "elements = []\n",
    "\n",
    "for i in range(5, 10):\n",
    "    print(\"Adding {} to the newly formed list\".format(i))\n",
    "    elements.append(i)"
   ]
  },
  {
   "cell_type": "code",
   "execution_count": 15,
   "metadata": {},
   "outputs": [
    {
     "name": "stdout",
     "output_type": "stream",
     "text": [
      "0\n",
      "1\n",
      "2\n",
      "3\n",
      "5\n",
      "20\n",
      "21\n",
      "22\n",
      "23\n",
      "24\n",
      "Adding 5 to the newly formed list\n",
      "Adding 6 to the newly formed list\n",
      "Adding 7 to the newly formed list\n",
      "Adding 8 to the newly formed list\n",
      "Adding 9 to the newly formed list\n"
     ]
    }
   ],
   "source": [
    "# THIS IS PART OF HOME EXERCISE 2\n",
    "# PLEASE TRY THIS ON YOUR OWN TIME\n",
    "\n",
    "# Using break and continue in loops and conditional statements\n",
    "# When iterating through a sequence, you can exit the loop completely using break\n",
    "# and skip the current iteration using continue. See the example below.\n",
    "# Before running it, think about what the expected output would be.\n",
    "\n",
    "for i in range(10):\n",
    "    if i == 4:\n",
    "        continue\n",
    "    elif i == 6:\n",
    "        break\n",
    "    print(i)\n",
    "\n",
    "# the while statement (loops)\n",
    "# Repeat the action until a specified condition is met\n",
    "\n",
    "a = 20\n",
    "\n",
    "while a < 25:\n",
    "    print(a)\n",
    "    a = a + 1\n",
    "\n",
    "# You can use loops to build lists\n",
    "\n",
    "elements = []\n",
    "\n",
    "for i in range(5, 10):\n",
    "    print(\"Adding {} to the newly formed list\".format(i))\n",
    "    elements.append(i)"
   ]
  },
  {
   "cell_type": "markdown",
   "metadata": {},
   "source": [
    "#### References\n",
    "\n",
    "1. The Official Python documentation - https://docs.python.org/3/contents.html\n",
    "2. Python Basics - With Illustrations from the Financial Markets, Krishnamoorthy, V, Parmar, J and Pena, P M\n",
    "2. A Byte of Python, Swaroop CH - https://python.swaroopch.com/\n",
    "3. Learn Python the Hard Way, Zed Shaw - https://learnpythonthehardway.org/\n",
    "4. Jupyter Lab - http://jupyterlab.readthedocs.io/en/stable/\n",
    "6. `pandas` documentation - https://pandas.pydata.org/pandas-docs/stable/\n",
    "7. 10 minutes to `pandas` - https://pandas.pydata.org/pandas-docs/stable/user_guide/10min.html\n",
    "7. String Formatting in Python - https://docs.python.org/3/library/string.html#string-formatting\n",
    "8. Learning pandas, Michael Heydt - https://www.amazon.com/Learning-Pandas-Python-Discovery-Analysis/dp/1783985127\n",
    "9. Don't repeat yourself: https://en.wikipedia.org/wiki/Don%27t_repeat_yourself\n",
    "12. `Matplotlib` - https://matplotlib.org/api/pyplot_summary.html"
   ]
  }
 ],
 "metadata": {
  "kernelspec": {
   "display_name": "epat-venv",
   "language": "python",
   "name": "epat-venv"
  },
  "language_info": {
   "codemirror_mode": {
    "name": "ipython",
    "version": 3
   },
   "file_extension": ".py",
   "mimetype": "text/x-python",
   "name": "python",
   "nbconvert_exporter": "python",
   "pygments_lexer": "ipython3",
   "version": "3.8.10"
  }
 },
 "nbformat": 4,
 "nbformat_minor": 4
}
