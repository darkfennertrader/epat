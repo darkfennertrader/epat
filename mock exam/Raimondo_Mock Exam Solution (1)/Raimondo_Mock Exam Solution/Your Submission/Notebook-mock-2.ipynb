{
 "cells": [
  {
   "cell_type": "markdown",
   "metadata": {},
   "source": [
    "#### Calculate the daily logarithmic returns using the closing price of stock A and name the column as “Log_returns”."
   ]
  },
  {
   "cell_type": "code",
   "execution_count": 95,
   "metadata": {},
   "outputs": [],
   "source": [
    "import pandas as pd\n",
    "import numpy as np\n",
    "import matplotlib.pyplot as plt\n",
    "from IPython.core.interactiveshell import InteractiveShell\n",
    "InteractiveShell.ast_node_interactivity = \"all\""
   ]
  },
  {
   "cell_type": "code",
   "execution_count": 96,
   "metadata": {},
   "outputs": [],
   "source": [
    "df=pd.read_csv(\"Stock OHLC dataset.csv\")"
   ]
  },
  {
   "cell_type": "code",
   "execution_count": 97,
   "metadata": {},
   "outputs": [
    {
     "data": {
      "text/html": [
       "<div>\n",
       "<style scoped>\n",
       "    .dataframe tbody tr th:only-of-type {\n",
       "        vertical-align: middle;\n",
       "    }\n",
       "\n",
       "    .dataframe tbody tr th {\n",
       "        vertical-align: top;\n",
       "    }\n",
       "\n",
       "    .dataframe thead th {\n",
       "        text-align: right;\n",
       "    }\n",
       "</style>\n",
       "<table border=\"1\" class=\"dataframe\">\n",
       "  <thead>\n",
       "    <tr style=\"text-align: right;\">\n",
       "      <th></th>\n",
       "      <th>Date</th>\n",
       "      <th>Open</th>\n",
       "      <th>High</th>\n",
       "      <th>Low</th>\n",
       "      <th>Close</th>\n",
       "      <th>Adj Close</th>\n",
       "      <th>Volume</th>\n",
       "    </tr>\n",
       "  </thead>\n",
       "  <tbody>\n",
       "    <tr>\n",
       "      <th>0</th>\n",
       "      <td>6/1/2012</td>\n",
       "      <td>1106.949951</td>\n",
       "      <td>1118.599976</td>\n",
       "      <td>1071.000000</td>\n",
       "      <td>1074.849976</td>\n",
       "      <td>1033.370483</td>\n",
       "      <td>879733</td>\n",
       "    </tr>\n",
       "    <tr>\n",
       "      <th>1</th>\n",
       "      <td>6/4/2012</td>\n",
       "      <td>1069.699951</td>\n",
       "      <td>1078.000000</td>\n",
       "      <td>1051.000000</td>\n",
       "      <td>1067.500000</td>\n",
       "      <td>1026.303955</td>\n",
       "      <td>548592</td>\n",
       "    </tr>\n",
       "    <tr>\n",
       "      <th>2</th>\n",
       "      <td>6/5/2012</td>\n",
       "      <td>1077.500000</td>\n",
       "      <td>1089.900024</td>\n",
       "      <td>1058.300049</td>\n",
       "      <td>1079.000000</td>\n",
       "      <td>1037.360229</td>\n",
       "      <td>605028</td>\n",
       "    </tr>\n",
       "    <tr>\n",
       "      <th>3</th>\n",
       "      <td>6/6/2012</td>\n",
       "      <td>1079.900024</td>\n",
       "      <td>1115.800049</td>\n",
       "      <td>1076.349976</td>\n",
       "      <td>1107.949951</td>\n",
       "      <td>1065.193115</td>\n",
       "      <td>925831</td>\n",
       "    </tr>\n",
       "    <tr>\n",
       "      <th>4</th>\n",
       "      <td>6/7/2012</td>\n",
       "      <td>1120.000000</td>\n",
       "      <td>1146.400024</td>\n",
       "      <td>1110.599976</td>\n",
       "      <td>1143.250000</td>\n",
       "      <td>1099.130859</td>\n",
       "      <td>984712</td>\n",
       "    </tr>\n",
       "  </tbody>\n",
       "</table>\n",
       "</div>"
      ],
      "text/plain": [
       "       Date         Open         High          Low        Close    Adj Close  \\\n",
       "0  6/1/2012  1106.949951  1118.599976  1071.000000  1074.849976  1033.370483   \n",
       "1  6/4/2012  1069.699951  1078.000000  1051.000000  1067.500000  1026.303955   \n",
       "2  6/5/2012  1077.500000  1089.900024  1058.300049  1079.000000  1037.360229   \n",
       "3  6/6/2012  1079.900024  1115.800049  1076.349976  1107.949951  1065.193115   \n",
       "4  6/7/2012  1120.000000  1146.400024  1110.599976  1143.250000  1099.130859   \n",
       "\n",
       "   Volume  \n",
       "0  879733  \n",
       "1  548592  \n",
       "2  605028  \n",
       "3  925831  \n",
       "4  984712  "
      ]
     },
     "execution_count": 97,
     "metadata": {},
     "output_type": "execute_result"
    }
   ],
   "source": [
    "df.head()"
   ]
  },
  {
   "cell_type": "code",
   "execution_count": 98,
   "metadata": {},
   "outputs": [
    {
     "data": {
      "text/html": [
       "<div>\n",
       "<style scoped>\n",
       "    .dataframe tbody tr th:only-of-type {\n",
       "        vertical-align: middle;\n",
       "    }\n",
       "\n",
       "    .dataframe tbody tr th {\n",
       "        vertical-align: top;\n",
       "    }\n",
       "\n",
       "    .dataframe thead th {\n",
       "        text-align: right;\n",
       "    }\n",
       "</style>\n",
       "<table border=\"1\" class=\"dataframe\">\n",
       "  <thead>\n",
       "    <tr style=\"text-align: right;\">\n",
       "      <th></th>\n",
       "      <th>Date</th>\n",
       "      <th>Open</th>\n",
       "      <th>High</th>\n",
       "      <th>Low</th>\n",
       "      <th>Close</th>\n",
       "      <th>Adj Close</th>\n",
       "      <th>Volume</th>\n",
       "      <th>Log_returns</th>\n",
       "    </tr>\n",
       "  </thead>\n",
       "  <tbody>\n",
       "    <tr>\n",
       "      <th>0</th>\n",
       "      <td>6/1/2012</td>\n",
       "      <td>1106.949951</td>\n",
       "      <td>1118.599976</td>\n",
       "      <td>1071.000000</td>\n",
       "      <td>1074.849976</td>\n",
       "      <td>1033.370483</td>\n",
       "      <td>879733</td>\n",
       "      <td>NaN</td>\n",
       "    </tr>\n",
       "    <tr>\n",
       "      <th>1</th>\n",
       "      <td>6/4/2012</td>\n",
       "      <td>1069.699951</td>\n",
       "      <td>1078.000000</td>\n",
       "      <td>1051.000000</td>\n",
       "      <td>1067.500000</td>\n",
       "      <td>1026.303955</td>\n",
       "      <td>548592</td>\n",
       "      <td>0.999011</td>\n",
       "    </tr>\n",
       "    <tr>\n",
       "      <th>2</th>\n",
       "      <td>6/5/2012</td>\n",
       "      <td>1077.500000</td>\n",
       "      <td>1089.900024</td>\n",
       "      <td>1058.300049</td>\n",
       "      <td>1079.000000</td>\n",
       "      <td>1037.360229</td>\n",
       "      <td>605028</td>\n",
       "      <td>1.001545</td>\n",
       "    </tr>\n",
       "    <tr>\n",
       "      <th>3</th>\n",
       "      <td>6/6/2012</td>\n",
       "      <td>1079.900024</td>\n",
       "      <td>1115.800049</td>\n",
       "      <td>1076.349976</td>\n",
       "      <td>1107.949951</td>\n",
       "      <td>1065.193115</td>\n",
       "      <td>925831</td>\n",
       "      <td>1.003813</td>\n",
       "    </tr>\n",
       "    <tr>\n",
       "      <th>4</th>\n",
       "      <td>6/7/2012</td>\n",
       "      <td>1120.000000</td>\n",
       "      <td>1146.400024</td>\n",
       "      <td>1110.599976</td>\n",
       "      <td>1143.250000</td>\n",
       "      <td>1099.130859</td>\n",
       "      <td>984712</td>\n",
       "      <td>1.004499</td>\n",
       "    </tr>\n",
       "  </tbody>\n",
       "</table>\n",
       "</div>"
      ],
      "text/plain": [
       "       Date         Open         High          Low        Close    Adj Close  \\\n",
       "0  6/1/2012  1106.949951  1118.599976  1071.000000  1074.849976  1033.370483   \n",
       "1  6/4/2012  1069.699951  1078.000000  1051.000000  1067.500000  1026.303955   \n",
       "2  6/5/2012  1077.500000  1089.900024  1058.300049  1079.000000  1037.360229   \n",
       "3  6/6/2012  1079.900024  1115.800049  1076.349976  1107.949951  1065.193115   \n",
       "4  6/7/2012  1120.000000  1146.400024  1110.599976  1143.250000  1099.130859   \n",
       "\n",
       "   Volume  Log_returns  \n",
       "0  879733          NaN  \n",
       "1  548592     0.999011  \n",
       "2  605028     1.001545  \n",
       "3  925831     1.003813  \n",
       "4  984712     1.004499  "
      ]
     },
     "execution_count": 98,
     "metadata": {},
     "output_type": "execute_result"
    }
   ],
   "source": [
    "df[\"Log_returns\"] = np.log(df[\"Adj Close\"])/np.log(df[\"Adj Close\"]).shift(1)\n",
    "df.head()"
   ]
  },
  {
   "cell_type": "code",
   "execution_count": 99,
   "metadata": {},
   "outputs": [],
   "source": [
    "df[\"Date\"] = pd.to_datetime(df[\"Date\"])\n",
    "df=df.set_index(\"Date\")"
   ]
  },
  {
   "cell_type": "code",
   "execution_count": 100,
   "metadata": {},
   "outputs": [],
   "source": [
    "#df.index"
   ]
  },
  {
   "cell_type": "markdown",
   "metadata": {},
   "source": [
    "#### Create a column called “Cum_returns” and compute cumulative returns in this column."
   ]
  },
  {
   "cell_type": "code",
   "execution_count": 101,
   "metadata": {},
   "outputs": [
    {
     "data": {
      "text/html": [
       "<div>\n",
       "<style scoped>\n",
       "    .dataframe tbody tr th:only-of-type {\n",
       "        vertical-align: middle;\n",
       "    }\n",
       "\n",
       "    .dataframe tbody tr th {\n",
       "        vertical-align: top;\n",
       "    }\n",
       "\n",
       "    .dataframe thead th {\n",
       "        text-align: right;\n",
       "    }\n",
       "</style>\n",
       "<table border=\"1\" class=\"dataframe\">\n",
       "  <thead>\n",
       "    <tr style=\"text-align: right;\">\n",
       "      <th></th>\n",
       "      <th>Open</th>\n",
       "      <th>High</th>\n",
       "      <th>Low</th>\n",
       "      <th>Close</th>\n",
       "      <th>Adj Close</th>\n",
       "      <th>Volume</th>\n",
       "      <th>Log_returns</th>\n",
       "      <th>Cum_returns</th>\n",
       "    </tr>\n",
       "    <tr>\n",
       "      <th>Date</th>\n",
       "      <th></th>\n",
       "      <th></th>\n",
       "      <th></th>\n",
       "      <th></th>\n",
       "      <th></th>\n",
       "      <th></th>\n",
       "      <th></th>\n",
       "      <th></th>\n",
       "    </tr>\n",
       "  </thead>\n",
       "  <tbody>\n",
       "    <tr>\n",
       "      <th>2012-06-01</th>\n",
       "      <td>1106.949951</td>\n",
       "      <td>1118.599976</td>\n",
       "      <td>1071.000000</td>\n",
       "      <td>1074.849976</td>\n",
       "      <td>1033.370483</td>\n",
       "      <td>879733</td>\n",
       "      <td>NaN</td>\n",
       "      <td>NaN</td>\n",
       "    </tr>\n",
       "    <tr>\n",
       "      <th>2012-06-04</th>\n",
       "      <td>1069.699951</td>\n",
       "      <td>1078.000000</td>\n",
       "      <td>1051.000000</td>\n",
       "      <td>1067.500000</td>\n",
       "      <td>1026.303955</td>\n",
       "      <td>548592</td>\n",
       "      <td>0.999011</td>\n",
       "      <td>0.999011</td>\n",
       "    </tr>\n",
       "    <tr>\n",
       "      <th>2012-06-05</th>\n",
       "      <td>1077.500000</td>\n",
       "      <td>1089.900024</td>\n",
       "      <td>1058.300049</td>\n",
       "      <td>1079.000000</td>\n",
       "      <td>1037.360229</td>\n",
       "      <td>605028</td>\n",
       "      <td>1.001545</td>\n",
       "      <td>2.000557</td>\n",
       "    </tr>\n",
       "    <tr>\n",
       "      <th>2012-06-06</th>\n",
       "      <td>1079.900024</td>\n",
       "      <td>1115.800049</td>\n",
       "      <td>1076.349976</td>\n",
       "      <td>1107.949951</td>\n",
       "      <td>1065.193115</td>\n",
       "      <td>925831</td>\n",
       "      <td>1.003813</td>\n",
       "      <td>3.004369</td>\n",
       "    </tr>\n",
       "    <tr>\n",
       "      <th>2012-06-07</th>\n",
       "      <td>1120.000000</td>\n",
       "      <td>1146.400024</td>\n",
       "      <td>1110.599976</td>\n",
       "      <td>1143.250000</td>\n",
       "      <td>1099.130859</td>\n",
       "      <td>984712</td>\n",
       "      <td>1.004499</td>\n",
       "      <td>4.008869</td>\n",
       "    </tr>\n",
       "  </tbody>\n",
       "</table>\n",
       "</div>"
      ],
      "text/plain": [
       "                   Open         High          Low        Close    Adj Close  \\\n",
       "Date                                                                          \n",
       "2012-06-01  1106.949951  1118.599976  1071.000000  1074.849976  1033.370483   \n",
       "2012-06-04  1069.699951  1078.000000  1051.000000  1067.500000  1026.303955   \n",
       "2012-06-05  1077.500000  1089.900024  1058.300049  1079.000000  1037.360229   \n",
       "2012-06-06  1079.900024  1115.800049  1076.349976  1107.949951  1065.193115   \n",
       "2012-06-07  1120.000000  1146.400024  1110.599976  1143.250000  1099.130859   \n",
       "\n",
       "            Volume  Log_returns  Cum_returns  \n",
       "Date                                          \n",
       "2012-06-01  879733          NaN          NaN  \n",
       "2012-06-04  548592     0.999011     0.999011  \n",
       "2012-06-05  605028     1.001545     2.000557  \n",
       "2012-06-06  925831     1.003813     3.004369  \n",
       "2012-06-07  984712     1.004499     4.008869  "
      ]
     },
     "execution_count": 101,
     "metadata": {},
     "output_type": "execute_result"
    }
   ],
   "source": [
    "df[\"Cum_returns\"] = df[\"Log_returns\"].cumsum(axis=0)\n",
    "df.head()"
   ]
  },
  {
   "cell_type": "code",
   "execution_count": 102,
   "metadata": {},
   "outputs": [
    {
     "data": {
      "image/png": "[encoded data removed]",
      "text/plain": [
       "<Figure size 720x432 with 1 Axes>"
      ]
     },
     "metadata": {
      "needs_background": "light"
     },
     "output_type": "display_data"
    }
   ],
   "source": [
    "df[\"Log_returns\"].hist(figsize=(10,6));"
   ]
  },
  {
   "cell_type": "markdown",
   "metadata": {},
   "source": [
    "#### What is the cumulative return value on \"1-Sep-2016\"?"
   ]
  },
  {
   "cell_type": "code",
   "execution_count": 103,
   "metadata": {},
   "outputs": [
    {
     "data": {
      "text/plain": [
       "1045.2076421177412"
      ]
     },
     "execution_count": 103,
     "metadata": {},
     "output_type": "execute_result"
    }
   ],
   "source": [
    "df.loc[\"2016-09-01\", \"Cum_returns\"]"
   ]
  },
  {
   "cell_type": "code",
   "execution_count": 105,
   "metadata": {},
   "outputs": [
    {
     "data": {
      "text/html": [
       "<div>\n",
       "<style scoped>\n",
       "    .dataframe tbody tr th:only-of-type {\n",
       "        vertical-align: middle;\n",
       "    }\n",
       "\n",
       "    .dataframe tbody tr th {\n",
       "        vertical-align: top;\n",
       "    }\n",
       "\n",
       "    .dataframe thead th {\n",
       "        text-align: right;\n",
       "    }\n",
       "</style>\n",
       "<table border=\"1\" class=\"dataframe\">\n",
       "  <thead>\n",
       "    <tr style=\"text-align: right;\">\n",
       "      <th></th>\n",
       "      <th>Open</th>\n",
       "      <th>High</th>\n",
       "      <th>Low</th>\n",
       "      <th>Close</th>\n",
       "      <th>Adj Close</th>\n",
       "      <th>Volume</th>\n",
       "      <th>Log_returns</th>\n",
       "      <th>Cum_returns</th>\n",
       "      <th>Simple_Returns</th>\n",
       "    </tr>\n",
       "    <tr>\n",
       "      <th>Date</th>\n",
       "      <th></th>\n",
       "      <th></th>\n",
       "      <th></th>\n",
       "      <th></th>\n",
       "      <th></th>\n",
       "      <th></th>\n",
       "      <th></th>\n",
       "      <th></th>\n",
       "      <th></th>\n",
       "    </tr>\n",
       "  </thead>\n",
       "  <tbody>\n",
       "    <tr>\n",
       "      <th>2012-06-01</th>\n",
       "      <td>1106.949951</td>\n",
       "      <td>1118.599976</td>\n",
       "      <td>1071.000000</td>\n",
       "      <td>1074.849976</td>\n",
       "      <td>1033.370483</td>\n",
       "      <td>879733</td>\n",
       "      <td>NaN</td>\n",
       "      <td>NaN</td>\n",
       "      <td>NaN</td>\n",
       "    </tr>\n",
       "    <tr>\n",
       "      <th>2012-06-04</th>\n",
       "      <td>1069.699951</td>\n",
       "      <td>1078.000000</td>\n",
       "      <td>1051.000000</td>\n",
       "      <td>1067.500000</td>\n",
       "      <td>1026.303955</td>\n",
       "      <td>548592</td>\n",
       "      <td>0.999011</td>\n",
       "      <td>0.999011</td>\n",
       "      <td>-0.006838</td>\n",
       "    </tr>\n",
       "    <tr>\n",
       "      <th>2012-06-05</th>\n",
       "      <td>1077.500000</td>\n",
       "      <td>1089.900024</td>\n",
       "      <td>1058.300049</td>\n",
       "      <td>1079.000000</td>\n",
       "      <td>1037.360229</td>\n",
       "      <td>605028</td>\n",
       "      <td>1.001545</td>\n",
       "      <td>2.000557</td>\n",
       "      <td>0.010773</td>\n",
       "    </tr>\n",
       "    <tr>\n",
       "      <th>2012-06-06</th>\n",
       "      <td>1079.900024</td>\n",
       "      <td>1115.800049</td>\n",
       "      <td>1076.349976</td>\n",
       "      <td>1107.949951</td>\n",
       "      <td>1065.193115</td>\n",
       "      <td>925831</td>\n",
       "      <td>1.003813</td>\n",
       "      <td>3.004369</td>\n",
       "      <td>0.026830</td>\n",
       "    </tr>\n",
       "    <tr>\n",
       "      <th>2012-06-07</th>\n",
       "      <td>1120.000000</td>\n",
       "      <td>1146.400024</td>\n",
       "      <td>1110.599976</td>\n",
       "      <td>1143.250000</td>\n",
       "      <td>1099.130859</td>\n",
       "      <td>984712</td>\n",
       "      <td>1.004499</td>\n",
       "      <td>4.008869</td>\n",
       "      <td>0.031861</td>\n",
       "    </tr>\n",
       "  </tbody>\n",
       "</table>\n",
       "</div>"
      ],
      "text/plain": [
       "                   Open         High          Low        Close    Adj Close  \\\n",
       "Date                                                                          \n",
       "2012-06-01  1106.949951  1118.599976  1071.000000  1074.849976  1033.370483   \n",
       "2012-06-04  1069.699951  1078.000000  1051.000000  1067.500000  1026.303955   \n",
       "2012-06-05  1077.500000  1089.900024  1058.300049  1079.000000  1037.360229   \n",
       "2012-06-06  1079.900024  1115.800049  1076.349976  1107.949951  1065.193115   \n",
       "2012-06-07  1120.000000  1146.400024  1110.599976  1143.250000  1099.130859   \n",
       "\n",
       "            Volume  Log_returns  Cum_returns  Simple_Returns  \n",
       "Date                                                          \n",
       "2012-06-01  879733          NaN          NaN             NaN  \n",
       "2012-06-04  548592     0.999011     0.999011       -0.006838  \n",
       "2012-06-05  605028     1.001545     2.000557        0.010773  \n",
       "2012-06-06  925831     1.003813     3.004369        0.026830  \n",
       "2012-06-07  984712     1.004499     4.008869        0.031861  "
      ]
     },
     "execution_count": 105,
     "metadata": {},
     "output_type": "execute_result"
    }
   ],
   "source": [
    "df[\"Simple_Returns\"] = df[\"Adj Close\"].pct_change()\n",
    "df.head()"
   ]
  },
  {
   "cell_type": "code",
   "execution_count": 110,
   "metadata": {},
   "outputs": [
    {
     "data": {
      "text/plain": [
       "1.6010518607316788"
      ]
     },
     "execution_count": 110,
     "metadata": {},
     "output_type": "execute_result"
    }
   ],
   "source": [
    "sharpe_ratio = df[\"Simple_Returns\"].mean()/df[\"Simple_Returns\"].std()* np.sqrt(252)\n",
    "sharpe_ratio"
   ]
  },
  {
   "cell_type": "code",
   "execution_count": null,
   "metadata": {},
   "outputs": [],
   "source": []
  }
 ],
 "metadata": {
  "kernelspec": {
   "display_name": "Python 3",
   "language": "python",
   "name": "python3"
  },
  "language_info": {
   "codemirror_mode": {
    "name": "ipython",
    "version": 3
   },
   "file_extension": ".py",
   "mimetype": "text/x-python",
   "name": "python",
   "nbconvert_exporter": "python",
   "pygments_lexer": "ipython3",
   "version": "3.6.7"
  }
 },
 "nbformat": 4,
 "nbformat_minor": 2
}
