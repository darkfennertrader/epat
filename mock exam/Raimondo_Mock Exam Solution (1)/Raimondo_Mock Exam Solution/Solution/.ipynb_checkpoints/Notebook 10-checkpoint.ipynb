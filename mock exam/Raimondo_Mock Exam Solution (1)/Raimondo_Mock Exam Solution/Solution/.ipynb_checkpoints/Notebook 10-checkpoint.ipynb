{
 "cells": [
  {
   "cell_type": "markdown",
   "metadata": {},
   "source": [
    "##### Difference between Open Interest and Volume"
   ]
  },
  {
   "cell_type": "markdown",
   "metadata": {},
   "source": [
    "Write your answer here\n",
    "\n",
    "<br>Volume is the number of contracts traded in a given period where as open interest is the total number of contracts that are still active in the market.\n",
    "<br>\n",
    "<br>\n",
    "<br>"
   ]
  },
  {
   "cell_type": "markdown",
   "metadata": {},
   "source": [
    "##### Kelly Criterion and its application"
   ]
  },
  {
   "cell_type": "markdown",
   "metadata": {},
   "source": [
    "Write your answer here\n",
    "<br>\n",
    "<br>Kelly criterion is using in managing position size in trading. it helps in calculating a kelly number which is a perccentage number based on the previous history of profit and loss on that given trade.\n",
    "<br>\n",
    "<br>"
   ]
  },
  {
   "cell_type": "markdown",
   "metadata": {},
   "source": [
    "##### Pegging and Discretion orders and their characteristics"
   ]
  },
  {
   "cell_type": "markdown",
   "metadata": {},
   "source": [
    "Write your answer here\n",
    "<br>\n",
    "<br>\n",
    "Discretion order is order when broker does transactions on behalf of its customer. Broker can help its customer to get the best price possible.\n",
    "\n",
    "\n",
    "Pegging order are order using which we can peg our trade to the best bid or ask price in the market. Lets say if we peg a buy order with best big price 2 levels below this means that we would place a limit order as the 2 best price in the market and such kinds of orders only get executed if there a relativly big order on the opposite side of the trade."
   ]
  },
  {
   "cell_type": "markdown",
   "metadata": {},
   "source": [
    "###### ETFs and the problems its address with respect to mutual funds"
   ]
  },
  {
   "cell_type": "markdown",
   "metadata": {},
   "source": [
    "Write your answer here\n",
    "<br>\n",
    "\n",
    "ETF or exchange traded funds are traded instruments in stock exchange.\n",
    "Due to ETF being openly traded instrument in market the admin cost in ETF is negligible compared to a mutual fund.\n",
    "In mutual fund when a investor exits the mutual fund the cost for selling the shares, brokerage cost is shared over all the other investors as well. In ETF the cost of selling the shares is bourn only by the investor selling the ETF."
   ]
  }
 ],
 "metadata": {
  "kernelspec": {
   "display_name": "Python 3",
   "language": "python",
   "name": "python3"
  },
  "language_info": {
   "codemirror_mode": {
    "name": "ipython",
    "version": 3
   },
   "file_extension": ".py",
   "mimetype": "text/x-python",
   "name": "python",
   "nbconvert_exporter": "python",
   "pygments_lexer": "ipython3",
   "version": "3.7.6"
  }
 },
 "nbformat": 4,
 "nbformat_minor": 2
}
