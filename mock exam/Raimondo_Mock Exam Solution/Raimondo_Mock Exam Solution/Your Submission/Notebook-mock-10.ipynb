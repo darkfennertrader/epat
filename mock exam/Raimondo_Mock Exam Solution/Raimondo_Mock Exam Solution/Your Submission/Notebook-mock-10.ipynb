{
 "cells": [
  {
   "cell_type": "markdown",
   "metadata": {},
   "source": [
    "##### Difference between Open Interest and Volume"
   ]
  },
  {
   "cell_type": "markdown",
   "metadata": {},
   "source": [
    "Open Interests are when new contracts are created. Volume is the total number of operations irrespective of the newly created contracts made during a period (e.g. a day). Volume is always greater than Open Interests"
   ]
  },
  {
   "cell_type": "markdown",
   "metadata": {},
   "source": [
    "##### Kelly Criterion and its application"
   ]
  },
  {
   "cell_type": "markdown",
   "metadata": {},
   "source": [
    "Kelly Criterion is used for position sizing during a trade. You need to understand how much money to put into a trade. It gives you the right size for an optimal growth (it maximizes the compunded earnings over a period). It is often considered too aggressive by traders due to high risk exposure. Therefore it is often replaced by the Half Kelly method."
   ]
  },
  {
   "cell_type": "markdown",
   "metadata": {},
   "source": [
    "##### Pegging and Discretion orders and their characteristics"
   ]
  },
  {
   "cell_type": "markdown",
   "metadata": {},
   "source": [
    "Pegging orders are created by market makers in order to maintain typycally a constant distance of 1/2 cents from the best ask (by subtracting a cent) or best bid (by summing a cent) in the order book. This strategy can be passive if it is done in this way. It can also more aggressive by adding a discretionary order (e.g. by adding/subtracting 10/20 cents from the pegged order)."
   ]
  },
  {
   "cell_type": "markdown",
   "metadata": {},
   "source": [
    "###### ETFs and the problems its address with respect to mutual funds"
   ]
  },
  {
   "cell_type": "markdown",
   "metadata": {},
   "source": [
    "ETF addresses two problems that makes them more appealing with respect to Mutual Funds.\n",
    "1) There is no sharing of costs in case an investor decide to withdraws their money from the Fund\n",
    "2) It is very efficient in terms of taxes since it is a neutral strategy (no gain and no losses) it is just the creation/redemption of ETF.\n",
    "As a sidenote it also makes the market more efficient since it enables arbitrage opportunities to the Authorized Participants (AP)"
   ]
  },
  {
   "cell_type": "code",
   "execution_count": null,
   "metadata": {},
   "outputs": [],
   "source": []
  }
 ],
 "metadata": {
  "kernelspec": {
   "display_name": "Python 3 (ipykernel)",
   "language": "python",
   "name": "python3"
  },
  "language_info": {
   "codemirror_mode": {
    "name": "ipython",
    "version": 3
   },
   "file_extension": ".py",
   "mimetype": "text/x-python",
   "name": "python",
   "nbconvert_exporter": "python",
   "pygments_lexer": "ipython3",
   "version": "3.8.10"
  }
 },
 "nbformat": 4,
 "nbformat_minor": 4
}
