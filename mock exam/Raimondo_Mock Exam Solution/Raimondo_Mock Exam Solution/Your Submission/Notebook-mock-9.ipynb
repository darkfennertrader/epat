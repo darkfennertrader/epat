{
 "cells": [
  {
   "cell_type": "markdown",
   "metadata": {},
   "source": [
    "First method: is the simple Moving Average of the price and incorporates only the price and not the volume\n",
    "Second Method: this is the Volume Weighted Average Price, often considered by HFT traders as Fair Value. it is less a volatile indicator.\n",
    "Third Method: measures the interaction between bid and ask spread\n",
    "<hr>"
   ]
  }
 ],
 "metadata": {
  "kernelspec": {
   "display_name": "Python 3",
   "language": "python",
   "name": "python3"
  },
  "language_info": {
   "codemirror_mode": {
    "name": "ipython",
    "version": 3
   },
   "file_extension": ".py",
   "mimetype": "text/x-python",
   "name": "python",
   "nbconvert_exporter": "python",
   "pygments_lexer": "ipython3",
   "version": "3.6.7"
  }
 },
 "nbformat": 4,
 "nbformat_minor": 2
}
