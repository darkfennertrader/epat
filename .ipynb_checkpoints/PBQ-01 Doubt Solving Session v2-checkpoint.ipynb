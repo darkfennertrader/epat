{
 "cells": [
  {
   "cell_type": "markdown",
   "metadata": {},
   "source": [
    "<img src=\"https://dt99qig9iutro.cloudfront.net/production/images/header-logo-green.png\" alt=\"QuantInsti Logo\">"
   ]
  },
  {
   "cell_type": "markdown",
   "metadata": {},
   "source": [
    "<h1 style=\"text-align:center;\"> PBQ-01 Doubt Solving Session </h1>\n",
    "\n",
    "<h3 style=\"text-align:center;\"> Author: Jay Parmar </h3>\n",
    "\n",
    "<h5 style=\"text-align:center;\"> Modified on: 16/02/2022 </h5>"
   ]
  },
  {
   "cell_type": "markdown",
   "metadata": {},
   "source": [
    "### Today's Agenda\n",
    "\n",
    "- Common Doubts\n",
    "    - Importing Python Libraries\n",
    "    - Magic Commands in Jupyter Environment\n",
    "    - How to change Working Directory\n",
    "    - When to use which Brackets\n",
    "\n",
    "##### Optional Topics\n",
    "- Basic Plotting using Matplotlib Library\n",
    "- List of Python Libraries\n",
    "- Difference between Jupyter Notebook and JupyterLab"
   ]
  },
  {
   "cell_type": "code",
   "execution_count": 1,
   "metadata": {},
   "outputs": [],
   "source": [
    "import warnings\n",
    "\n",
    "warnings.filterwarnings('ignore')"
   ]
  },
  {
   "cell_type": "markdown",
   "metadata": {},
   "source": [
    "## Importing Python Libraries"
   ]
  },
  {
   "cell_type": "code",
   "execution_count": 2,
   "metadata": {},
   "outputs": [
    {
     "name": "stdout",
     "output_type": "stream",
     "text": [
      "Requirement already satisfied: pandas in ./venv/lib/python3.8/site-packages (1.4.2)\n",
      "Requirement already satisfied: numpy>=1.18.5; platform_machine != \"aarch64\" and platform_machine != \"arm64\" and python_version < \"3.10\" in ./venv/lib/python3.8/site-packages (from pandas) (1.22.4)\n",
      "Requirement already satisfied: python-dateutil>=2.8.1 in ./venv/lib/python3.8/site-packages (from pandas) (2.8.2)\n",
      "Requirement already satisfied: pytz>=2020.1 in ./venv/lib/python3.8/site-packages (from pandas) (2022.1)\n",
      "Requirement already satisfied: six>=1.5 in ./venv/lib/python3.8/site-packages (from python-dateutil>=2.8.1->pandas) (1.16.0)\n"
     ]
    }
   ],
   "source": [
    "# This is one time process\n",
    "!pip install pandas"
   ]
  },
  {
   "cell_type": "code",
   "execution_count": 5,
   "metadata": {},
   "outputs": [],
   "source": [
    "import pandas"
   ]
  },
  {
   "cell_type": "markdown",
   "metadata": {},
   "source": [
    "##### Method 1: Import whole library without an alias\n",
    "\n",
    "```python\n",
    "import yfinance\n",
    "```"
   ]
  },
  {
   "cell_type": "code",
   "execution_count": 10,
   "metadata": {},
   "outputs": [],
   "source": [
    "# Method 1\n",
    "import pandas"
   ]
  },
  {
   "cell_type": "code",
   "execution_count": 11,
   "metadata": {},
   "outputs": [
    {
     "name": "stdout",
     "output_type": "stream",
     "text": [
      "Empty DataFrame\n",
      "Columns: []\n",
      "Index: []\n"
     ]
    }
   ],
   "source": [
    "# Create an empty dataframe\n",
    "df = pandas.DataFrame()\n",
    "\n",
    "print(df)"
   ]
  },
  {
   "cell_type": "code",
   "execution_count": 12,
   "metadata": {},
   "outputs": [
    {
     "name": "stdout",
     "output_type": "stream",
     "text": [
      "Series([], dtype: float64)\n"
     ]
    }
   ],
   "source": [
    "# Create an empty Series\n",
    "s = pandas.Series()\n",
    "\n",
    "print(s)"
   ]
  },
  {
   "cell_type": "code",
   "execution_count": 13,
   "metadata": {},
   "outputs": [],
   "source": [
    "#import mvo_python_optimizer"
   ]
  },
  {
   "cell_type": "markdown",
   "metadata": {},
   "source": [
    "##### Method 2: Import whole library with an alias\n",
    "\n",
    "```python\n",
    "import yfinance as yf\n",
    "```"
   ]
  },
  {
   "cell_type": "code",
   "execution_count": 14,
   "metadata": {},
   "outputs": [],
   "source": [
    "# Method 2\n",
    "import pandas as pd"
   ]
  },
  {
   "cell_type": "code",
   "execution_count": 15,
   "metadata": {},
   "outputs": [
    {
     "name": "stdout",
     "output_type": "stream",
     "text": [
      "Empty DataFrame\n",
      "Columns: []\n",
      "Index: []\n"
     ]
    }
   ],
   "source": [
    "# Create an empty dataframe\n",
    "df = pd.DataFrame()\n",
    "\n",
    "# df = pandas.DataFrame()\n",
    "\n",
    "print(df)"
   ]
  },
  {
   "cell_type": "code",
   "execution_count": 16,
   "metadata": {},
   "outputs": [
    {
     "name": "stdout",
     "output_type": "stream",
     "text": [
      "Series([], dtype: float64)\n"
     ]
    }
   ],
   "source": [
    "# Create an empyt series\n",
    "s = pd.Series()\n",
    "\n",
    "print(s)"
   ]
  },
  {
   "cell_type": "markdown",
   "metadata": {},
   "source": [
    "##### Method 3: Import all modules from a library as it is without aliasing them\n",
    "\n",
    "```python\n",
    "from yfinance import *\n",
    "```"
   ]
  },
  {
   "cell_type": "code",
   "execution_count": 17,
   "metadata": {},
   "outputs": [],
   "source": [
    "# Method 3\n",
    "from pandas import *"
   ]
  },
  {
   "cell_type": "code",
   "execution_count": 18,
   "metadata": {},
   "outputs": [
    {
     "name": "stdout",
     "output_type": "stream",
     "text": [
      "Empty DataFrame\n",
      "Columns: []\n",
      "Index: []\n"
     ]
    }
   ],
   "source": [
    "# Create an empty dataframe\n",
    "df = DataFrame()\n",
    "\n",
    "print(df)"
   ]
  },
  {
   "cell_type": "code",
   "execution_count": 19,
   "metadata": {},
   "outputs": [
    {
     "name": "stdout",
     "output_type": "stream",
     "text": [
      "Series([], dtype: float64)\n"
     ]
    }
   ],
   "source": [
    "# Create an empty series\n",
    "s = Series()\n",
    "\n",
    "print(s)"
   ]
  },
  {
   "cell_type": "code",
   "execution_count": 29,
   "metadata": {},
   "outputs": [
    {
     "name": "stdout",
     "output_type": "stream",
     "text": [
      "[*********************100%***********************]  1 of 1 completed\n",
      "                Open      High       Low     Close  Adj Close     Volume\n",
      "Date                                                                    \n",
      "1980-12-12  0.128348  0.128906  0.128348  0.128348   0.100178  469033600\n",
      "1980-12-15  0.122210  0.122210  0.121652  0.121652   0.094952  175884800\n",
      "1980-12-16  0.113281  0.113281  0.112723  0.112723   0.087983  105728000\n",
      "1980-12-17  0.115513  0.116071  0.115513  0.115513   0.090160   86441600\n",
      "1980-12-18  0.118862  0.119420  0.118862  0.118862   0.092774   73449600\n",
      "<class 'pandas.core.frame.DataFrame'>\n"
     ]
    }
   ],
   "source": [
    "import yfinance as yf\n",
    "\n",
    "data=yf.download(\"AAPL\")\n",
    "print(data.head())\n",
    "print(type(data))"
   ]
  },
  {
   "cell_type": "markdown",
   "metadata": {},
   "source": [
    "This method of importing libraries in Python is ***not*** recommended."
   ]
  },
  {
   "cell_type": "markdown",
   "metadata": {},
   "source": [
    "##### Method 4: Import a specific module/class from a library\n",
    "\n",
    "```python\n",
    "from yfinance import download\n",
    "```"
   ]
  },
  {
   "cell_type": "code",
   "execution_count": 30,
   "metadata": {},
   "outputs": [],
   "source": [
    "# Method 4\n",
    "from pandas import DataFrame\n",
    "from pandas import Series\n",
    "from pandas import concat"
   ]
  },
  {
   "cell_type": "code",
   "execution_count": 34,
   "metadata": {},
   "outputs": [],
   "source": [
    "#dir(pandas)"
   ]
  },
  {
   "cell_type": "code",
   "execution_count": 31,
   "metadata": {},
   "outputs": [
    {
     "name": "stdout",
     "output_type": "stream",
     "text": [
      "Empty DataFrame\n",
      "Columns: []\n",
      "Index: []\n"
     ]
    }
   ],
   "source": [
    "# Create an empty dataframe\n",
    "df = DataFrame()\n",
    "\n",
    "print(df)"
   ]
  },
  {
   "cell_type": "code",
   "execution_count": 32,
   "metadata": {},
   "outputs": [
    {
     "data": {
      "text/plain": [
       "Series([], dtype: float64)"
      ]
     },
     "execution_count": 32,
     "metadata": {},
     "output_type": "execute_result"
    }
   ],
   "source": [
    "# Create an empty series\n",
    "Series()"
   ]
  },
  {
   "cell_type": "markdown",
   "metadata": {},
   "source": [
    "##### Method 5: Import multiple modules/classes from a library\n",
    "\n",
    "```python\n",
    "from yfinance import download, multi\n",
    "```"
   ]
  },
  {
   "cell_type": "code",
   "execution_count": 23,
   "metadata": {},
   "outputs": [],
   "source": [
    "# Method 5\n",
    "from pandas import DataFrame, Series, to_datetime, to_numeric"
   ]
  },
  {
   "cell_type": "code",
   "execution_count": 24,
   "metadata": {},
   "outputs": [
    {
     "name": "stdout",
     "output_type": "stream",
     "text": [
      "Series([], dtype: float64)\n"
     ]
    }
   ],
   "source": [
    "s = Series()\n",
    "\n",
    "print(s)"
   ]
  },
  {
   "cell_type": "markdown",
   "metadata": {},
   "source": [
    "##### Method 6: Import a specific module/class from a library and alias it\n",
    "\n",
    "```python\n",
    "from yfinance import download as dl\n",
    "```"
   ]
  },
  {
   "cell_type": "code",
   "execution_count": 25,
   "metadata": {},
   "outputs": [],
   "source": [
    "# Method 6\n",
    "from pandas import DataFrame as DF"
   ]
  },
  {
   "cell_type": "code",
   "execution_count": 35,
   "metadata": {},
   "outputs": [
    {
     "name": "stdout",
     "output_type": "stream",
     "text": [
      "Empty DataFrame\n",
      "Columns: []\n",
      "Index: []\n"
     ]
    }
   ],
   "source": [
    "# Create an empty dataframe\n",
    "df = DF()\n",
    "\n",
    "print(df)"
   ]
  },
  {
   "cell_type": "code",
   "execution_count": 36,
   "metadata": {},
   "outputs": [
    {
     "name": "stdout",
     "output_type": "stream",
     "text": [
      "Series([], dtype: float64)\n"
     ]
    }
   ],
   "source": [
    "# Create an empty series\n",
    "from pandas import Series as SR\n",
    "print(SR())"
   ]
  },
  {
   "cell_type": "markdown",
   "metadata": {},
   "source": [
    "## Magic Commands"
   ]
  },
  {
   "cell_type": "markdown",
   "metadata": {},
   "source": [
    "Jupyter notebook software comes with a bunch of built-in commands which adds interactivity while working with it. They are called magic commands in Jupyter environment. These commands are dependent on the interpreter or kernel with which you are working. To see which magic commands are available, you can run the following magic command in the code cell:\n",
    "\n",
    "```python\n",
    "%lsmagic\n",
    "```\n",
    "\n",
    "<div class=\"alert alert-info\"><strong>Note: </strong>Magic commands are not Python commands.</div>"
   ]
  },
  {
   "cell_type": "markdown",
   "metadata": {},
   "source": [
    "##### List all magic commands"
   ]
  },
  {
   "cell_type": "code",
   "execution_count": 41,
   "metadata": {},
   "outputs": [
    {
     "data": {
      "application/json": {
       "cell": {
        "!": "OSMagics",
        "HTML": "Other",
        "SVG": "Other",
        "bash": "Other",
        "capture": "ExecutionMagics",
        "debug": "ExecutionMagics",
        "file": "Other",
        "html": "DisplayMagics",
        "javascript": "DisplayMagics",
        "js": "DisplayMagics",
        "latex": "DisplayMagics",
        "markdown": "DisplayMagics",
        "perl": "Other",
        "prun": "ExecutionMagics",
        "pypy": "Other",
        "python": "Other",
        "python2": "Other",
        "python3": "Other",
        "ruby": "Other",
        "script": "ScriptMagics",
        "sh": "Other",
        "svg": "DisplayMagics",
        "sx": "OSMagics",
        "system": "OSMagics",
        "time": "ExecutionMagics",
        "timeit": "ExecutionMagics",
        "writefile": "OSMagics"
       },
       "line": {
        "alias": "OSMagics",
        "alias_magic": "BasicMagics",
        "autoawait": "AsyncMagics",
        "autocall": "AutoMagics",
        "automagic": "AutoMagics",
        "autosave": "KernelMagics",
        "bookmark": "OSMagics",
        "cat": "Other",
        "cd": "OSMagics",
        "clear": "KernelMagics",
        "colors": "BasicMagics",
        "conda": "PackagingMagics",
        "config": "ConfigMagics",
        "connect_info": "KernelMagics",
        "cp": "Other",
        "debug": "ExecutionMagics",
        "dhist": "OSMagics",
        "dirs": "OSMagics",
        "doctest_mode": "BasicMagics",
        "ed": "Other",
        "edit": "KernelMagics",
        "env": "OSMagics",
        "gui": "BasicMagics",
        "hist": "Other",
        "history": "HistoryMagics",
        "killbgscripts": "ScriptMagics",
        "ldir": "Other",
        "less": "KernelMagics",
        "lf": "Other",
        "lk": "Other",
        "ll": "Other",
        "load": "CodeMagics",
        "load_ext": "ExtensionMagics",
        "loadpy": "CodeMagics",
        "logoff": "LoggingMagics",
        "logon": "LoggingMagics",
        "logstart": "LoggingMagics",
        "logstate": "LoggingMagics",
        "logstop": "LoggingMagics",
        "ls": "Other",
        "lsmagic": "BasicMagics",
        "lx": "Other",
        "macro": "ExecutionMagics",
        "magic": "BasicMagics",
        "man": "KernelMagics",
        "matplotlib": "PylabMagics",
        "mkdir": "Other",
        "more": "KernelMagics",
        "mv": "Other",
        "notebook": "BasicMagics",
        "page": "BasicMagics",
        "pastebin": "CodeMagics",
        "pdb": "ExecutionMagics",
        "pdef": "NamespaceMagics",
        "pdoc": "NamespaceMagics",
        "pfile": "NamespaceMagics",
        "pinfo": "NamespaceMagics",
        "pinfo2": "NamespaceMagics",
        "pip": "PackagingMagics",
        "popd": "OSMagics",
        "pprint": "BasicMagics",
        "precision": "BasicMagics",
        "prun": "ExecutionMagics",
        "psearch": "NamespaceMagics",
        "psource": "NamespaceMagics",
        "pushd": "OSMagics",
        "pwd": "OSMagics",
        "pycat": "OSMagics",
        "pylab": "PylabMagics",
        "qtconsole": "KernelMagics",
        "quickref": "BasicMagics",
        "recall": "HistoryMagics",
        "rehashx": "OSMagics",
        "reload_ext": "ExtensionMagics",
        "rep": "Other",
        "rerun": "HistoryMagics",
        "reset": "NamespaceMagics",
        "reset_selective": "NamespaceMagics",
        "rm": "Other",
        "rmdir": "Other",
        "run": "ExecutionMagics",
        "save": "CodeMagics",
        "sc": "OSMagics",
        "set_env": "OSMagics",
        "store": "StoreMagics",
        "sx": "OSMagics",
        "system": "OSMagics",
        "tb": "ExecutionMagics",
        "time": "ExecutionMagics",
        "timeit": "ExecutionMagics",
        "unalias": "OSMagics",
        "unload_ext": "ExtensionMagics",
        "who": "NamespaceMagics",
        "who_ls": "NamespaceMagics",
        "whos": "NamespaceMagics",
        "xdel": "NamespaceMagics",
        "xmode": "BasicMagics"
       }
      },
      "text/plain": [
       "Available line magics:\n",
       "%alias  %alias_magic  %autoawait  %autocall  %automagic  %autosave  %bookmark  %cat  %cd  %clear  %colors  %conda  %config  %connect_info  %cp  %debug  %dhist  %dirs  %doctest_mode  %ed  %edit  %env  %gui  %hist  %history  %killbgscripts  %ldir  %less  %lf  %lk  %ll  %load  %load_ext  %loadpy  %logoff  %logon  %logstart  %logstate  %logstop  %ls  %lsmagic  %lx  %macro  %magic  %man  %matplotlib  %mkdir  %more  %mv  %notebook  %page  %pastebin  %pdb  %pdef  %pdoc  %pfile  %pinfo  %pinfo2  %pip  %popd  %pprint  %precision  %prun  %psearch  %psource  %pushd  %pwd  %pycat  %pylab  %qtconsole  %quickref  %recall  %rehashx  %reload_ext  %rep  %rerun  %reset  %reset_selective  %rm  %rmdir  %run  %save  %sc  %set_env  %store  %sx  %system  %tb  %time  %timeit  %unalias  %unload_ext  %who  %who_ls  %whos  %xdel  %xmode\n",
       "\n",
       "Available cell magics:\n",
       "%%!  %%HTML  %%SVG  %%bash  %%capture  %%debug  %%file  %%html  %%javascript  %%js  %%latex  %%markdown  %%perl  %%prun  %%pypy  %%python  %%python2  %%python3  %%ruby  %%script  %%sh  %%svg  %%sx  %%system  %%time  %%timeit  %%writefile\n",
       "\n",
       "Automagic is ON, % prefix IS NOT needed for line magics."
      ]
     },
     "execution_count": 41,
     "metadata": {},
     "output_type": "execute_result"
    }
   ],
   "source": [
    "%lsmagic"
   ]
  },
  {
   "cell_type": "code",
   "execution_count": 38,
   "metadata": {},
   "outputs": [
    {
     "data": {
      "text/plain": [
       "\u001b[0;31mDocstring:\u001b[0m\n",
       "Print all interactive variables, with some minimal formatting.\n",
       "\n",
       "If any arguments are given, only variables whose type matches one of\n",
       "these are printed.  For example::\n",
       "\n",
       "  %who function str\n",
       "\n",
       "will only list functions and strings, excluding all other types of\n",
       "variables.  To find the proper type names, simply use type(var) at a\n",
       "command line to see how python prints type names.  For example:\n",
       "\n",
       "::\n",
       "\n",
       "  In [1]: type('hello')\n",
       "  Out[1]: <type 'str'>\n",
       "\n",
       "indicates that the type name for strings is 'str'.\n",
       "\n",
       "``%who`` always excludes executed names loaded through your configuration\n",
       "file and things which are internal to IPython.\n",
       "\n",
       "This is deliberate, as typically you may load many modules and the\n",
       "purpose of %who is to show you only what you've manually defined.\n",
       "\n",
       "Examples\n",
       "--------\n",
       "\n",
       "Define two variables and list them with who::\n",
       "\n",
       "  In [1]: alpha = 123\n",
       "\n",
       "  In [2]: beta = 'test'\n",
       "\n",
       "  In [3]: %who\n",
       "  alpha   beta\n",
       "\n",
       "  In [4]: %who int\n",
       "  alpha\n",
       "\n",
       "  In [5]: %who str\n",
       "  beta\n",
       "\u001b[0;31mFile:\u001b[0m      ~/epat/assignments/venv/lib/python3.8/site-packages/IPython/core/magics/namespace.py\n"
      ]
     },
     "metadata": {},
     "output_type": "display_data"
    }
   ],
   "source": [
    "# Accessing help on magic commands\n",
    "%who?"
   ]
  },
  {
   "cell_type": "code",
   "execution_count": null,
   "metadata": {},
   "outputs": [],
   "source": [
    "%who"
   ]
  },
  {
   "cell_type": "markdown",
   "metadata": {},
   "source": [
    "##### Autosave notebook"
   ]
  },
  {
   "cell_type": "code",
   "execution_count": null,
   "metadata": {},
   "outputs": [],
   "source": [
    "### Save notebook every 60 seconds\n",
    "%autosave 60"
   ]
  },
  {
   "cell_type": "code",
   "execution_count": 40,
   "metadata": {},
   "outputs": [
    {
     "data": {
      "text/plain": [
       "'/home/solidsnake/epat/assignments'"
      ]
     },
     "execution_count": 40,
     "metadata": {},
     "output_type": "execute_result"
    }
   ],
   "source": [
    "%pwd"
   ]
  },
  {
   "cell_type": "markdown",
   "metadata": {},
   "source": [
    "##### Calculate time required to execute the code"
   ]
  },
  {
   "cell_type": "markdown",
   "metadata": {},
   "source": [
    "The `%%time` magic command always needs to be in the first line of the cell. Else, it will not work."
   ]
  },
  {
   "cell_type": "code",
   "execution_count": 39,
   "metadata": {},
   "outputs": [
    {
     "name": "stdout",
     "output_type": "stream",
     "text": [
      "363 ms ± 10.4 ms per loop (mean ± std. dev. of 7 runs, 1 loop each)\n"
     ]
    }
   ],
   "source": [
    "%%timeit\n",
    "# This is an example of Cell Magic Command\n",
    "\n",
    "for i in range(0, 1000000):\n",
    "    x = i ** 3 - 2 * (4 + 5 * i) + 10 * i"
   ]
  },
  {
   "cell_type": "markdown",
   "metadata": {},
   "source": [
    "##### Installing libraries"
   ]
  },
  {
   "cell_type": "code",
   "execution_count": null,
   "metadata": {},
   "outputs": [],
   "source": [
    "# Install a new library using the conventional way\n",
    "!pip install yfinance"
   ]
  },
  {
   "cell_type": "code",
   "execution_count": null,
   "metadata": {
    "scrolled": true
   },
   "outputs": [],
   "source": [
    "# Install a new library using the magic command\n",
    "%pip install yfinance"
   ]
  },
  {
   "cell_type": "markdown",
   "metadata": {},
   "source": [
    "##### Variable Inspection"
   ]
  },
  {
   "cell_type": "code",
   "execution_count": 42,
   "metadata": {},
   "outputs": [
    {
     "name": "stdout",
     "output_type": "stream",
     "text": [
      "BooleanDtype\t Categorical\t CategoricalDtype\t CategoricalIndex\t DF\t DataFrame\t DateOffset\t DatetimeIndex\t DatetimeTZDtype\t \n",
      "ExcelFile\t ExcelWriter\t Flags\t Float32Dtype\t Float64Dtype\t Grouper\t HDFStore\t Index\t IndexSlice\t \n",
      "Int16Dtype\t Int32Dtype\t Int64Dtype\t Int8Dtype\t Interval\t IntervalDtype\t IntervalIndex\t MultiIndex\t NA\t \n",
      "NaT\t NamedAgg\t Period\t PeriodDtype\t PeriodIndex\t RangeIndex\t SR\t Series\t SparseDtype\t \n",
      "StringDtype\t Timedelta\t TimedeltaIndex\t Timestamp\t UInt16Dtype\t UInt32Dtype\t UInt64Dtype\t UInt8Dtype\t api\t \n",
      "array\t arrays\t bdate_range\t concat\t crosstab\t cut\t data\t date_range\t describe_option\t \n",
      "df\t errors\t eval\t factorize\t get_dummies\t get_option\t infer_freq\t interval_range\t io\t \n",
      "isna\t isnull\t json_normalize\t lreshape\t melt\t merge\t merge_asof\t merge_ordered\t notna\t \n",
      "notnull\t offsets\t option_context\t options\t pandas\t pd\t period_range\t pivot\t pivot_table\t \n",
      "plotting\t qcut\t read_clipboard\t read_csv\t read_excel\t read_feather\t read_fwf\t read_gbq\t read_hdf\t \n",
      "read_html\t read_json\t read_orc\t read_parquet\t read_pickle\t read_sas\t read_spss\t read_sql\t read_sql_query\t \n",
      "read_sql_table\t read_stata\t read_table\t read_xml\t reset_option\t s\t set_eng_float_format\t set_option\t show_versions\t \n",
      "test\t testing\t timedelta_range\t to_datetime\t to_numeric\t to_pickle\t to_timedelta\t tseries\t unique\t \n",
      "value_counts\t warnings\t wide_to_long\t yf\t \n"
     ]
    }
   ],
   "source": [
    "# List all variables\n",
    "%who"
   ]
  },
  {
   "cell_type": "code",
   "execution_count": 43,
   "metadata": {},
   "outputs": [],
   "source": [
    "a = 100"
   ]
  },
  {
   "cell_type": "code",
   "execution_count": 44,
   "metadata": {
    "scrolled": true
   },
   "outputs": [
    {
     "name": "stdout",
     "output_type": "stream",
     "text": [
      "Variable               Type                  Data/Info\n",
      "------------------------------------------------------\n",
      "BooleanDtype           type                  <class 'pandas.core.arrays.boolean.BooleanDtype'>\n",
      "Categorical            ABCMeta               <class 'pandas.core.array<...>categorical.Categorical'>\n",
      "CategoricalDtype       type                  <class 'pandas.core.dtype<...>dtypes.CategoricalDtype'>\n",
      "CategoricalIndex       type                  <class 'pandas.core.index<...>tegory.CategoricalIndex'>\n",
      "DF                     type                  <class 'pandas.core.frame.DataFrame'>\n",
      "DataFrame              type                  <class 'pandas.core.frame.DataFrame'>\n",
      "DateOffset             OffsetMeta            <class 'pandas._libs.tslibs.offsets.DateOffset'>\n",
      "DatetimeIndex          type                  <class 'pandas.core.index<...>datetimes.DatetimeIndex'>\n",
      "DatetimeTZDtype        type                  <class 'pandas.core.dtype<...>.dtypes.DatetimeTZDtype'>\n",
      "ExcelFile              type                  <class 'pandas.io.excel._base.ExcelFile'>\n",
      "ExcelWriter            ABCMeta               <class 'pandas.io.excel._base.ExcelWriter'>\n",
      "Flags                  type                  <class 'pandas.core.flags.Flags'>\n",
      "Float32Dtype           type                  <class 'pandas.core.array<...>s.floating.Float32Dtype'>\n",
      "Float64Dtype           type                  <class 'pandas.core.array<...>s.floating.Float64Dtype'>\n",
      "Grouper                type                  <class 'pandas.core.groupby.grouper.Grouper'>\n",
      "HDFStore               type                  <class 'pandas.io.pytables.HDFStore'>\n",
      "Index                  type                  <class 'pandas.core.indexes.base.Index'>\n",
      "IndexSlice             _IndexSlice           <pandas.core.indexing._In<...>object at 0x7f36056bbb80>\n",
      "Int16Dtype             type                  <class 'pandas.core.arrays.integer.Int16Dtype'>\n",
      "Int32Dtype             type                  <class 'pandas.core.arrays.integer.Int32Dtype'>\n",
      "Int64Dtype             type                  <class 'pandas.core.arrays.integer.Int64Dtype'>\n",
      "Int8Dtype              type                  <class 'pandas.core.arrays.integer.Int8Dtype'>\n",
      "Interval               type                  <class 'pandas._libs.interval.Interval'>\n",
      "IntervalDtype          type                  <class 'pandas.core.dtypes.dtypes.IntervalDtype'>\n",
      "IntervalIndex          type                  <class 'pandas.core.index<...>.interval.IntervalIndex'>\n",
      "MultiIndex             type                  <class 'pandas.core.indexes.multi.MultiIndex'>\n",
      "NA                     NAType                <NA>\n",
      "NaT                    NaTType               NaT\n",
      "NamedAgg               type                  <class 'pandas.core.groupby.generic.NamedAgg'>\n",
      "Period                 type                  <class 'pandas._libs.tslibs.period.Period'>\n",
      "PeriodDtype            type                  <class 'pandas.core.dtypes.dtypes.PeriodDtype'>\n",
      "PeriodIndex            type                  <class 'pandas.core.indexes.period.PeriodIndex'>\n",
      "RangeIndex             type                  <class 'pandas.core.indexes.range.RangeIndex'>\n",
      "SR                     type                  <class 'pandas.core.series.Series'>\n",
      "Series                 type                  <class 'pandas.core.series.Series'>\n",
      "SparseDtype            type                  <class 'pandas.core.array<...>parse.dtype.SparseDtype'>\n",
      "StringDtype            type                  <class 'pandas.core.arrays.string_.StringDtype'>\n",
      "Timedelta              type                  <class 'pandas._libs.tsli<...>bs.timedeltas.Timedelta'>\n",
      "TimedeltaIndex         type                  <class 'pandas.core.index<...>medeltas.TimedeltaIndex'>\n",
      "Timestamp              type                  <class 'pandas._libs.tsli<...>bs.timestamps.Timestamp'>\n",
      "UInt16Dtype            type                  <class 'pandas.core.arrays.integer.UInt16Dtype'>\n",
      "UInt32Dtype            type                  <class 'pandas.core.arrays.integer.UInt32Dtype'>\n",
      "UInt64Dtype            type                  <class 'pandas.core.arrays.integer.UInt64Dtype'>\n",
      "UInt8Dtype             type                  <class 'pandas.core.arrays.integer.UInt8Dtype'>\n",
      "a                      int                   100\n",
      "api                    module                <module 'pandas.api' from<...>/pandas/api/__init__.py'>\n",
      "array                  function              <function array at 0x7f365a38e820>\n",
      "arrays                 module                <module 'pandas.arrays' f<...>ndas/arrays/__init__.py'>\n",
      "bdate_range            function              <function bdate_range at 0x7f360560e0d0>\n",
      "concat                 function              <function concat at 0x7f36054e3ee0>\n",
      "crosstab               function              <function crosstab at 0x7f36050698b0>\n",
      "cut                    function              <function cut at 0x7f3605074e50>\n",
      "data                   DataFrame                               Open   <...>n[10453 rows x 6 columns]\n",
      "date_range             function              <function date_range at 0x7f3605683670>\n",
      "describe_option        CallableDynamicDoc    <pandas._config.config.Ca<...>object at 0x7f36066539a0>\n",
      "df                     DataFrame             Empty DataFrame\\nColumns: []\\nIndex: []\n",
      "errors                 module                <module 'pandas.errors' f<...>ndas/errors/__init__.py'>\n",
      "eval                   function              <function eval at 0x7f3605053b80>\n",
      "factorize              function              <function factorize at 0x7f365a329f70>\n",
      "get_dummies            function              <function get_dummies at 0x7f36050749d0>\n",
      "get_option             CallableDynamicDoc    <pandas._config.config.Ca<...>object at 0x7f3606653310>\n",
      "infer_freq             function              <function infer_freq at 0x7f3605d0bca0>\n",
      "interval_range         function              <function interval_range at 0x7f36055d53a0>\n",
      "io                     module                <module 'pandas.io' from <...>s/pandas/io/__init__.py'>\n",
      "isna                   function              <function isna at 0x7f365a35dd30>\n",
      "isnull                 function              <function isna at 0x7f365a35dd30>\n",
      "json_normalize         function              <function _json_normalize at 0x7f3604eb2820>\n",
      "lreshape               function              <function lreshape at 0x7f3605396dc0>\n",
      "melt                   function              <function melt at 0x7f36053969d0>\n",
      "merge                  function              <function merge at 0x7f3605057a60>\n",
      "merge_asof             function              <function merge_asof at 0x7f3605057c10>\n",
      "merge_ordered          function              <function merge_ordered at 0x7f3605057b80>\n",
      "notna                  function              <function notna at 0x7f365a366040>\n",
      "notnull                function              <function notna at 0x7f365a366040>\n",
      "offsets                module                <module 'pandas.tseries.o<...>ndas/tseries/offsets.py'>\n",
      "option_context         type                  <class 'pandas._config.config.option_context'>\n",
      "options                DictWrapper           <pandas._config.config.Di<...>object at 0x7f360665e0a0>\n",
      "pandas                 module                <module 'pandas' from '/h<...>ages/pandas/__init__.py'>\n",
      "pd                     module                <module 'pandas' from '/h<...>ages/pandas/__init__.py'>\n",
      "period_range           function              <function period_range at 0x7f36055d55e0>\n",
      "pivot                  function              <function pivot at 0x7f3605069820>\n",
      "pivot_table            function              <function pivot_table at 0x7f3605069430>\n",
      "plotting               module                <module 'pandas.plotting'<...>as/plotting/__init__.py'>\n",
      "qcut                   function              <function qcut at 0x7f3605074ee0>\n",
      "read_clipboard         function              <function read_clipboard at 0x7f3605038310>\n",
      "read_csv               function              <function read_csv at 0x7f3604eeac10>\n",
      "read_excel             function              <function read_excel at 0x7f3604ef1c10>\n",
      "read_feather           function              <function read_feather at 0x7f3604e965e0>\n",
      "read_fwf               function              <function read_fwf at 0x7f3604eeaf70>\n",
      "read_gbq               function              <function read_gbq at 0x7f3604e968b0>\n",
      "read_hdf               function              <function read_hdf at 0x7f3604e26820>\n",
      "read_html              function              <function read_html at 0x7f3604ea7a60>\n",
      "read_json              function              <function read_json at 0x7f3604ebf430>\n",
      "read_orc               function              <function read_orc at 0x7f3604ec35e0>\n",
      "read_parquet           function              <function read_parquet at 0x7f3604ec90d0>\n",
      "read_pickle            function              <function read_pickle at 0x7f3604ec98b0>\n",
      "read_sas               function              <function read_sas at 0x7f3604e88310>\n",
      "read_spss              function              <function read_spss at 0x7f3604e3fc10>\n",
      "read_sql               function              <function read_sql at 0x7f3604e45d30>\n",
      "read_sql_query         function              <function read_sql_query at 0x7f3604e45ca0>\n",
      "read_sql_table         function              <function read_sql_table at 0x7f3604e45c10>\n",
      "read_stata             function              <function read_stata at 0x7f3604df3700>\n",
      "read_table             function              <function read_table at 0x7f3604eeadc0>\n",
      "read_xml               function              <function read_xml at 0x7f3604d9b700>\n",
      "reset_option           CallableDynamicDoc    <pandas._config.config.Ca<...>object at 0x7f3606653ee0>\n",
      "s                      Series                Series([], dtype: float64)\n",
      "set_eng_float_format   function              <function set_eng_float_format at 0x7f36054300d0>\n",
      "set_option             CallableDynamicDoc    <pandas._config.config.Ca<...>object at 0x7f3606653e50>\n",
      "show_versions          function              <function show_versions at 0x7f3605036f70>\n",
      "test                   function              <function test at 0x7f3604d8e700>\n",
      "testing                module                <module 'pandas.testing' <...>kages/pandas/testing.py'>\n",
      "timedelta_range        function              <function timedelta_range at 0x7f36055cf0d0>\n",
      "to_datetime            function              <function to_datetime at 0x7f3605351940>\n",
      "to_numeric             function              <function to_numeric at 0x7f3605cc83a0>\n",
      "to_pickle              function              <function to_pickle at 0x7f3604ec9820>\n",
      "to_timedelta           function              <function to_timedelta at 0x7f360565d8b0>\n",
      "tseries                module                <module 'pandas.tseries' <...>das/tseries/__init__.py'>\n",
      "unique                 function              <function unique at 0x7f365a329d30>\n",
      "value_counts           function              <function value_counts at 0x7f365a329ee0>\n",
      "warnings               module                <module 'warnings' from '<...>b/python3.8/warnings.py'>\n",
      "wide_to_long           function              <function wide_to_long at 0x7f3605396ca0>\n",
      "yf                     module                <module 'yfinance' from '<...>es/yfinance/__init__.py'>\n"
     ]
    }
   ],
   "source": [
    "# List all variables - Verbose\n",
    "%whos"
   ]
  },
  {
   "cell_type": "markdown",
   "metadata": {},
   "source": [
    "##### Command history"
   ]
  },
  {
   "cell_type": "code",
   "execution_count": 45,
   "metadata": {},
   "outputs": [
    {
     "name": "stdout",
     "output_type": "stream",
     "text": [
      "import warnings\n",
      "\n",
      "warnings.filterwarnings('ignore')\n",
      "# This is one time process\n",
      "!pip install pandas\n",
      "import pandas\n",
      "!pip list\n",
      "import pandas\n",
      "# Method 1\n",
      "import pandas\n",
      "# Create an empty dataframe\n",
      "df = pandas.DataFrame()\n",
      "\n",
      "print(df)\n",
      "# Create an empty Series\n",
      "s = pandas.Series()\n",
      "\n",
      "print(s)\n",
      "import mvo_python_optimizer\n",
      "# Method 1\n",
      "import pandas\n",
      "# Create an empty dataframe\n",
      "df = pandas.DataFrame()\n",
      "\n",
      "print(df)\n",
      "# Create an empty Series\n",
      "s = pandas.Series()\n",
      "\n",
      "print(s)\n",
      "#import mvo_python_optimizer\n",
      "# Method 2\n",
      "import pandas as pd\n",
      "# Create an empty dataframe\n",
      "df = pd.DataFrame()\n",
      "\n",
      "# df = pandas.DataFrame()\n",
      "\n",
      "print(df)\n",
      "# Create an empyt series\n",
      "s = pd.Series()\n",
      "\n",
      "print(s)\n",
      "# Method 3\n",
      "from pandas import *\n",
      "# Create an empty dataframe\n",
      "df = DataFrame()\n",
      "\n",
      "print(df)\n",
      "# Create an empty series\n",
      "s = Series()\n",
      "\n",
      "print(s)\n",
      "# Method 4\n",
      "from pandas import DataFrame\n",
      "from pandas import Series\n",
      "from pandas import concat\n",
      "# Create an empty dataframe\n",
      "df = DataFrame()\n",
      "\n",
      "print(df)\n",
      "# Create an empty series\n",
      "Series()\n",
      "# Method 5\n",
      "from pandas import DataFrame, Series, to_datetime, to_numeric\n",
      "s = Series()\n",
      "\n",
      "print(s)\n",
      "# Method 6\n",
      "from pandas import DataFrame as DF\n",
      "# Create an empty dataframe\n",
      "df = DF()\n",
      "\n",
      "print(df)\n",
      "import yfinance as yf\n",
      "import yfinance as yf\n",
      "\n",
      "data=yf.download(\"AAPL\")\n",
      "print(data.head())\n",
      "import yfinance as yf\n",
      "\n",
      "data=yf.download(\"AAPL\")\n",
      "print(data.head())\n",
      "print(type(data))\n",
      "# Method 4\n",
      "from pandas import DataFrame\n",
      "from pandas import Series\n",
      "from pandas import concat\n",
      "# Create an empty dataframe\n",
      "df = DataFrame()\n",
      "\n",
      "print(df)\n",
      "# Create an empty series\n",
      "Series()\n",
      "dir(pandas)\n",
      "#dir(pandas)\n",
      "# Create an empty dataframe\n",
      "df = DF()\n",
      "\n",
      "print(df)\n",
      "# Create an empty series\n",
      "from pandas import Series as SR\n",
      "print(SR())\n",
      "%lsmagic\n",
      "# Accessing help on magic commands\n",
      "%who?\n",
      "%%timeit\n",
      "# This is an example of Cell Magic Command\n",
      "\n",
      "for i in range(0, 1000000):\n",
      "    x = i ** 3 - 2 * (4 + 5 * i) + 10 * i\n",
      "%pwd\n",
      "%lsmagic\n",
      "# List all variables\n",
      "%who\n",
      "a = 100\n",
      "# List all variables - Verbose\n",
      "%whos\n",
      "# List all previously run codes\n",
      "%history\n"
     ]
    }
   ],
   "source": [
    "# List all previously run codes\n",
    "%history"
   ]
  },
  {
   "cell_type": "markdown",
   "metadata": {},
   "source": [
    "## Change Working Directory"
   ]
  },
  {
   "cell_type": "code",
   "execution_count": 46,
   "metadata": {},
   "outputs": [],
   "source": [
    "# Import OS directory to peform system related operations\n",
    "import os"
   ]
  },
  {
   "cell_type": "code",
   "execution_count": 47,
   "metadata": {},
   "outputs": [
    {
     "data": {
      "text/plain": [
       "'/home/solidsnake/epat/assignments'"
      ]
     },
     "execution_count": 47,
     "metadata": {},
     "output_type": "execute_result"
    }
   ],
   "source": [
    "os.getcwd()"
   ]
  },
  {
   "cell_type": "code",
   "execution_count": 51,
   "metadata": {},
   "outputs": [],
   "source": [
    "# Change the current working directory to the desktop\n",
    "os.chdir(\"/home/solidsnake/epat/assignments\")"
   ]
  },
  {
   "cell_type": "code",
   "execution_count": 52,
   "metadata": {},
   "outputs": [
    {
     "data": {
      "text/plain": [
       "'/home/solidsnake/epat/assignments'"
      ]
     },
     "execution_count": 52,
     "metadata": {},
     "output_type": "execute_result"
    }
   ],
   "source": [
    "# Check the current working directory\n",
    "os.getcwd()"
   ]
  },
  {
   "cell_type": "code",
   "execution_count": 57,
   "metadata": {},
   "outputs": [
    {
     "data": {
      "text/plain": [
       "['TCS.NS.csv',\n",
       " 'PBQ01_2202.ipynb',\n",
       " 'test.py',\n",
       " 'venv',\n",
       " '.git',\n",
       " 'PBQ-01 Doubt Solving Session v2.ipynb',\n",
       " '.ipynb_checkpoints',\n",
       " '.vscode',\n",
       " '.gitignore']"
      ]
     },
     "execution_count": 57,
     "metadata": {},
     "output_type": "execute_result"
    }
   ],
   "source": [
    "os.listdir()"
   ]
  },
  {
   "cell_type": "markdown",
   "metadata": {},
   "source": [
    "### Listing all methods or sub-modules from a given library"
   ]
  },
  {
   "cell_type": "code",
   "execution_count": 53,
   "metadata": {},
   "outputs": [],
   "source": [
    "import pandas as pd"
   ]
  },
  {
   "cell_type": "code",
   "execution_count": 56,
   "metadata": {},
   "outputs": [],
   "source": [
    "# Example 1\n",
    "#dir(pd)"
   ]
  },
  {
   "cell_type": "code",
   "execution_count": 55,
   "metadata": {},
   "outputs": [],
   "source": [
    "# Example 2\n",
    "import yfinance as yf"
   ]
  },
  {
   "cell_type": "code",
   "execution_count": null,
   "metadata": {},
   "outputs": [],
   "source": [
    "dir(yf)"
   ]
  },
  {
   "cell_type": "markdown",
   "metadata": {},
   "source": [
    "##### Accessing help on listed sub-modules"
   ]
  },
  {
   "cell_type": "code",
   "execution_count": null,
   "metadata": {},
   "outputs": [],
   "source": [
    "yf.multi??"
   ]
  },
  {
   "cell_type": "markdown",
   "metadata": {},
   "source": [
    "## When to use which brackets"
   ]
  },
  {
   "cell_type": "markdown",
   "metadata": {},
   "source": [
    "#### { } - Curly brackets\n",
    "Usage:\n",
    "- To create sets or dictionaries"
   ]
  },
  {
   "cell_type": "code",
   "execution_count": 58,
   "metadata": {},
   "outputs": [],
   "source": [
    "# Creating sets\n",
    "prime_numbers = {5, 7, 9, 11, 11, 13, 17}\n",
    "\n",
    "prime_numbers_2 = {11, 11, 13, 17}"
   ]
  },
  {
   "cell_type": "code",
   "execution_count": 59,
   "metadata": {},
   "outputs": [
    {
     "name": "stdout",
     "output_type": "stream",
     "text": [
      "Prime Numbers: {5, 7, 9, 11, 13, 17}\n",
      "Real Numbers: {1.2546, 220.146, '454', 33.21}\n"
     ]
    }
   ],
   "source": [
    "real = {1.2546, 220.146, 33.21, '454'}\n",
    "\n",
    "print('Prime Numbers:', prime_numbers)\n",
    "print('Real Numbers:', real)"
   ]
  },
  {
   "cell_type": "code",
   "execution_count": null,
   "metadata": {},
   "outputs": [],
   "source": [
    "prime_numbers.intersection(prime_numbers_2)"
   ]
  },
  {
   "cell_type": "markdown",
   "metadata": {},
   "source": [
    "<div class=\"alert alert-info\"><strong>Note: </strong>Please refer to section 5.6 of the <a href=\"https://www.quantinsti.com/Python-Basics-Handbook.pdf\"> Python Basics Handbook </a> for more information on sets.</div>"
   ]
  },
  {
   "cell_type": "code",
   "execution_count": 60,
   "metadata": {},
   "outputs": [
    {
     "name": "stdout",
     "output_type": "stream",
     "text": [
      "{'FB': 0.33, 'AAPL': 0.47, 'NFLX': 0.12, 'GOOG': 0.24}\n"
     ]
    }
   ],
   "source": [
    "# Creating a dictionary\n",
    "strategy_returns = {'FB': 0.33, \n",
    "                    'AAPL': 0.47, \n",
    "                    'NFLX': 0.12, \n",
    "                    'GOOG': 0.24 }\n",
    "\n",
    "print(strategy_returns)"
   ]
  },
  {
   "cell_type": "markdown",
   "metadata": {},
   "source": [
    "#### ( ) - Round brackets / Parenthesis\n",
    "Usage:\n",
    "- To create tuples\n",
    "- To define functions/methods\n",
    "- To pass arguments to the methods"
   ]
  },
  {
   "cell_type": "code",
   "execution_count": null,
   "metadata": {},
   "outputs": [],
   "source": [
    "# Creating a tuple\n",
    "strategy_parameters = (20, 50, 80, 100)\n",
    "\n",
    "print(strategy_parameters)"
   ]
  },
  {
   "cell_type": "code",
   "execution_count": null,
   "metadata": {},
   "outputs": [],
   "source": [
    "# Defining a function / method\n",
    "def function_name():\n",
    "    pass"
   ]
  },
  {
   "cell_type": "code",
   "execution_count": null,
   "metadata": {},
   "outputs": [],
   "source": [
    "# Calling a function\n",
    "function_name()"
   ]
  },
  {
   "cell_type": "code",
   "execution_count": null,
   "metadata": {},
   "outputs": [],
   "source": [
    "# Example\n",
    "def add_numbers(a, b):\n",
    "    \n",
    "    result = a + b\n",
    "    return result"
   ]
  },
  {
   "cell_type": "code",
   "execution_count": null,
   "metadata": {},
   "outputs": [],
   "source": [
    "# Calling\n",
    "sum = add_numbers(5, 6)\n",
    "\n",
    "print(sum)"
   ]
  },
  {
   "cell_type": "code",
   "execution_count": null,
   "metadata": {},
   "outputs": [],
   "source": [
    "# Examples of built-in functions\n",
    "print()\n",
    "dir()\n",
    "len()\n",
    "min()\n",
    "max()\n",
    "sorted()\n",
    "range()"
   ]
  },
  {
   "cell_type": "markdown",
   "metadata": {},
   "source": [
    "##### [ ] - Square brackets\n",
    "Usage:\n",
    "- To define lists\n",
    "- To access or extract elements from a data structure"
   ]
  },
  {
   "cell_type": "code",
   "execution_count": null,
   "metadata": {},
   "outputs": [],
   "source": [
    "# Defining lists\n",
    "stock_list = ['FB', 'AAPL', \"NFLX\", \"GOOG\"]\n",
    "stock_price = [268.44, 444.45, 494.73, 1494.49]\n",
    "\n",
    "print(stock_list)\n",
    "print(stock_price)"
   ]
  },
  {
   "cell_type": "code",
   "execution_count": null,
   "metadata": {},
   "outputs": [],
   "source": [
    "# Accessing elements\n",
    "\n",
    "# Accessing the first element from the stock_list\n",
    "stock_list[0]"
   ]
  },
  {
   "cell_type": "code",
   "execution_count": null,
   "metadata": {},
   "outputs": [],
   "source": [
    "# Accessing the last element from the stock_price\n",
    "stock_price[-1]"
   ]
  },
  {
   "cell_type": "code",
   "execution_count": null,
   "metadata": {},
   "outputs": [],
   "source": [
    "strategy_parameters"
   ]
  },
  {
   "cell_type": "code",
   "execution_count": null,
   "metadata": {},
   "outputs": [],
   "source": [
    "# Accessing the second element from the tuple\n",
    "strategy_parameters[1]"
   ]
  },
  {
   "cell_type": "code",
   "execution_count": null,
   "metadata": {},
   "outputs": [],
   "source": [
    "# Accessing an element from a dictionary\n",
    "strategy_returns['FB']"
   ]
  },
  {
   "cell_type": "markdown",
   "metadata": {},
   "source": [
    "## Data Visualization Using Matplotlib"
   ]
  },
  {
   "cell_type": "code",
   "execution_count": null,
   "metadata": {},
   "outputs": [],
   "source": [
    "# Download data from Yahoo\n",
    "import yfinance as yf\n",
    "\n",
    "data = yf.download('AAPL', start='2020-1-1')\n",
    "\n",
    "data.head()"
   ]
  },
  {
   "cell_type": "code",
   "execution_count": null,
   "metadata": {},
   "outputs": [],
   "source": [
    "# Export CSV files\n",
    "data.to_csv(\"C:\\\\Users\\\\Jay\\\\Desktop\\\\EPAT\\\\data.csv\")\n",
    "\n",
    "# Export file as an excel\n",
    "data.to_excel('data.xlsx')"
   ]
  },
  {
   "cell_type": "code",
   "execution_count": null,
   "metadata": {},
   "outputs": [],
   "source": [
    "import pandas as pd"
   ]
  },
  {
   "cell_type": "code",
   "execution_count": null,
   "metadata": {},
   "outputs": [],
   "source": [
    "data = pd.read_csv('TCS.NS.csv', index_col=0, parse_dates=True)"
   ]
  },
  {
   "cell_type": "code",
   "execution_count": null,
   "metadata": {},
   "outputs": [],
   "source": [
    "# Import matplotlib for data visualization\n",
    "import matplotlib.pyplot as plt\n",
    "\n",
    "# Magic command that allows me to plot all charts in-line\n",
    "%matplotlib inline"
   ]
  },
  {
   "cell_type": "markdown",
   "metadata": {},
   "source": [
    "### Method-1"
   ]
  },
  {
   "cell_type": "code",
   "execution_count": null,
   "metadata": {},
   "outputs": [],
   "source": [
    "# Method 1\n",
    "plt.figure(figsize=(10, 6))\n",
    "\n",
    "plt.plot(data['Adj Close'])\n",
    "\n",
    "plt.show()"
   ]
  },
  {
   "cell_type": "markdown",
   "metadata": {},
   "source": [
    "##### Add title and axes labels to the chart"
   ]
  },
  {
   "cell_type": "code",
   "execution_count": null,
   "metadata": {},
   "outputs": [],
   "source": [
    "plt.figure(figsize=(12, 4))\n",
    "\n",
    "plt.plot(data['Adj Close'])\n",
    "\n",
    "plt.title(\"AAPL Closing Prices\")\n",
    "plt.xlabel(\"Dates\")\n",
    "plt.ylabel(\"Price\")\n",
    "\n",
    "plt.show()"
   ]
  },
  {
   "cell_type": "markdown",
   "metadata": {},
   "source": [
    "##### Add grid to the chart"
   ]
  },
  {
   "cell_type": "code",
   "execution_count": null,
   "metadata": {},
   "outputs": [],
   "source": [
    "plt.figure(figsize=(12, 4))\n",
    "\n",
    "plt.plot(data['Adj Close'])\n",
    "\n",
    "plt.title(\"AAPL Closing Prices\")\n",
    "plt.xlabel(\"Dates\")\n",
    "plt.ylabel(\"Price\")\n",
    "\n",
    "plt.grid()\n",
    "\n",
    "plt.show()"
   ]
  },
  {
   "cell_type": "markdown",
   "metadata": {},
   "source": [
    "### Method - 2"
   ]
  },
  {
   "cell_type": "code",
   "execution_count": null,
   "metadata": {},
   "outputs": [],
   "source": [
    "data['Adj Close'].plot(figsize=(12, 6))\n",
    "\n",
    "plt.title('AAPL Closing Prices')\n",
    "\n",
    "plt.show()"
   ]
  },
  {
   "cell_type": "code",
   "execution_count": null,
   "metadata": {},
   "outputs": [],
   "source": [
    "# Plot directly using the dataframe column\n",
    "data['Adj Close'].plot(figsize=(10, 6))"
   ]
  },
  {
   "cell_type": "markdown",
   "metadata": {},
   "source": [
    "### Plotting a histogram"
   ]
  },
  {
   "cell_type": "code",
   "execution_count": null,
   "metadata": {},
   "outputs": [],
   "source": [
    "import numpy as np\n",
    "\n",
    "data['returns'] = np.log(data['Adj Close'] / data['Adj Close'].shift(1))\n",
    "\n",
    "data.head()"
   ]
  },
  {
   "cell_type": "code",
   "execution_count": null,
   "metadata": {},
   "outputs": [],
   "source": [
    "plt.figure(figsize=(10, 6))\n",
    "\n",
    "plt.hist(data['returns'])\n",
    "# plt.plot(data['returns'])\n",
    "\n",
    "plt.xlabel('Returns')\n",
    "plt.ylabel('Counts')\n",
    "plt.title('Returns Distribution')\n",
    "\n",
    "plt.show()"
   ]
  },
  {
   "cell_type": "markdown",
   "metadata": {},
   "source": [
    "### Plotting a scatter plot"
   ]
  },
  {
   "cell_type": "code",
   "execution_count": null,
   "metadata": {},
   "outputs": [],
   "source": [
    "plt.figure(figsize=(10, 6))\n",
    "plt.scatter(data['Open'], data['Close'])\n",
    "\n",
    "plt.xlabel('Open Price')\n",
    "plt.ylabel('Close Price')\n",
    "plt.title('Scatter Plot of Open & Close Prices')\n",
    "\n",
    "plt.show()"
   ]
  },
  {
   "cell_type": "markdown",
   "metadata": {},
   "source": [
    "## List of Python Libraries\n",
    "\n",
    "Here's my attempt to list various libraries that we'll be using during the course:\n",
    "\n",
    "- [pandas](https://pandas.pydata.org/): To perform data analysis\n",
    "- [NumPy](https://numpy.org/): For scientific computations\n",
    "- [datetime](https://docs.python.org/3/library/datetime.html): To handle datetime in Python\n",
    "- [Matplotlib](https://matplotlib.org/): For data visualization\n",
    "- [fbprophet](https://facebook.github.io/prophet/docs/quick_start.html): To forecast time-series data\n",
    "- [sklearn](https://scikit-learn.org/stable/): To perform data science tasks in Python\n",
    "- [TA-Lib](https://mrjbq7.github.io/ta-lib/): To compute technical indicators in Python\n",
    "- [yfinance](https://pypi.org/project/yfinance/): To download stock data from yfinance\n",
    "- [nsepy](https://nsepy.xyz/): To download Indian stock data from the NSE\n",
    "- [pandas_datareader](https://pandas-datareader.readthedocs.io/en/latest/): To download data from various free resources\n",
    "- [IBridgePy](https://www.ibridgepy.com) - To automate a strategy\n",
    "- [pyfolio](https://github.com/quantopian/pyfolio): To get insights into a strategy performance visually\n",
    "\n",
    "We'll not be using the following libraries actively, however, they are good source for downloading various data:\n",
    "\n",
    "- [Quandl](https://www.quandl.com/tools/python): To download stock and alternative data for various markets\n",
    "- [Alpha Vantage](https://www.alphavantage.co/): To download recent intraday stock data"
   ]
  },
  {
   "cell_type": "markdown",
   "metadata": {},
   "source": [
    "## Difference between Jupyter Notebook and JupyterLab\n",
    "\n",
    "#### Commonalities\n",
    "\n",
    "- Web-based interface\n",
    "- Accessibility\n",
    "\n",
    "#### Differences\n",
    "\n",
    "- User interface\n",
    "- File browser\n",
    "\n",
    "#### What to use?\n",
    "- Either can be used based on personal preference\n",
    "- From a development POV, there is not much you can do in one that you can’t do with the other.\n",
    "\n",
    "Please visit [this link](https://towardsdatascience.com/jupyter-lab-evolution-of-the-jupyter-notebook-5297cacde6b) to read about how JupyterLab evolved over time."
   ]
  }
 ],
 "metadata": {
  "kernelspec": {
   "display_name": "epat-venv",
   "language": "python",
   "name": "epat-venv"
  },
  "language_info": {
   "codemirror_mode": {
    "name": "ipython",
    "version": 3
   },
   "file_extension": ".py",
   "mimetype": "text/x-python",
   "name": "python",
   "nbconvert_exporter": "python",
   "pygments_lexer": "ipython3",
   "version": "3.8.10"
  },
  "varInspector": {
   "cols": {
    "lenName": 16,
    "lenType": 16,
    "lenVar": 40
   },
   "kernels_config": {
    "python": {
     "delete_cmd_postfix": "",
     "delete_cmd_prefix": "del ",
     "library": "var_list.py",
     "varRefreshCmd": "print(var_dic_list())"
    },
    "r": {
     "delete_cmd_postfix": ") ",
     "delete_cmd_prefix": "rm(",
     "library": "var_list.r",
     "varRefreshCmd": "cat(var_dic_list()) "
    }
   },
   "types_to_exclude": [
    "module",
    "function",
    "builtin_function_or_method",
    "instance",
    "_Feature"
   ],
   "window_display": false
  }
 },
 "nbformat": 4,
 "nbformat_minor": 4
}
