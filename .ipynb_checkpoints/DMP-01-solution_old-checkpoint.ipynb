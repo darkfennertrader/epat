{
 "cells": [
  {
   "cell_type": "markdown",
   "id": "7bbf21ec-c807-461c-bddc-4498556bd61a",
   "metadata": {},
   "source": [
    "### DMP-01 Solution"
   ]
  },
  {
   "cell_type": "markdown",
   "id": "6ffd6b62-ad17-4d2b-a83c-6ff880bb2481",
   "metadata": {},
   "source": [
    "#### import all the needed packages"
   ]
  },
  {
   "cell_type": "code",
   "execution_count": 1,
   "id": "7a2fa8e2-2193-4914-ba5d-5eb0450309e9",
   "metadata": {},
   "outputs": [
    {
     "name": "stdout",
     "output_type": "stream",
     "text": [
      "Python 3.8.10\n"
     ]
    }
   ],
   "source": [
    "import pandas as pd\n",
    "import numpy as np\n",
    "from datetime import datetime\n",
    "import yfinance as yf\n",
    "import matplotlib.pyplot as plt\n",
    "import warnings\n",
    "\n",
    "warnings.filterwarnings('ignore')\n",
    "\n",
    "# To display multiple outputs from the same cell\n",
    "from IPython.core.interactiveshell import InteractiveShell\n",
    "InteractiveShell.ast_node_interactivity = \"all\"\n",
    "\n",
    "%matplotlib inline\n",
    "!python -V"
   ]
  },
  {
   "cell_type": "markdown",
   "id": "c530cfc4-5140-443e-b50a-8852088bf2b9",
   "metadata": {},
   "source": [
    "#### Use the adjusted close price of MSFT from January 2nd 2015 to April 30th 2020 for questions 1 to 4."
   ]
  },
  {
   "cell_type": "code",
   "execution_count": 2,
   "id": "e65d53a4-0c70-4e92-b354-99db6257f8d3",
   "metadata": {},
   "outputs": [],
   "source": [
    "ticker = \"MSFT\"\n",
    "start = datetime(2015, 1, 2)\n",
    "end = datetime(2020, 4, 30)"
   ]
  },
  {
   "cell_type": "code",
   "execution_count": 3,
   "id": "6cbc0f65-c0ef-464c-8d18-02e52880b135",
   "metadata": {},
   "outputs": [],
   "source": [
    "def download_daily_data(ticker, start, end):\n",
    "    \"\"\" \n",
    "    The function downloads daily market data to a pandas DataFrame \n",
    "    using the 'yfinance' API between the dates specified.\n",
    "    \"\"\"\n",
    "    data = yf.download(ticker, start, end)\n",
    "    \n",
    "    return data"
   ]
  },
  {
   "cell_type": "code",
   "execution_count": 4,
   "id": "0ff22e18-562e-457d-84a7-e3ce3e3b6565",
   "metadata": {},
   "outputs": [
    {
     "name": "stdout",
     "output_type": "stream",
     "text": [
      "[*********************100%***********************]  1 of 1 completed\n"
     ]
    }
   ],
   "source": [
    "df = download_daily_data(ticker, start, end)"
   ]
  },
  {
   "cell_type": "code",
   "execution_count": 5,
   "id": "21dae628-c8f4-4cb1-b58b-a06acada6a34",
   "metadata": {},
   "outputs": [
    {
     "data": {
      "text/html": [
       "<div>\n",
       "<style scoped>\n",
       "    .dataframe tbody tr th:only-of-type {\n",
       "        vertical-align: middle;\n",
       "    }\n",
       "\n",
       "    .dataframe tbody tr th {\n",
       "        vertical-align: top;\n",
       "    }\n",
       "\n",
       "    .dataframe thead th {\n",
       "        text-align: right;\n",
       "    }\n",
       "</style>\n",
       "<table border=\"1\" class=\"dataframe\">\n",
       "  <thead>\n",
       "    <tr style=\"text-align: right;\">\n",
       "      <th></th>\n",
       "      <th>Open</th>\n",
       "      <th>High</th>\n",
       "      <th>Low</th>\n",
       "      <th>Close</th>\n",
       "      <th>Adj Close</th>\n",
       "      <th>Volume</th>\n",
       "    </tr>\n",
       "    <tr>\n",
       "      <th>Date</th>\n",
       "      <th></th>\n",
       "      <th></th>\n",
       "      <th></th>\n",
       "      <th></th>\n",
       "      <th></th>\n",
       "      <th></th>\n",
       "    </tr>\n",
       "  </thead>\n",
       "  <tbody>\n",
       "    <tr>\n",
       "      <th>2015-01-02</th>\n",
       "      <td>46.660000</td>\n",
       "      <td>47.419998</td>\n",
       "      <td>46.540001</td>\n",
       "      <td>46.759998</td>\n",
       "      <td>41.013313</td>\n",
       "      <td>27913900</td>\n",
       "    </tr>\n",
       "    <tr>\n",
       "      <th>2015-01-05</th>\n",
       "      <td>46.369999</td>\n",
       "      <td>46.730000</td>\n",
       "      <td>46.250000</td>\n",
       "      <td>46.330002</td>\n",
       "      <td>40.636162</td>\n",
       "      <td>39673900</td>\n",
       "    </tr>\n",
       "    <tr>\n",
       "      <th>2015-01-06</th>\n",
       "      <td>46.380001</td>\n",
       "      <td>46.750000</td>\n",
       "      <td>45.540001</td>\n",
       "      <td>45.650002</td>\n",
       "      <td>40.039734</td>\n",
       "      <td>36447900</td>\n",
       "    </tr>\n",
       "    <tr>\n",
       "      <th>2015-01-07</th>\n",
       "      <td>45.980000</td>\n",
       "      <td>46.459999</td>\n",
       "      <td>45.490002</td>\n",
       "      <td>46.230000</td>\n",
       "      <td>40.548450</td>\n",
       "      <td>29114100</td>\n",
       "    </tr>\n",
       "    <tr>\n",
       "      <th>2015-01-08</th>\n",
       "      <td>46.750000</td>\n",
       "      <td>47.750000</td>\n",
       "      <td>46.720001</td>\n",
       "      <td>47.590000</td>\n",
       "      <td>41.741314</td>\n",
       "      <td>29645200</td>\n",
       "    </tr>\n",
       "  </tbody>\n",
       "</table>\n",
       "</div>"
      ],
      "text/plain": [
       "                 Open       High        Low      Close  Adj Close    Volume\n",
       "Date                                                                       \n",
       "2015-01-02  46.660000  47.419998  46.540001  46.759998  41.013313  27913900\n",
       "2015-01-05  46.369999  46.730000  46.250000  46.330002  40.636162  39673900\n",
       "2015-01-06  46.380001  46.750000  45.540001  45.650002  40.039734  36447900\n",
       "2015-01-07  45.980000  46.459999  45.490002  46.230000  40.548450  29114100\n",
       "2015-01-08  46.750000  47.750000  46.720001  47.590000  41.741314  29645200"
      ]
     },
     "execution_count": 5,
     "metadata": {},
     "output_type": "execute_result"
    },
    {
     "data": {
      "text/html": [
       "<div>\n",
       "<style scoped>\n",
       "    .dataframe tbody tr th:only-of-type {\n",
       "        vertical-align: middle;\n",
       "    }\n",
       "\n",
       "    .dataframe tbody tr th {\n",
       "        vertical-align: top;\n",
       "    }\n",
       "\n",
       "    .dataframe thead th {\n",
       "        text-align: right;\n",
       "    }\n",
       "</style>\n",
       "<table border=\"1\" class=\"dataframe\">\n",
       "  <thead>\n",
       "    <tr style=\"text-align: right;\">\n",
       "      <th></th>\n",
       "      <th>Open</th>\n",
       "      <th>High</th>\n",
       "      <th>Low</th>\n",
       "      <th>Close</th>\n",
       "      <th>Adj Close</th>\n",
       "      <th>Volume</th>\n",
       "    </tr>\n",
       "    <tr>\n",
       "      <th>Date</th>\n",
       "      <th></th>\n",
       "      <th></th>\n",
       "      <th></th>\n",
       "      <th></th>\n",
       "      <th></th>\n",
       "      <th></th>\n",
       "    </tr>\n",
       "  </thead>\n",
       "  <tbody>\n",
       "    <tr>\n",
       "      <th>2020-04-23</th>\n",
       "      <td>174.110001</td>\n",
       "      <td>175.059998</td>\n",
       "      <td>170.910004</td>\n",
       "      <td>171.419998</td>\n",
       "      <td>167.933334</td>\n",
       "      <td>32790800</td>\n",
       "    </tr>\n",
       "    <tr>\n",
       "      <th>2020-04-24</th>\n",
       "      <td>172.059998</td>\n",
       "      <td>174.559998</td>\n",
       "      <td>170.710007</td>\n",
       "      <td>174.550003</td>\n",
       "      <td>170.999695</td>\n",
       "      <td>34277600</td>\n",
       "    </tr>\n",
       "    <tr>\n",
       "      <th>2020-04-27</th>\n",
       "      <td>176.589996</td>\n",
       "      <td>176.899994</td>\n",
       "      <td>173.300003</td>\n",
       "      <td>174.050003</td>\n",
       "      <td>170.509842</td>\n",
       "      <td>33194400</td>\n",
       "    </tr>\n",
       "    <tr>\n",
       "      <th>2020-04-28</th>\n",
       "      <td>175.589996</td>\n",
       "      <td>175.669998</td>\n",
       "      <td>169.389999</td>\n",
       "      <td>169.809998</td>\n",
       "      <td>166.356049</td>\n",
       "      <td>34392700</td>\n",
       "    </tr>\n",
       "    <tr>\n",
       "      <th>2020-04-29</th>\n",
       "      <td>173.220001</td>\n",
       "      <td>177.679993</td>\n",
       "      <td>171.880005</td>\n",
       "      <td>177.429993</td>\n",
       "      <td>173.821091</td>\n",
       "      <td>51286600</td>\n",
       "    </tr>\n",
       "  </tbody>\n",
       "</table>\n",
       "</div>"
      ],
      "text/plain": [
       "                  Open        High         Low       Close   Adj Close  \\\n",
       "Date                                                                     \n",
       "2020-04-23  174.110001  175.059998  170.910004  171.419998  167.933334   \n",
       "2020-04-24  172.059998  174.559998  170.710007  174.550003  170.999695   \n",
       "2020-04-27  176.589996  176.899994  173.300003  174.050003  170.509842   \n",
       "2020-04-28  175.589996  175.669998  169.389999  169.809998  166.356049   \n",
       "2020-04-29  173.220001  177.679993  171.880005  177.429993  173.821091   \n",
       "\n",
       "              Volume  \n",
       "Date                  \n",
       "2020-04-23  32790800  \n",
       "2020-04-24  34277600  \n",
       "2020-04-27  33194400  \n",
       "2020-04-28  34392700  \n",
       "2020-04-29  51286600  "
      ]
     },
     "execution_count": 5,
     "metadata": {},
     "output_type": "execute_result"
    },
    {
     "data": {
      "text/plain": [
       "(1340, 6)"
      ]
     },
     "execution_count": 5,
     "metadata": {},
     "output_type": "execute_result"
    }
   ],
   "source": [
    "df.head()\n",
    "df.tail()\n",
    "df.shape"
   ]
  },
  {
   "cell_type": "markdown",
   "id": "dbb0bc43-1784-4e1f-a187-0575709d420d",
   "metadata": {
    "tags": []
   },
   "source": [
    "### __Q1: Try out the ‘Big Moves Monday’ strategy on the above data with the standard conditions as taught in the class. Now back-test the strategy again but this time tweak one of the conditions such that the ‘ibs’ value must be lower than 0.8. Compare the results(total return) with the standard conditions case. Comment on the results.__"
   ]
  },
  {
   "cell_type": "code",
   "execution_count": 6,
   "id": "fed080fc-7d7d-4d43-a6ad-93be1a712e18",
   "metadata": {},
   "outputs": [],
   "source": [
    "df1 = df.copy()"
   ]
  },
  {
   "cell_type": "code",
   "execution_count": 7,
   "id": "7215b323-57dc-4f79-b42e-a902a56a38cb",
   "metadata": {},
   "outputs": [],
   "source": [
    "def compute_daily_returns(data):\n",
    "    \"\"\" \n",
    "    The function computes daily log returns based on the Adjusted Close prices in the pandas DataFrame\n",
    "    and stores it in a column  called 'cc_returns'.\n",
    "    \"\"\"\n",
    "    data['cc_returns'] = np.log(data['Adj Close'] / data['Adj Close'].shift(1))\n",
    "    \n",
    "    return data"
   ]
  },
  {
   "cell_type": "code",
   "execution_count": 8,
   "id": "f7c839e1-441f-4aa1-bb33-c845b9759b19",
   "metadata": {},
   "outputs": [],
   "source": [
    "def compute_indicators(data):\n",
    "    \"\"\"\n",
    "    The function creates additional columns to an OHLC pandas DataFrame\n",
    "    required to backtest the \"Big Moves on Mondays\" trading strategy.\n",
    "    \"\"\"\n",
    "    # Columns created to check condition 1\n",
    "    data['day'] = data.index.day_name()\n",
    "    data['prev_day'] = data['day'].shift(1)\n",
    "    data['four_days_after'] = data['day'].shift(-4)\n",
    "    \n",
    "    # Columns created to check condition 2\n",
    "    data['relative_range'] = (data['High'] - data['Low']) / data['Adj Close']\n",
    "    data['rel_range_ma'] = data['relative_range'].rolling(window=25).mean()\n",
    "    \n",
    "    # Column created to check condition 3\n",
    "    data['ibs'] = (data['Adj Close'] - data['Low']) / (data['High'] - data['Low'])\n",
    "    \n",
    "    return data"
   ]
  },
  {
   "cell_type": "code",
   "execution_count": 9,
   "id": "c14e0c3b-cc6c-4b59-8445-89d10b2d66cd",
   "metadata": {},
   "outputs": [],
   "source": [
    "def backtest_strategy(data, ibs_threshold= 0.3):\n",
    "    \"\"\"\n",
    "    The function creates additional columns to the pandas DataFrame for checking conditions\n",
    "    to backtest the \"Big Moves on Mondays\" trading strategy. \n",
    "    It then computes the strategy returns.\n",
    "    IMPORTANT: To be run ONLY after the function compute_indicators.\n",
    "    \"\"\"\n",
    "    data['condition1'] = np.where((data['day'] == 'Monday') \n",
    "                            & (data['prev_day'] == 'Friday') \n",
    "                            & (data['four_days_after'] == 'Friday'), \n",
    "                            1, 0)\n",
    "    \n",
    "    data['condition2'] = np.where((1 - data['Adj Close'] / data['Adj Close'].shift(1))\n",
    "                                  >= 0.25 * data['rel_range_ma'], 1, 0)\n",
    "    \n",
    "    data['condition3'] = np.where(data['ibs'] < ibs_threshold, 1, 0)\n",
    "    \n",
    "    data['signal'] = np.where((data['condition1']==1) \n",
    "                        & (data['condition2']==1) \n",
    "                        & (data['condition3']==1), \n",
    "                        1, 0)\n",
    "    \n",
    "    # The below two statements ensures that we can directly calculate strategy returns by multiplying the \n",
    "    # columns 'position' and 'cc_returns'\n",
    "    data['signal'] = data['signal'].shift(1)\n",
    "    \n",
    "    data['position'] = data['signal'].replace(to_replace=0, method='ffill', limit=3)\n",
    "    \n",
    "    data['strategy_returns'] = data['cc_returns'] * data['position']\n",
    "    \n",
    "    return data"
   ]
  },
  {
   "cell_type": "code",
   "execution_count": 10,
   "id": "4f295ad1-5f5e-4f17-a76e-a3f4624b4581",
   "metadata": {},
   "outputs": [],
   "source": [
    "def show_backtesting_results(data):\n",
    "    \"\"\"\n",
    "    The function displays the cumulative returns from the trading strategy and a buy-and-hold strategy. \n",
    "    It also plots a chart showing both returns and position over time.\n",
    "    IMPORTANT: To be run ONLY after the function backtest_strategy.\n",
    "    \"\"\"\n",
    "\n",
    "    print('Buy and hold returns: ', np.round(data['cc_returns'].cumsum()[-1], 2))\n",
    "    print('Strategy returns: ', np.round(data['strategy_returns'].cumsum()[-1], 2))\n",
    "    \n",
    "    data[['cc_returns', 'strategy_returns']] = data[['cc_returns', 'strategy_returns']].cumsum()\n",
    "    data[['cc_returns', 'strategy_returns']].plot(grid=True, figsize=(12, 8));"
   ]
  },
  {
   "cell_type": "markdown",
   "id": "2878e2f5-553c-43de-b2f4-c7b0bc92f0ea",
   "metadata": {},
   "source": [
    "#### Let's use the above functions to backtest the same strategy for two different values of the ibs indicator (to avoid code repetition we have parametrized the backtest_strategy function to accept ibs as an input parameter with a default value of 0.3)"
   ]
  },
  {
   "cell_type": "code",
   "execution_count": 11,
   "id": "0f5f2358-c02d-49a6-acec-61941d1b704b",
   "metadata": {},
   "outputs": [
    {
     "data": {
      "text/plain": [
       "False"
      ]
     },
     "execution_count": 11,
     "metadata": {},
     "output_type": "execute_result"
    },
    {
     "name": "stdout",
     "output_type": "stream",
     "text": [
      "Count of zeros in Column  'AdjClose' :  0\n"
     ]
    }
   ],
   "source": [
    "# let's make sure that there aren't any NaN or zero values\n",
    "df1[\"Adj Close\"].isnull().values.any()\n",
    "count = (df1[\"Adj Close\"] == 0).sum()\n",
    "print(\"Count of zeros in Column  'AdjClose' : \", count)"
   ]
  },
  {
   "cell_type": "code",
   "execution_count": 12,
   "id": "d1cfa983-8b1d-489e-a54c-886d57cb3a51",
   "metadata": {},
   "outputs": [
    {
     "data": {
      "text/html": [
       "<div>\n",
       "<style scoped>\n",
       "    .dataframe tbody tr th:only-of-type {\n",
       "        vertical-align: middle;\n",
       "    }\n",
       "\n",
       "    .dataframe tbody tr th {\n",
       "        vertical-align: top;\n",
       "    }\n",
       "\n",
       "    .dataframe thead th {\n",
       "        text-align: right;\n",
       "    }\n",
       "</style>\n",
       "<table border=\"1\" class=\"dataframe\">\n",
       "  <thead>\n",
       "    <tr style=\"text-align: right;\">\n",
       "      <th></th>\n",
       "      <th>Open</th>\n",
       "      <th>High</th>\n",
       "      <th>Low</th>\n",
       "      <th>Close</th>\n",
       "      <th>Adj Close</th>\n",
       "      <th>Volume</th>\n",
       "      <th>cc_returns</th>\n",
       "    </tr>\n",
       "    <tr>\n",
       "      <th>Date</th>\n",
       "      <th></th>\n",
       "      <th></th>\n",
       "      <th></th>\n",
       "      <th></th>\n",
       "      <th></th>\n",
       "      <th></th>\n",
       "      <th></th>\n",
       "    </tr>\n",
       "  </thead>\n",
       "  <tbody>\n",
       "    <tr>\n",
       "      <th>2020-04-27</th>\n",
       "      <td>176.589996</td>\n",
       "      <td>176.899994</td>\n",
       "      <td>173.300003</td>\n",
       "      <td>174.050003</td>\n",
       "      <td>170.509842</td>\n",
       "      <td>33194400</td>\n",
       "      <td>-0.002869</td>\n",
       "    </tr>\n",
       "    <tr>\n",
       "      <th>2020-04-28</th>\n",
       "      <td>175.589996</td>\n",
       "      <td>175.669998</td>\n",
       "      <td>169.389999</td>\n",
       "      <td>169.809998</td>\n",
       "      <td>166.356049</td>\n",
       "      <td>34392700</td>\n",
       "      <td>-0.024663</td>\n",
       "    </tr>\n",
       "    <tr>\n",
       "      <th>2020-04-29</th>\n",
       "      <td>173.220001</td>\n",
       "      <td>177.679993</td>\n",
       "      <td>171.880005</td>\n",
       "      <td>177.429993</td>\n",
       "      <td>173.821091</td>\n",
       "      <td>51286600</td>\n",
       "      <td>0.043896</td>\n",
       "    </tr>\n",
       "  </tbody>\n",
       "</table>\n",
       "</div>"
      ],
      "text/plain": [
       "                  Open        High         Low       Close   Adj Close  \\\n",
       "Date                                                                     \n",
       "2020-04-27  176.589996  176.899994  173.300003  174.050003  170.509842   \n",
       "2020-04-28  175.589996  175.669998  169.389999  169.809998  166.356049   \n",
       "2020-04-29  173.220001  177.679993  171.880005  177.429993  173.821091   \n",
       "\n",
       "              Volume  cc_returns  \n",
       "Date                              \n",
       "2020-04-27  33194400   -0.002869  \n",
       "2020-04-28  34392700   -0.024663  \n",
       "2020-04-29  51286600    0.043896  "
      ]
     },
     "execution_count": 12,
     "metadata": {},
     "output_type": "execute_result"
    },
    {
     "data": {
      "text/plain": [
       "(1340, 7)"
      ]
     },
     "execution_count": 12,
     "metadata": {},
     "output_type": "execute_result"
    }
   ],
   "source": [
    "df1 = compute_daily_returns(df1)\n",
    "df1.tail(3)\n",
    "df1.shape"
   ]
  },
  {
   "cell_type": "code",
   "execution_count": 13,
   "id": "f94ffead-c96e-480f-b5d2-90b803653be8",
   "metadata": {},
   "outputs": [
    {
     "data": {
      "text/html": [
       "<div>\n",
       "<style scoped>\n",
       "    .dataframe tbody tr th:only-of-type {\n",
       "        vertical-align: middle;\n",
       "    }\n",
       "\n",
       "    .dataframe tbody tr th {\n",
       "        vertical-align: top;\n",
       "    }\n",
       "\n",
       "    .dataframe thead th {\n",
       "        text-align: right;\n",
       "    }\n",
       "</style>\n",
       "<table border=\"1\" class=\"dataframe\">\n",
       "  <thead>\n",
       "    <tr style=\"text-align: right;\">\n",
       "      <th></th>\n",
       "      <th>Open</th>\n",
       "      <th>High</th>\n",
       "      <th>Low</th>\n",
       "      <th>Close</th>\n",
       "      <th>Adj Close</th>\n",
       "      <th>Volume</th>\n",
       "      <th>cc_returns</th>\n",
       "      <th>day</th>\n",
       "      <th>prev_day</th>\n",
       "      <th>four_days_after</th>\n",
       "      <th>relative_range</th>\n",
       "      <th>rel_range_ma</th>\n",
       "      <th>ibs</th>\n",
       "    </tr>\n",
       "    <tr>\n",
       "      <th>Date</th>\n",
       "      <th></th>\n",
       "      <th></th>\n",
       "      <th></th>\n",
       "      <th></th>\n",
       "      <th></th>\n",
       "      <th></th>\n",
       "      <th></th>\n",
       "      <th></th>\n",
       "      <th></th>\n",
       "      <th></th>\n",
       "      <th></th>\n",
       "      <th></th>\n",
       "      <th></th>\n",
       "    </tr>\n",
       "  </thead>\n",
       "  <tbody>\n",
       "    <tr>\n",
       "      <th>2020-04-27</th>\n",
       "      <td>176.589996</td>\n",
       "      <td>176.899994</td>\n",
       "      <td>173.300003</td>\n",
       "      <td>174.050003</td>\n",
       "      <td>170.509842</td>\n",
       "      <td>33194400</td>\n",
       "      <td>-0.002869</td>\n",
       "      <td>Monday</td>\n",
       "      <td>Friday</td>\n",
       "      <td>NaN</td>\n",
       "      <td>0.021113</td>\n",
       "      <td>0.037599</td>\n",
       "      <td>-0.775047</td>\n",
       "    </tr>\n",
       "    <tr>\n",
       "      <th>2020-04-28</th>\n",
       "      <td>175.589996</td>\n",
       "      <td>175.669998</td>\n",
       "      <td>169.389999</td>\n",
       "      <td>169.809998</td>\n",
       "      <td>166.356049</td>\n",
       "      <td>34392700</td>\n",
       "      <td>-0.024663</td>\n",
       "      <td>Tuesday</td>\n",
       "      <td>Monday</td>\n",
       "      <td>NaN</td>\n",
       "      <td>0.037750</td>\n",
       "      <td>0.036692</td>\n",
       "      <td>-0.483113</td>\n",
       "    </tr>\n",
       "    <tr>\n",
       "      <th>2020-04-29</th>\n",
       "      <td>173.220001</td>\n",
       "      <td>177.679993</td>\n",
       "      <td>171.880005</td>\n",
       "      <td>177.429993</td>\n",
       "      <td>173.821091</td>\n",
       "      <td>51286600</td>\n",
       "      <td>0.043896</td>\n",
       "      <td>Wednesday</td>\n",
       "      <td>Tuesday</td>\n",
       "      <td>NaN</td>\n",
       "      <td>0.033368</td>\n",
       "      <td>0.035733</td>\n",
       "      <td>0.334671</td>\n",
       "    </tr>\n",
       "  </tbody>\n",
       "</table>\n",
       "</div>"
      ],
      "text/plain": [
       "                  Open        High         Low       Close   Adj Close  \\\n",
       "Date                                                                     \n",
       "2020-04-27  176.589996  176.899994  173.300003  174.050003  170.509842   \n",
       "2020-04-28  175.589996  175.669998  169.389999  169.809998  166.356049   \n",
       "2020-04-29  173.220001  177.679993  171.880005  177.429993  173.821091   \n",
       "\n",
       "              Volume  cc_returns        day prev_day four_days_after  \\\n",
       "Date                                                                   \n",
       "2020-04-27  33194400   -0.002869     Monday   Friday             NaN   \n",
       "2020-04-28  34392700   -0.024663    Tuesday   Monday             NaN   \n",
       "2020-04-29  51286600    0.043896  Wednesday  Tuesday             NaN   \n",
       "\n",
       "            relative_range  rel_range_ma       ibs  \n",
       "Date                                                \n",
       "2020-04-27        0.021113      0.037599 -0.775047  \n",
       "2020-04-28        0.037750      0.036692 -0.483113  \n",
       "2020-04-29        0.033368      0.035733  0.334671  "
      ]
     },
     "execution_count": 13,
     "metadata": {},
     "output_type": "execute_result"
    },
    {
     "data": {
      "text/plain": [
       "(1340, 13)"
      ]
     },
     "execution_count": 13,
     "metadata": {},
     "output_type": "execute_result"
    }
   ],
   "source": [
    "df1 = compute_indicators(df1)\n",
    "df1.tail(3)\n",
    "df1.shape"
   ]
  },
  {
   "cell_type": "code",
   "execution_count": 14,
   "id": "3a2377c2-3144-48d7-a998-1ce9da3fe3af",
   "metadata": {},
   "outputs": [],
   "source": [
    "df_strategyA= df1.copy()\n",
    "df_strategyB= df1.copy()\n",
    "# standard strategy with ibs < 0.3\n",
    "df1_strategyA = backtest_strategy(df_strategyA)\n",
    "# standard strategy with ibs < 0.8\n",
    "df1_strategyB = backtest_strategy(df_strategyB, ibs_threshold=0.8)"
   ]
  },
  {
   "cell_type": "code",
   "execution_count": 15,
   "id": "c4561093-37ab-4087-b2e2-1ef0322194a5",
   "metadata": {},
   "outputs": [
    {
     "name": "stdout",
     "output_type": "stream",
     "text": [
      "Buy and hold returns:  1.44\n",
      "Strategy returns:  0.74\n"
     ]
    },
    {
     "data": {
      "image/png": "[encoded data removed]",
      "text/plain": [
       "<Figure size 864x576 with 1 Axes>"
      ]
     },
     "metadata": {
      "needs_background": "light"
     },
     "output_type": "display_data"
    }
   ],
   "source": [
    "show_backtesting_results(df1_strategyA)"
   ]
  },
  {
   "cell_type": "code",
   "execution_count": 16,
   "id": "6853e5f5-2db2-42c0-b099-4a7f12cb42df",
   "metadata": {},
   "outputs": [
    {
     "name": "stdout",
     "output_type": "stream",
     "text": [
      "Buy and hold returns:  1.44\n",
      "Strategy returns:  0.68\n"
     ]
    },
    {
     "data": {
      "image/png": "[encoded data removed]",
      "text/plain": [
       "<Figure size 864x576 with 1 Axes>"
      ]
     },
     "metadata": {
      "needs_background": "light"
     },
     "output_type": "display_data"
    }
   ],
   "source": [
    "show_backtesting_results(df1_strategyB)"
   ]
  },
  {
   "cell_type": "markdown",
   "id": "9c7946e0-71d1-4495-a527-7cbf2e1033fa",
   "metadata": {},
   "source": [
    "#### __COMMENTS:__ __Both strategies are worse than traditional Buy&Hold (before 2017 they were quite close to each other). Standard strategy (ibs<0.3) performs slightly better than modified strategy (ibs<0.8) 74% vs. 68%__ __Overall they are not worth it!__"
   ]
  },
  {
   "cell_type": "markdown",
   "id": "989ecfd5-7a38-4def-8657-c43e05a952a4",
   "metadata": {},
   "source": [
    "### __Q2: You have seen a strategy based on MACD indicator in the class. Now back-test the following strategy based on Bollinger bands:__"
   ]
  },
  {
   "cell_type": "markdown",
   "id": "1c87544d-a026-4f37-ac29-564956046967",
   "metadata": {},
   "source": [
    "#### (i) Create 20-day (+/- 2 standard deviations) Bollinger bands on the adjusted close price for the above equity"
   ]
  },
  {
   "cell_type": "code",
   "execution_count": 17,
   "id": "0a2da2ec-df4a-4fae-b9c9-10e3246192d8",
   "metadata": {},
   "outputs": [
    {
     "name": "stdout",
     "output_type": "stream",
     "text": [
      "[*********************100%***********************]  1 of 1 completed\n"
     ]
    },
    {
     "data": {
      "text/html": [
       "<div>\n",
       "<style scoped>\n",
       "    .dataframe tbody tr th:only-of-type {\n",
       "        vertical-align: middle;\n",
       "    }\n",
       "\n",
       "    .dataframe tbody tr th {\n",
       "        vertical-align: top;\n",
       "    }\n",
       "\n",
       "    .dataframe thead th {\n",
       "        text-align: right;\n",
       "    }\n",
       "</style>\n",
       "<table border=\"1\" class=\"dataframe\">\n",
       "  <thead>\n",
       "    <tr style=\"text-align: right;\">\n",
       "      <th></th>\n",
       "      <th>Open</th>\n",
       "      <th>High</th>\n",
       "      <th>Low</th>\n",
       "      <th>Close</th>\n",
       "      <th>Adj Close</th>\n",
       "      <th>Volume</th>\n",
       "    </tr>\n",
       "    <tr>\n",
       "      <th>Date</th>\n",
       "      <th></th>\n",
       "      <th></th>\n",
       "      <th></th>\n",
       "      <th></th>\n",
       "      <th></th>\n",
       "      <th></th>\n",
       "    </tr>\n",
       "  </thead>\n",
       "  <tbody>\n",
       "    <tr>\n",
       "      <th>2020-04-27</th>\n",
       "      <td>176.589996</td>\n",
       "      <td>176.899994</td>\n",
       "      <td>173.300003</td>\n",
       "      <td>174.050003</td>\n",
       "      <td>170.509872</td>\n",
       "      <td>33194400</td>\n",
       "    </tr>\n",
       "    <tr>\n",
       "      <th>2020-04-28</th>\n",
       "      <td>175.589996</td>\n",
       "      <td>175.669998</td>\n",
       "      <td>169.389999</td>\n",
       "      <td>169.809998</td>\n",
       "      <td>166.356094</td>\n",
       "      <td>34392700</td>\n",
       "    </tr>\n",
       "    <tr>\n",
       "      <th>2020-04-29</th>\n",
       "      <td>173.220001</td>\n",
       "      <td>177.679993</td>\n",
       "      <td>171.880005</td>\n",
       "      <td>177.429993</td>\n",
       "      <td>173.821075</td>\n",
       "      <td>51286600</td>\n",
       "    </tr>\n",
       "  </tbody>\n",
       "</table>\n",
       "</div>"
      ],
      "text/plain": [
       "                  Open        High         Low       Close   Adj Close  \\\n",
       "Date                                                                     \n",
       "2020-04-27  176.589996  176.899994  173.300003  174.050003  170.509872   \n",
       "2020-04-28  175.589996  175.669998  169.389999  169.809998  166.356094   \n",
       "2020-04-29  173.220001  177.679993  171.880005  177.429993  173.821075   \n",
       "\n",
       "              Volume  \n",
       "Date                  \n",
       "2020-04-27  33194400  \n",
       "2020-04-28  34392700  \n",
       "2020-04-29  51286600  "
      ]
     },
     "execution_count": 17,
     "metadata": {},
     "output_type": "execute_result"
    },
    {
     "data": {
      "text/plain": [
       "(1340, 6)"
      ]
     },
     "execution_count": 17,
     "metadata": {},
     "output_type": "execute_result"
    }
   ],
   "source": [
    "df = download_daily_data(ticker, start, end)\n",
    "df.tail(3)\n",
    "df.shape"
   ]
  },
  {
   "cell_type": "code",
   "execution_count": 18,
   "id": "74cf7c1a-4627-42ac-8831-d8b6b1125c34",
   "metadata": {},
   "outputs": [
    {
     "data": {
      "text/plain": [
       "\u001b[0;31mDocstring:\u001b[0m\n",
       "BBANDS(real[, timeperiod=?, nbdevup=?, nbdevdn=?, matype=?])\n",
       "\n",
       "Bollinger Bands (Overlap Studies)\n",
       "\n",
       "Inputs:\n",
       "    real: (any ndarray)\n",
       "Parameters:\n",
       "    timeperiod: 5\n",
       "    nbdevup: 2\n",
       "    nbdevdn: 2\n",
       "    matype: 0 (Simple Moving Average)\n",
       "Outputs:\n",
       "    upperband\n",
       "    middleband\n",
       "    lowerband\n",
       "\u001b[0;31mType:\u001b[0m      function\n"
      ]
     },
     "metadata": {},
     "output_type": "display_data"
    }
   ],
   "source": [
    "# let's use the Ta-lib library\n",
    "from talib import BBANDS\n",
    "BBANDS?"
   ]
  },
  {
   "cell_type": "code",
   "execution_count": 19,
   "id": "751c3ea8-b234-4a31-80a2-fbe4b454582b",
   "metadata": {},
   "outputs": [
    {
     "data": {
      "image/png": "[encoded data removed]",
      "text/plain": [
       "<Figure size 864x576 with 1 Axes>"
      ]
     },
     "metadata": {
      "needs_background": "light"
     },
     "output_type": "display_data"
    }
   ],
   "source": [
    "# let's calculate the Bollinger Bands and plot them\n",
    "dfbb=df.copy()\n",
    "adj_close= dfbb[\"Adj Close\"]\n",
    "# we don't need the mid band and use '_' to esclude the column\n",
    "dfbb['up'], _, dfbb['low'] = BBANDS(adj_close, timeperiod=20, nbdevup=2, nbdevdn=2, matype=0)\n",
    "dfbb[['Adj Close', 'up', 'low']].plot(grid=True, linewidth=1, figsize=(12, 8));"
   ]
  },
  {
   "cell_type": "code",
   "execution_count": 20,
   "id": "6c2dbec0-c348-4465-97c2-4a4fb0351b5b",
   "metadata": {},
   "outputs": [
    {
     "data": {
      "text/html": [
       "<div>\n",
       "<style scoped>\n",
       "    .dataframe tbody tr th:only-of-type {\n",
       "        vertical-align: middle;\n",
       "    }\n",
       "\n",
       "    .dataframe tbody tr th {\n",
       "        vertical-align: top;\n",
       "    }\n",
       "\n",
       "    .dataframe thead th {\n",
       "        text-align: right;\n",
       "    }\n",
       "</style>\n",
       "<table border=\"1\" class=\"dataframe\">\n",
       "  <thead>\n",
       "    <tr style=\"text-align: right;\">\n",
       "      <th></th>\n",
       "      <th>Open</th>\n",
       "      <th>High</th>\n",
       "      <th>Low</th>\n",
       "      <th>Close</th>\n",
       "      <th>Adj Close</th>\n",
       "      <th>Volume</th>\n",
       "      <th>up</th>\n",
       "      <th>low</th>\n",
       "    </tr>\n",
       "    <tr>\n",
       "      <th>Date</th>\n",
       "      <th></th>\n",
       "      <th></th>\n",
       "      <th></th>\n",
       "      <th></th>\n",
       "      <th></th>\n",
       "      <th></th>\n",
       "      <th></th>\n",
       "      <th></th>\n",
       "    </tr>\n",
       "  </thead>\n",
       "  <tbody>\n",
       "    <tr>\n",
       "      <th>2020-04-23</th>\n",
       "      <td>174.110001</td>\n",
       "      <td>175.059998</td>\n",
       "      <td>170.910004</td>\n",
       "      <td>171.419998</td>\n",
       "      <td>167.933334</td>\n",
       "      <td>32790800</td>\n",
       "      <td>178.273661</td>\n",
       "      <td>144.870170</td>\n",
       "    </tr>\n",
       "    <tr>\n",
       "      <th>2020-04-24</th>\n",
       "      <td>172.059998</td>\n",
       "      <td>174.559998</td>\n",
       "      <td>170.710007</td>\n",
       "      <td>174.550003</td>\n",
       "      <td>170.999680</td>\n",
       "      <td>34277600</td>\n",
       "      <td>179.164718</td>\n",
       "      <td>145.785607</td>\n",
       "    </tr>\n",
       "    <tr>\n",
       "      <th>2020-04-27</th>\n",
       "      <td>176.589996</td>\n",
       "      <td>176.899994</td>\n",
       "      <td>173.300003</td>\n",
       "      <td>174.050003</td>\n",
       "      <td>170.509872</td>\n",
       "      <td>33194400</td>\n",
       "      <td>179.020660</td>\n",
       "      <td>148.315141</td>\n",
       "    </tr>\n",
       "    <tr>\n",
       "      <th>2020-04-28</th>\n",
       "      <td>175.589996</td>\n",
       "      <td>175.669998</td>\n",
       "      <td>169.389999</td>\n",
       "      <td>169.809998</td>\n",
       "      <td>166.356094</td>\n",
       "      <td>34392700</td>\n",
       "      <td>179.213691</td>\n",
       "      <td>149.060627</td>\n",
       "    </tr>\n",
       "    <tr>\n",
       "      <th>2020-04-29</th>\n",
       "      <td>173.220001</td>\n",
       "      <td>177.679993</td>\n",
       "      <td>171.880005</td>\n",
       "      <td>177.429993</td>\n",
       "      <td>173.821075</td>\n",
       "      <td>51286600</td>\n",
       "      <td>180.061671</td>\n",
       "      <td>150.144534</td>\n",
       "    </tr>\n",
       "  </tbody>\n",
       "</table>\n",
       "</div>"
      ],
      "text/plain": [
       "                  Open        High         Low       Close   Adj Close  \\\n",
       "Date                                                                     \n",
       "2020-04-23  174.110001  175.059998  170.910004  171.419998  167.933334   \n",
       "2020-04-24  172.059998  174.559998  170.710007  174.550003  170.999680   \n",
       "2020-04-27  176.589996  176.899994  173.300003  174.050003  170.509872   \n",
       "2020-04-28  175.589996  175.669998  169.389999  169.809998  166.356094   \n",
       "2020-04-29  173.220001  177.679993  171.880005  177.429993  173.821075   \n",
       "\n",
       "              Volume          up         low  \n",
       "Date                                          \n",
       "2020-04-23  32790800  178.273661  144.870170  \n",
       "2020-04-24  34277600  179.164718  145.785607  \n",
       "2020-04-27  33194400  179.020660  148.315141  \n",
       "2020-04-28  34392700  179.213691  149.060627  \n",
       "2020-04-29  51286600  180.061671  150.144534  "
      ]
     },
     "execution_count": 20,
     "metadata": {},
     "output_type": "execute_result"
    },
    {
     "data": {
      "text/plain": [
       "(1340, 8)"
      ]
     },
     "execution_count": 20,
     "metadata": {},
     "output_type": "execute_result"
    }
   ],
   "source": [
    "dfbb.tail()\n",
    "dfbb.shape"
   ]
  },
  {
   "cell_type": "markdown",
   "id": "a2a6ddec-4bd9-4514-b1ce-17c6bec38000",
   "metadata": {},
   "source": [
    "#### (ii) Buy when the price crosses the lower band from top and hold until the price crosses the upper band from below the next time.\n",
    "#### (iii) Sell when the price crosses the upper band from below and hold until the price crosses the lower band from top the next time.\n",
    "#### (iv) Once we get into a trade, we always have an open position at all times.\n",
    "##### __NOTE: we are not taking into consideration look-ahead bias (to avoid the problem we may enter the position 5 minutes before the close of the trading session or we could enter the position at the 'Open' of the next day. For simplicity let's go with the first approach)__"
   ]
  },
  {
   "cell_type": "code",
   "execution_count": 21,
   "id": "bca334c0-4ec1-46b9-9418-bd795cde8f1a",
   "metadata": {},
   "outputs": [],
   "source": [
    "def compute_indicators(data):\n",
    "    \"\"\"\n",
    "    The function creates additional columns to an OHLC pandas DataFrame\n",
    "    required to backtest the \"Bollinger Bands\" trading strategy.\n",
    "    \"\"\"\n",
    "    # Columns created to check condition (ii) & (iii):\n",
    "    data['previous Adj Close'] = data['Adj Close'].shift(1)\n",
    "    data['up_prev_day'] = data['up'].shift(1)\n",
    "    data['low_prev_day'] = data['low'].shift(1)\n",
    "    \n",
    "    # condition (ii):\n",
    "    data['buy_signal'] = np.where((data['previous Adj Close'] >  data['low_prev_day']) \n",
    "                        & (data['Adj Close'] < data['low']), \n",
    "                            1, 0)\n",
    "    \n",
    "    # condition (iii):\n",
    "    data['sell_signal'] = np.where((data['previous Adj Close'] <  data['up_prev_day']) \n",
    "                          & (data['Adj Close'] > data['up']), \n",
    "                            -1, 0)\n",
    "    \n",
    "    # condition (iv):\n",
    "    data['signal'] = data['buy_signal'] + data['sell_signal']\n",
    "    data['position'] = data['signal'].replace(to_replace=0, method='ffill')\n",
    "    \n",
    "    return data"
   ]
  },
  {
   "cell_type": "code",
   "execution_count": 22,
   "id": "a3e5394c-74d7-43d2-89bf-b693e42b07aa",
   "metadata": {},
   "outputs": [
    {
     "data": {
      "text/html": [
       "<div>\n",
       "<style scoped>\n",
       "    .dataframe tbody tr th:only-of-type {\n",
       "        vertical-align: middle;\n",
       "    }\n",
       "\n",
       "    .dataframe tbody tr th {\n",
       "        vertical-align: top;\n",
       "    }\n",
       "\n",
       "    .dataframe thead th {\n",
       "        text-align: right;\n",
       "    }\n",
       "</style>\n",
       "<table border=\"1\" class=\"dataframe\">\n",
       "  <thead>\n",
       "    <tr style=\"text-align: right;\">\n",
       "      <th></th>\n",
       "      <th>Open</th>\n",
       "      <th>High</th>\n",
       "      <th>Low</th>\n",
       "      <th>Close</th>\n",
       "      <th>Adj Close</th>\n",
       "      <th>Volume</th>\n",
       "      <th>up</th>\n",
       "      <th>low</th>\n",
       "      <th>previous Adj Close</th>\n",
       "      <th>up_prev_day</th>\n",
       "      <th>low_prev_day</th>\n",
       "      <th>buy_signal</th>\n",
       "      <th>sell_signal</th>\n",
       "      <th>signal</th>\n",
       "      <th>position</th>\n",
       "    </tr>\n",
       "    <tr>\n",
       "      <th>Date</th>\n",
       "      <th></th>\n",
       "      <th></th>\n",
       "      <th></th>\n",
       "      <th></th>\n",
       "      <th></th>\n",
       "      <th></th>\n",
       "      <th></th>\n",
       "      <th></th>\n",
       "      <th></th>\n",
       "      <th></th>\n",
       "      <th></th>\n",
       "      <th></th>\n",
       "      <th></th>\n",
       "      <th></th>\n",
       "      <th></th>\n",
       "    </tr>\n",
       "  </thead>\n",
       "  <tbody>\n",
       "    <tr>\n",
       "      <th>2020-04-23</th>\n",
       "      <td>174.110001</td>\n",
       "      <td>175.059998</td>\n",
       "      <td>170.910004</td>\n",
       "      <td>171.419998</td>\n",
       "      <td>167.933334</td>\n",
       "      <td>32790800</td>\n",
       "      <td>178.273661</td>\n",
       "      <td>144.870170</td>\n",
       "      <td>169.990631</td>\n",
       "      <td>178.464087</td>\n",
       "      <td>142.279576</td>\n",
       "      <td>0</td>\n",
       "      <td>0</td>\n",
       "      <td>0</td>\n",
       "      <td>1</td>\n",
       "    </tr>\n",
       "    <tr>\n",
       "      <th>2020-04-24</th>\n",
       "      <td>172.059998</td>\n",
       "      <td>174.559998</td>\n",
       "      <td>170.710007</td>\n",
       "      <td>174.550003</td>\n",
       "      <td>170.999680</td>\n",
       "      <td>34277600</td>\n",
       "      <td>179.164718</td>\n",
       "      <td>145.785607</td>\n",
       "      <td>167.933334</td>\n",
       "      <td>178.273661</td>\n",
       "      <td>144.870170</td>\n",
       "      <td>0</td>\n",
       "      <td>0</td>\n",
       "      <td>0</td>\n",
       "      <td>1</td>\n",
       "    </tr>\n",
       "    <tr>\n",
       "      <th>2020-04-27</th>\n",
       "      <td>176.589996</td>\n",
       "      <td>176.899994</td>\n",
       "      <td>173.300003</td>\n",
       "      <td>174.050003</td>\n",
       "      <td>170.509872</td>\n",
       "      <td>33194400</td>\n",
       "      <td>179.020660</td>\n",
       "      <td>148.315141</td>\n",
       "      <td>170.999680</td>\n",
       "      <td>179.164718</td>\n",
       "      <td>145.785607</td>\n",
       "      <td>0</td>\n",
       "      <td>0</td>\n",
       "      <td>0</td>\n",
       "      <td>1</td>\n",
       "    </tr>\n",
       "    <tr>\n",
       "      <th>2020-04-28</th>\n",
       "      <td>175.589996</td>\n",
       "      <td>175.669998</td>\n",
       "      <td>169.389999</td>\n",
       "      <td>169.809998</td>\n",
       "      <td>166.356094</td>\n",
       "      <td>34392700</td>\n",
       "      <td>179.213691</td>\n",
       "      <td>149.060627</td>\n",
       "      <td>170.509872</td>\n",
       "      <td>179.020660</td>\n",
       "      <td>148.315141</td>\n",
       "      <td>0</td>\n",
       "      <td>0</td>\n",
       "      <td>0</td>\n",
       "      <td>1</td>\n",
       "    </tr>\n",
       "    <tr>\n",
       "      <th>2020-04-29</th>\n",
       "      <td>173.220001</td>\n",
       "      <td>177.679993</td>\n",
       "      <td>171.880005</td>\n",
       "      <td>177.429993</td>\n",
       "      <td>173.821075</td>\n",
       "      <td>51286600</td>\n",
       "      <td>180.061671</td>\n",
       "      <td>150.144534</td>\n",
       "      <td>166.356094</td>\n",
       "      <td>179.213691</td>\n",
       "      <td>149.060627</td>\n",
       "      <td>0</td>\n",
       "      <td>0</td>\n",
       "      <td>0</td>\n",
       "      <td>1</td>\n",
       "    </tr>\n",
       "  </tbody>\n",
       "</table>\n",
       "</div>"
      ],
      "text/plain": [
       "                  Open        High         Low       Close   Adj Close  \\\n",
       "Date                                                                     \n",
       "2020-04-23  174.110001  175.059998  170.910004  171.419998  167.933334   \n",
       "2020-04-24  172.059998  174.559998  170.710007  174.550003  170.999680   \n",
       "2020-04-27  176.589996  176.899994  173.300003  174.050003  170.509872   \n",
       "2020-04-28  175.589996  175.669998  169.389999  169.809998  166.356094   \n",
       "2020-04-29  173.220001  177.679993  171.880005  177.429993  173.821075   \n",
       "\n",
       "              Volume          up         low  previous Adj Close  up_prev_day  \\\n",
       "Date                                                                            \n",
       "2020-04-23  32790800  178.273661  144.870170          169.990631   178.464087   \n",
       "2020-04-24  34277600  179.164718  145.785607          167.933334   178.273661   \n",
       "2020-04-27  33194400  179.020660  148.315141          170.999680   179.164718   \n",
       "2020-04-28  34392700  179.213691  149.060627          170.509872   179.020660   \n",
       "2020-04-29  51286600  180.061671  150.144534          166.356094   179.213691   \n",
       "\n",
       "            low_prev_day  buy_signal  sell_signal  signal  position  \n",
       "Date                                                                 \n",
       "2020-04-23    142.279576           0            0       0         1  \n",
       "2020-04-24    144.870170           0            0       0         1  \n",
       "2020-04-27    145.785607           0            0       0         1  \n",
       "2020-04-28    148.315141           0            0       0         1  \n",
       "2020-04-29    149.060627           0            0       0         1  "
      ]
     },
     "execution_count": 22,
     "metadata": {},
     "output_type": "execute_result"
    },
    {
     "data": {
      "text/plain": [
       " 0    1261\n",
       "-1      55\n",
       " 1      24\n",
       "Name: signal, dtype: int64"
      ]
     },
     "execution_count": 22,
     "metadata": {},
     "output_type": "execute_result"
    },
    {
     "data": {
      "text/plain": [
       "-1    827\n",
       " 1    466\n",
       " 0     47\n",
       "Name: position, dtype: int64"
      ]
     },
     "execution_count": 22,
     "metadata": {},
     "output_type": "execute_result"
    },
    {
     "data": {
      "text/plain": [
       "(1340, 15)"
      ]
     },
     "execution_count": 22,
     "metadata": {},
     "output_type": "execute_result"
    }
   ],
   "source": [
    "#df1=compute_daily_returns(df1)\n",
    "dfbb= compute_indicators(dfbb)\n",
    "dfbb.tail()\n",
    "dfbb['signal'].value_counts()\n",
    "dfbb['position'].value_counts()\n",
    "dfbb.shape"
   ]
  },
  {
   "cell_type": "code",
   "execution_count": 23,
   "id": "02dbecb0-ae1d-4fe0-8c95-e0f7ec05b305",
   "metadata": {},
   "outputs": [],
   "source": [
    "# uncomment these lines to check for buy/sell conditions\n",
    "#df1.iloc[45:50]\n",
    "#df1.iloc[73:80]\n",
    "#df1.iloc[102:110]"
   ]
  },
  {
   "cell_type": "code",
   "execution_count": 24,
   "id": "52bacddb-89f4-4601-ace0-c2f49c09c8e6",
   "metadata": {},
   "outputs": [
    {
     "data": {
      "image/png": "[encoded data removed]",
      "text/plain": [
       "<Figure size 720x360 with 1 Axes>"
      ]
     },
     "metadata": {
      "needs_background": "light"
     },
     "output_type": "display_data"
    }
   ],
   "source": [
    "# plot positions\n",
    "plt.figure(figsize=(10, 5))\n",
    "plt.plot(dfbb['position'])\n",
    "plt.title(\"Long and Short positions\")\n",
    "plt.xlabel('Time')\n",
    "plt.tight_layout()\n",
    "plt.show();"
   ]
  },
  {
   "cell_type": "code",
   "execution_count": 25,
   "id": "0172dc2e-7c0a-478c-be08-3db3b2037c42",
   "metadata": {},
   "outputs": [],
   "source": [
    "# let's calculate the strategy returns\n",
    "def backtest_strategy(data):\n",
    "    \"\"\"\n",
    "    The function creates additional columns to the pandas DataFrame for checking conditions\n",
    "    to backtest the \"Bollinger Bands\" trading strategy. \n",
    "    It then computes the strategy returns.\n",
    "    IMPORTANT: To be run ONLY after the function compute_indicators.\n",
    "    \"\"\"\n",
    "    \n",
    "    data['bnh_returns'] = np.log(data['Adj Close'] / data['Adj Close'].shift(1))\n",
    "    data['bbands_returns'] = data['bnh_returns'] * data['position'].shift(1)\n",
    "\n",
    "    data[['bnh_returns', 'bbands_returns']].cumsum().plot(grid=True, figsize=(12, 8));\n",
    "    \n",
    "    print('Buy and hold returns: ', np.round(data['bnh_returns'].cumsum()[-1], 2))\n",
    "    print('Bollinger Bands strategy returns: ', np.round(data['bbands_returns'].cumsum()[-1], 2))\n",
    "    \n",
    "    return data"
   ]
  },
  {
   "cell_type": "code",
   "execution_count": 26,
   "id": "11c8110b-e9b5-42b2-93dd-0aa519647594",
   "metadata": {},
   "outputs": [
    {
     "name": "stdout",
     "output_type": "stream",
     "text": [
      "Buy and hold returns:  1.44\n",
      "Bollinger Bands strategy returns:  0.5\n"
     ]
    },
    {
     "data": {
      "image/png": "[encoded data removed]",
      "text/plain": [
       "<Figure size 864x576 with 1 Axes>"
      ]
     },
     "metadata": {
      "needs_background": "light"
     },
     "output_type": "display_data"
    }
   ],
   "source": [
    "dfbb= backtest_strategy(dfbb)"
   ]
  },
  {
   "cell_type": "code",
   "execution_count": 27,
   "id": "efea36eb-ccaa-4168-b8b7-fe3d4233ea0d",
   "metadata": {},
   "outputs": [],
   "source": [
    "# uncomment these lines to check for buy/sell conditions\n",
    "#df1.iloc[43:50]\n",
    "#df1.iloc[73:80]\n",
    "#df1.iloc[102:110]"
   ]
  },
  {
   "cell_type": "markdown",
   "id": "24b7fa54-8635-4284-95a8-a3ba4ff73156",
   "metadata": {},
   "source": [
    "#### Compare the total returns of the above strategy with a simple ‘buy & hold’ strategy. Comment on your findings."
   ]
  },
  {
   "cell_type": "markdown",
   "id": "fdb0b626-413a-41f4-89da-28ed9bb90e9d",
   "metadata": {},
   "source": [
    "#### __COMMENTS__: The standard bollinger Band strategy is by far worse (+50%) than the Buy&Hold strategy (+144%). Th BB strategy is based on the condition that prices follow the Normal distribution while generally the distribution of the Returns has fatter tails than the normal one."
   ]
  },
  {
   "cell_type": "markdown",
   "id": "19914c79-1513-429d-b062-ea007e9481d2",
   "metadata": {},
   "source": [
    "#### Q3: Write a customized function that computes returns for the exponential moving average (EMA) strategy (discussed in class) for different windows(spans). Find the optimal value of span between 1 and 30 which produces the best overall total return. "
   ]
  },
  {
   "cell_type": "code",
   "execution_count": 28,
   "id": "e6f33323-0e76-4b9b-a6b4-9ce7bbc78909",
   "metadata": {},
   "outputs": [
    {
     "name": "stdout",
     "output_type": "stream",
     "text": [
      "Requirement already satisfied: nest-asyncio in ./venv/lib/python3.8/site-packages (1.5.5)\n"
     ]
    }
   ],
   "source": [
    "# in order to speed up the computation we will make use of the \"amazing/nest-asyncio\" asyncio library\n",
    "# and compare it with a standard synchronous implementation\n",
    "!pip install nest-asyncio\n",
    "from time import time\n",
    "import nest_asyncio\n",
    "nest_asyncio.apply()\n",
    "import asyncio"
   ]
  },
  {
   "cell_type": "code",
   "execution_count": 29,
   "id": "c33dc84e-7559-40d0-9a9c-cd20f27c1b6b",
   "metadata": {},
   "outputs": [
    {
     "name": "stdout",
     "output_type": "stream",
     "text": [
      "[*********************100%***********************]  1 of 1 completed\n"
     ]
    },
    {
     "data": {
      "text/html": [
       "<div>\n",
       "<style scoped>\n",
       "    .dataframe tbody tr th:only-of-type {\n",
       "        vertical-align: middle;\n",
       "    }\n",
       "\n",
       "    .dataframe tbody tr th {\n",
       "        vertical-align: top;\n",
       "    }\n",
       "\n",
       "    .dataframe thead th {\n",
       "        text-align: right;\n",
       "    }\n",
       "</style>\n",
       "<table border=\"1\" class=\"dataframe\">\n",
       "  <thead>\n",
       "    <tr style=\"text-align: right;\">\n",
       "      <th></th>\n",
       "      <th>Open</th>\n",
       "      <th>High</th>\n",
       "      <th>Low</th>\n",
       "      <th>Close</th>\n",
       "      <th>Adj Close</th>\n",
       "      <th>Volume</th>\n",
       "    </tr>\n",
       "    <tr>\n",
       "      <th>Date</th>\n",
       "      <th></th>\n",
       "      <th></th>\n",
       "      <th></th>\n",
       "      <th></th>\n",
       "      <th></th>\n",
       "      <th></th>\n",
       "    </tr>\n",
       "  </thead>\n",
       "  <tbody>\n",
       "    <tr>\n",
       "      <th>2020-04-27</th>\n",
       "      <td>176.589996</td>\n",
       "      <td>176.899994</td>\n",
       "      <td>173.300003</td>\n",
       "      <td>174.050003</td>\n",
       "      <td>170.509842</td>\n",
       "      <td>33194400</td>\n",
       "    </tr>\n",
       "    <tr>\n",
       "      <th>2020-04-28</th>\n",
       "      <td>175.589996</td>\n",
       "      <td>175.669998</td>\n",
       "      <td>169.389999</td>\n",
       "      <td>169.809998</td>\n",
       "      <td>166.356094</td>\n",
       "      <td>34392700</td>\n",
       "    </tr>\n",
       "    <tr>\n",
       "      <th>2020-04-29</th>\n",
       "      <td>173.220001</td>\n",
       "      <td>177.679993</td>\n",
       "      <td>171.880005</td>\n",
       "      <td>177.429993</td>\n",
       "      <td>173.821091</td>\n",
       "      <td>51286600</td>\n",
       "    </tr>\n",
       "  </tbody>\n",
       "</table>\n",
       "</div>"
      ],
      "text/plain": [
       "                  Open        High         Low       Close   Adj Close  \\\n",
       "Date                                                                     \n",
       "2020-04-27  176.589996  176.899994  173.300003  174.050003  170.509842   \n",
       "2020-04-28  175.589996  175.669998  169.389999  169.809998  166.356094   \n",
       "2020-04-29  173.220001  177.679993  171.880005  177.429993  173.821091   \n",
       "\n",
       "              Volume  \n",
       "Date                  \n",
       "2020-04-27  33194400  \n",
       "2020-04-28  34392700  \n",
       "2020-04-29  51286600  "
      ]
     },
     "execution_count": 29,
     "metadata": {},
     "output_type": "execute_result"
    },
    {
     "data": {
      "text/plain": [
       "(1340, 6)"
      ]
     },
     "execution_count": 29,
     "metadata": {},
     "output_type": "execute_result"
    }
   ],
   "source": [
    "df = download_daily_data(ticker, start, end)\n",
    "df.tail(3)\n",
    "df.shape\n",
    "dfexp = df.copy()"
   ]
  },
  {
   "cell_type": "code",
   "execution_count": 30,
   "id": "e896e57a-f240-4802-a15d-d3b4718065e6",
   "metadata": {},
   "outputs": [
    {
     "name": "stdout",
     "output_type": "stream",
     "text": [
      "Strategy returns for ema = 1: 1.0\n",
      "Strategy returns for ema = 2: 1.19\n",
      "Strategy returns for ema = 3: 0.98\n",
      "Strategy returns for ema = 4: 1.02\n",
      "Strategy returns for ema = 5: 0.89\n",
      "Strategy returns for ema = 6: 0.9\n",
      "Strategy returns for ema = 7: 0.95\n",
      "Strategy returns for ema = 8: 0.83\n",
      "Strategy returns for ema = 9: 0.91\n",
      "Strategy returns for ema = 10: 1.03\n",
      "Strategy returns for ema = 11: 1.28\n",
      "Strategy returns for ema = 12: 1.31\n",
      "Strategy returns for ema = 13: 1.37\n",
      "Strategy returns for ema = 14: 1.54\n",
      "Strategy returns for ema = 15: 1.5\n",
      "Strategy returns for ema = 16: 1.42\n",
      "Strategy returns for ema = 17: 1.38\n",
      "Strategy returns for ema = 18: 1.41\n",
      "Strategy returns for ema = 19: 1.4\n",
      "Strategy returns for ema = 20: 1.35\n",
      "Strategy returns for ema = 21: 1.22\n",
      "Strategy returns for ema = 22: 1.23\n",
      "Strategy returns for ema = 23: 1.17\n",
      "Strategy returns for ema = 24: 1.2\n",
      "Strategy returns for ema = 25: 1.3\n",
      "Strategy returns for ema = 26: 1.33\n",
      "Strategy returns for ema = 27: 1.26\n",
      "Strategy returns for ema = 28: 1.3\n",
      "Strategy returns for ema = 29: 1.25\n",
      "Strategy returns for ema = 30: 1.24\n",
      "Asynchronous execution takes: 0.049 sec.\n"
     ]
    }
   ],
   "source": [
    "# ASYNCHRONOUS IMPLEMENTATION\n",
    "\n",
    "async def ema_calculation(df, ema):\n",
    "    df[\"cc_returns\"] = df[\"Adj Close\"].pct_change()\n",
    "    df[\"ema\"] = df[\"Adj Close\"].ewm(span=ema, adjust=False).mean()\n",
    "    df[\"position\"] = np.where((df[\"Adj Close\"] > df[\"ema\"]), 1, 0)\n",
    "    df[\"position\"] = df[\"position\"].shift(1)\n",
    "    df[\"strategy_returns\"] = df[\"cc_returns\"] * df[\"position\"]\n",
    "    df[\"strategy_returns\"] = 1 + df[\"strategy_returns\"]\n",
    "    print(f\"Strategy returns for ema = {ema}: {np.round(df['strategy_returns'].cumprod()[-1], 2)}\")\n",
    "    \n",
    "    \n",
    "async def main():\n",
    "    # tasks = await task_list()\n",
    "    await asyncio.gather(\n",
    "        *[ema_calculation(dfexp, i) for i in range(1, 31)], return_exceptions=True\n",
    "    )\n",
    "\n",
    "# main loop\n",
    "loop = asyncio.get_event_loop()\n",
    "start = time()\n",
    "try:\n",
    "    loop.run_until_complete(main())\n",
    "except KeyboardInterrupt as e:\n",
    "    print(\"shutting down\", e)\n",
    "\n",
    "print(f\"Asynchronous execution takes: {(time() - start):.3f} sec.\")"
   ]
  },
  {
   "cell_type": "code",
   "execution_count": 49,
   "id": "af28ee75-f927-4618-8ed5-f762de132e06",
   "metadata": {},
   "outputs": [
    {
     "name": "stdout",
     "output_type": "stream",
     "text": [
      "Strategy returns for ema = 1: 1.0\n",
      "Strategy returns for ema = 2: 1.19\n",
      "Strategy returns for ema = 3: 0.98\n",
      "Strategy returns for ema = 4: 1.02\n",
      "Strategy returns for ema = 5: 0.89\n",
      "Strategy returns for ema = 6: 0.9\n",
      "Strategy returns for ema = 7: 0.95\n",
      "Strategy returns for ema = 8: 0.83\n",
      "Strategy returns for ema = 9: 0.91\n",
      "Strategy returns for ema = 10: 1.03\n",
      "Strategy returns for ema = 11: 1.28\n",
      "Strategy returns for ema = 12: 1.31\n",
      "Strategy returns for ema = 13: 1.37\n",
      "Strategy returns for ema = 14: 1.54\n",
      "Strategy returns for ema = 15: 1.5\n",
      "Strategy returns for ema = 16: 1.42\n",
      "Strategy returns for ema = 17: 1.38\n",
      "Strategy returns for ema = 18: 1.41\n",
      "Strategy returns for ema = 19: 1.4\n",
      "Strategy returns for ema = 20: 1.35\n",
      "Strategy returns for ema = 21: 1.22\n",
      "Strategy returns for ema = 22: 1.23\n",
      "Strategy returns for ema = 23: 1.17\n",
      "Strategy returns for ema = 24: 1.2\n",
      "Strategy returns for ema = 25: 1.3\n",
      "Strategy returns for ema = 26: 1.33\n",
      "Strategy returns for ema = 27: 1.26\n",
      "Strategy returns for ema = 28: 1.3\n",
      "Strategy returns for ema = 29: 1.25\n",
      "Strategy returns for ema = 30: 1.24\n",
      "\n",
      "Optimal parameter for the EMA Strategy is: 14\n",
      "Synchronous execution takes: 0.044 sec.\n"
     ]
    }
   ],
   "source": [
    "# SYNCHRONOUS IMPLEMENTATION\n",
    "\n",
    "def ema_calculation(df, ema):\n",
    "    df[\"cc_returns\"] = df[\"Adj Close\"].pct_change()\n",
    "    df[\"ema\"] = df[\"Adj Close\"].ewm(span=ema, adjust=False).mean()\n",
    "    df[\"position\"] = np.where((df[\"Adj Close\"] > df[\"ema\"]), 1, 0)\n",
    "    df[\"position\"] = df[\"position\"].shift(1)\n",
    "    df[\"strategy_returns\"] = df[\"cc_returns\"] * df[\"position\"]\n",
    "    df[\"strategy_returns\"] = 1 + df[\"strategy_returns\"]\n",
    "    print(f\"Strategy returns for ema = {ema}: {np.round(df['strategy_returns'].cumprod()[-1], 2)}\")\n",
    "    return np.round(df['strategy_returns'].cumprod()[-1], 2)\n",
    "\n",
    "            \n",
    "returns = [] \n",
    "start = time()\n",
    "for i in range(1, 31):\n",
    "    strategy_return = ema_calculation(dfexp, i)\n",
    "    returns.append((i, strategy_return))\n",
    "\n",
    "optimal_param = max(returns, key=lambda item: item[1])\n",
    "    \n",
    "print(f\"\\nOptimal parameter for the EMA Strategy is: {optimal_param[0]}\")\n",
    "print(f\"Synchronous execution takes: {(time() - start):.3f} sec.\")"
   ]
  },
  {
   "cell_type": "code",
   "execution_count": 48,
   "id": "9558e0be-6b5c-43ce-9cbe-5c00eabd1023",
   "metadata": {},
   "outputs": [
    {
     "name": "stdout",
     "output_type": "stream",
     "text": [
      "Strategy returns for ema = 14: 1.54\n"
     ]
    },
    {
     "data": {
      "text/plain": [
       "1.54"
      ]
     },
     "execution_count": 48,
     "metadata": {},
     "output_type": "execute_result"
    },
    {
     "data": {
      "text/plain": [
       "(1340, 10)"
      ]
     },
     "execution_count": 48,
     "metadata": {},
     "output_type": "execute_result"
    }
   ],
   "source": [
    "dfexp_opt= df.copy()\n",
    "ema_calculation(dfexp_opt, optimal_param[0])\n",
    "dfexp_opt.shape\n"
   ]
  },
  {
   "cell_type": "code",
   "execution_count": null,
   "id": "36b80774-eb78-4da4-9980-f231f57d5b6c",
   "metadata": {},
   "outputs": [],
   "source": [
    "dfexp_opt[['strategy_returns']].cumprod().plot(grid=True, figsize=(15, 8));"
   ]
  },
  {
   "cell_type": "markdown",
   "id": "f4683d82-1325-4f7c-9b40-c1f3cf0d6310",
   "metadata": {},
   "source": [
    "#### __COMMENTS__: We can see that the optimal parameter that produces the maximum return for the EMA is with 14 days. The strategy gives us 54% of return.\n",
    "##### NOTE: There is not much difference in performance between the synchronous and asynchronous implementation since we are considering only 1.340 samples. The superior performance of the asynchronous library is noticeable when processing large quantity of data."
   ]
  },
  {
   "cell_type": "markdown",
   "id": "5b9056b2-b2c1-4581-a426-32c2f8695e4f",
   "metadata": {},
   "source": [
    "#### Q4: The moving average crossover (MAC) code is implemented where we always have an open position. Calculate returns where short selling is not allowed. Plot a graph comparing returns from buy-and-hold, no short selling, and the one we did in class. Comment on your results."
   ]
  },
  {
   "cell_type": "code",
   "execution_count": null,
   "id": "5569b285-7735-48bf-88c7-f3b4156f95ce",
   "metadata": {},
   "outputs": [],
   "source": [
    "def download_daily_data(ticker, start, end):\n",
    "    \"\"\" \n",
    "    The function downloads daily market data to a pandas DataFrame \n",
    "    using the 'yfinance' API between the dates specified.\n",
    "    \"\"\"\n",
    "    data = yf.download(ticker, start, end)\n",
    "    \n",
    "    return data"
   ]
  },
  {
   "cell_type": "code",
   "execution_count": null,
   "id": "79aa1412-fc64-4e6d-b9dd-b37acb7867cb",
   "metadata": {},
   "outputs": [],
   "source": [
    "ticker = \"MSFT\"\n",
    "start = datetime(2015, 1, 2)\n",
    "end = datetime(2020, 4, 30)\n",
    "df = download_daily_data(ticker, start, end)\n",
    "df.tail(3)\n",
    "df.shape\n",
    "df_macd = df.copy()"
   ]
  },
  {
   "cell_type": "code",
   "execution_count": null,
   "id": "18199a94-aa44-4fc2-8292-d0a42d96a07f",
   "metadata": {},
   "outputs": [],
   "source": [
    "def compute_indicators(data):\n",
    "    \"\"\"\n",
    "    The function creates additional columns to an OHLC pandas DataFrame\n",
    "    required to backtest the \"MACD\" trading strategies.\n",
    "    \"\"\"\n",
    "    data['ema26'] = data['Adj Close'].ewm(span=26, adjust=False).mean()\n",
    "    data['ema12'] = data['Adj Close'].ewm(span=12, adjust=False).mean()\n",
    "    data['MACD'] = data['ema12'] - data['ema26']\n",
    "    \n",
    "    data['signal'] = data['MACD'].ewm(span=9, adjust=False).mean()\n",
    "    \n",
    "    data['position_buy_and_sell'] = np.where(data['MACD'] > data['signal'], 1, -1)\n",
    "    data['position_buy_and_sell'] = data['position_buy_and_sell'].shift(1)\n",
    "\n",
    "    data['position_buy_only'] = np.where(data['MACD'] > data['signal'], 1, 0)\n",
    "    data['position_buy_only'] = data['position_buy_only'].shift(1)\n",
    "    \n",
    "    return data"
   ]
  },
  {
   "cell_type": "code",
   "execution_count": null,
   "id": "74fb4b22-a865-4e8b-9db7-2913f664c4ad",
   "metadata": {},
   "outputs": [],
   "source": [
    "# let's calculate the strategies returns\n",
    "def backtest_strategy(data):\n",
    "    \"\"\"\n",
    "    The function creates additional columns to the pandas DataFrame for checking conditions\n",
    "    to backtest the \"Bollinger Bands\" trading strategy. \n",
    "    It then computes the strategy returns.\n",
    "    IMPORTANT: To be run ONLY after the function compute_indicators.\n",
    "    \"\"\"\n",
    "    \n",
    "    data['cc_returns'] = data['Adj Close'].pct_change()\n",
    "    data['buy_and_sell_returns'] = data['cc_returns'] * data['position_buy_and_sell']\n",
    "    data['buy_only_returns'] = data['cc_returns'] * data['position_buy_only']\n",
    "    \n",
    "    data['cum_buy_and_hold_returns'] = (1 + data['cc_returns']).cumprod()\n",
    "    data['cum_buy_sell_returns'] = (1 + data['buy_and_sell_returns']).cumprod()\n",
    "    data['cum_buy_only_returns'] = (1 + data['buy_only_returns']).cumprod()\n",
    "    \n",
    "    data[['cum_buy_and_hold_returns', 'cum_buy_sell_returns','cum_buy_only_returns']].plot(figsize=(12, 8), grid=True)\n",
    "    \n",
    "    print('Strategy Buy and hold returns: ', np.round((1 + data['cc_returns']).cumprod()[-1], 2))\n",
    "    print('Strategy MACD buy and sell returns: ', np.round((1 + data['buy_and_sell_returns']).cumprod()[-1], 2))\n",
    "    print('Strategy MACD buy only returns: ', np.round((1 + data['buy_only_returns']).cumprod()[-1], 2))\n",
    "    \n",
    "    return data"
   ]
  },
  {
   "cell_type": "code",
   "execution_count": null,
   "id": "4d3f0f26-030f-4e29-a731-04c3dd26c618",
   "metadata": {},
   "outputs": [],
   "source": [
    "df_macd = compute_indicators(df_macd)"
   ]
  },
  {
   "cell_type": "code",
   "execution_count": null,
   "id": "52593c6f-e4c7-45d9-b92d-85941c790753",
   "metadata": {},
   "outputs": [],
   "source": [
    "df_macd = backtest_strategy(df_macd)"
   ]
  },
  {
   "cell_type": "markdown",
   "id": "74c31c61-a843-45c1-b3b6-6dff94ad5fd2",
   "metadata": {},
   "source": [
    "#### Q5: Download the data for the following companies TSLA, NFLX, AMZN, GOOG and CVX using the code for automatically downloading multiple stocks from January 1st 2015 to April 30th 2020.  You can use Yahoo Finance for downloading the data."
   ]
  },
  {
   "cell_type": "markdown",
   "id": "314c7715-fcad-4056-ab52-bc1e2e67e895",
   "metadata": {},
   "source": [
    "##### For the above mentioned time period:\n",
    "> a) Compute the daily returns (assuming you buy at open and sell at close) every day. <br>\n",
    "> b) Compute the hit ratio for each of them (recall that the hit ratio is the ratio of number of positive trades to total number of trades). <br>\n",
    "> c) Compute the cumulative returns for each of them. <br>\n",
    "##### Plot them graphically and comment on your results."
   ]
  },
  {
   "cell_type": "code",
   "execution_count": null,
   "id": "606943ae-415b-418e-96d8-f21d7df0df6f",
   "metadata": {},
   "outputs": [],
   "source": [
    "tickers = [\"TSLA\", \"NFLX\", \"AMZN\", \"GOOG\", \"CVX\"]\n",
    "#tickers = [\"TSLA\", 'NFLX']\n",
    "start = datetime(2015, 1, 1)\n",
    "end = datetime(2020, 4, 30)\n",
    "\n",
    "def download_daily_data(ticker, start, end):\n",
    "    \"\"\" \n",
    "    The function downloads daily market data to a pandas DataFrame \n",
    "    using the 'yfinance' API between the dates specified.\n",
    "    \"\"\"\n",
    "    data = yf.download(ticker, start, end)\n",
    "    \n",
    "    return data\n",
    "\n",
    "def compute_daily_returns(data):\n",
    "    \"\"\" \n",
    "    Compute the daily returns (buy at open and sell at close) every day.\n",
    "    \"\"\"\n",
    "    \n",
    "    data['oc_returns'] = data['Close'] / data['Open'] -1\n",
    "    \n",
    "    return data\n",
    "\n",
    "def compute_hit_ratio(data):\n",
    "    \"\"\" \n",
    "    Compute the hit ratio of data\n",
    "    (hit ratio is the ratio of number of positive trades to total number of trades).\n",
    "    \"\"\"\n",
    "    data['positive_trades'] =  np.where((data['oc_returns'] > 0), 1, 0)\n",
    "    data[\"cum_positive_trades\"] = data['positive_trades'].cumsum()\n",
    "    hit_ratio =  (data.iloc[-1, data.columns.get_loc(\"cum_positive_trades\")] / data.shape[0]) * 100\n",
    "    print(f\"Hit Ratio for ticker {ticker} is: {hit_ratio:.2f}%\")\n",
    "    \n",
    "    return data\n",
    "\n",
    "def compute_cumulative_returns(data):\n",
    "    \"\"\" \n",
    "    Compute the cumulative returns of data\n",
    "    \n",
    "    \"\"\"\n",
    "    data[\"strategy_returns\"] = 1 + data['oc_returns']\n",
    "    data[ticker + \"_returns\"] = data['strategy_returns'].cumprod()\n",
    "    print(f\"Strategy Return for ticker {ticker} is: {data['strategy_returns'].cumprod()[-1]:.2f}\")\n",
    "    \n",
    "    return data\n",
    "\n",
    "def plot_and_compare(dict_of_tickers):\n",
    "    \"\"\" \n",
    "    Plot the cumulative returns of data from a dict of tickers\n",
    "    \n",
    "    \"\"\"\n",
    "    for _, values in dict_of_tickers.items():\n",
    "        values.plot(grid=True, figsize=(15, 10));\n",
    "    \n",
    "    plt.legend(loc=\"upper left\")\n",
    "    plt.show()\n",
    "    \n",
    "\n",
    "dict_of_tickers = {}\n",
    "for ticker in tickers:\n",
    "    \n",
    "    data = download_daily_data(ticker, start, end)\n",
    "    data = compute_daily_returns(data)\n",
    "    data = compute_hit_ratio(data)\n",
    "    data = compute_cumulative_returns(data)\n",
    "    dict_of_tickers[ticker] = data[ticker + \"_returns\"]\n",
    "\n",
    "plot_and_compare(dict_of_tickers)"
   ]
  },
  {
   "cell_type": "markdown",
   "id": "8a1dd028-b686-4e41-a03b-d59ecbf355a1",
   "metadata": {},
   "source": [
    "#### __COMMENTS__: From the graph above we can see that the stocks that performed best were TSLA (Tesla) and NFLX (NetFlix) with an whopping Return of 85% over the period. The were followed by Google with a 54% Return. The remaining stocks were not worth the investment since they produced negative returns. It's worth mentioning that NFLX outperformed by far the others up until late 2018.\n",
    "#### As for the hit ratio of the stocks they are similar to each other but with very different performance.\n",
    "##### __NOTE: we are not taking into consideration look-ahead bias (to avoid the problem we may enter the position 5 minutes before the close of the trading session or we could enter the position at the 'Open' of the next day. For simplicity let's go with the first approach)__"
   ]
  },
  {
   "cell_type": "markdown",
   "id": "7a4956df-9615-4584-8b57-825239a597a2",
   "metadata": {},
   "source": [
    "### __OPTIONAL__:"
   ]
  },
  {
   "cell_type": "markdown",
   "id": "186f4fcf-6f55-49ef-9ab7-0766b99defda",
   "metadata": {},
   "source": [
    "#### Q6: Try creating the simple/ full tear sheets using the pyfolio library for questions 1 to 4. Compare various performance and risk metrics for the EMA, the MAC and the Bollinger band strategy."
   ]
  },
  {
   "cell_type": "code",
   "execution_count": null,
   "id": "bd8ec247-1d9a-4c16-8fa5-0a465e7f7c44",
   "metadata": {},
   "outputs": [],
   "source": [
    "import pyfolio as pf"
   ]
  },
  {
   "cell_type": "markdown",
   "id": "41bb92b1-3b4d-45c1-bcc2-7c5f5d239b99",
   "metadata": {},
   "source": [
    "### __Performance for EMA strategy__"
   ]
  },
  {
   "cell_type": "code",
   "execution_count": null,
   "id": "7daa7681-2f2a-4505-b414-94aefd670fe2",
   "metadata": {},
   "outputs": [],
   "source": []
  },
  {
   "cell_type": "code",
   "execution_count": null,
   "id": "8a56d95a-ec8d-409c-b7b6-4498a4e5f5fe",
   "metadata": {},
   "outputs": [],
   "source": [
    "df = download_daily_data(ticker, start, end)\n",
    "df.tail(3)\n",
    "df.shape\n",
    "dfexp = df.copy()"
   ]
  },
  {
   "cell_type": "code",
   "execution_count": null,
   "id": "90b0e831-f3d9-4a2b-8ef6-e0e29abb0a74",
   "metadata": {},
   "outputs": [],
   "source": [
    "def ema_calculation(df, ema):\n",
    "    df[\"cc_returns\"] = df[\"Adj Close\"].pct_change()\n",
    "    df[\"ema\"] = df[\"Adj Close\"].ewm(span=ema, adjust=False).mean()\n",
    "    df[\"position\"] = np.where((df[\"Adj Close\"] > df[\"ema\"]), 1, 0)\n",
    "    df[\"position\"] = df[\"position\"].shift(1)\n",
    "    df[\"strategy_returns\"] = df[\"cc_returns\"] * df[\"position\"]\n",
    "    df[\"strategy_returns\"] = 1 + df[\"strategy_returns\"]\n",
    "    print(f\"Strategy returns for ema = {ema}: {np.round(df['strategy_returns'].cumprod()[-1], 2)}\")\n",
    "\n",
    "# use of optimal ema loockback\n",
    "ema_calculation(dfexp, ema=14)"
   ]
  },
  {
   "cell_type": "code",
   "execution_count": null,
   "id": "1f4782fa-7ecc-462c-943c-9165fc8debce",
   "metadata": {},
   "outputs": [],
   "source": [
    "pf.create_full_tear_sheet(dfexp[\"strategy_returns\"],benchmark_rets=None)"
   ]
  },
  {
   "cell_type": "markdown",
   "id": "f914db2a-a2c1-487d-95c0-e936176444e6",
   "metadata": {},
   "source": [
    "### __Performance for MACD strategies__"
   ]
  },
  {
   "cell_type": "code",
   "execution_count": null,
   "id": "d9c537de-7458-4a9c-88ad-b9b1b9b5c61e",
   "metadata": {},
   "outputs": [],
   "source": [
    "pf.create_full_tear_sheet(df_macd[\"cc_returns\"],benchmark_rets=None)"
   ]
  },
  {
   "cell_type": "code",
   "execution_count": null,
   "id": "6fe17ed3-f50b-4e79-8934-4d61d1b63cf8",
   "metadata": {},
   "outputs": [],
   "source": [
    "pf.create_full_tear_sheet(df_macd[\"buy_and_sell_returns\"],benchmark_rets=None)"
   ]
  },
  {
   "cell_type": "code",
   "execution_count": null,
   "id": "f2ae7bd1-3258-487d-83eb-05ecd53b9c84",
   "metadata": {},
   "outputs": [],
   "source": [
    "pf.create_full_tear_sheet(df_macd[\"buy_only_returns\"],benchmark_rets=None)"
   ]
  },
  {
   "cell_type": "markdown",
   "id": "57a0bd39-9946-45fc-9f1a-d60392196421",
   "metadata": {
    "tags": []
   },
   "source": [
    "#### Q7: Install the TA-lib package. You can go through the attached document to get it installed."
   ]
  },
  {
   "cell_type": "code",
   "execution_count": null,
   "id": "fffdfed4-cfae-470b-98b9-ed34cdb3a10f",
   "metadata": {},
   "outputs": [],
   "source": [
    "import talib"
   ]
  },
  {
   "cell_type": "code",
   "execution_count": null,
   "id": "ad249360-cdf3-41ad-8c73-33d611d0d150",
   "metadata": {},
   "outputs": [],
   "source": []
  }
 ],
 "metadata": {
  "kernelspec": {
   "display_name": "epat-venv",
   "language": "python",
   "name": "epat-venv"
  },
  "language_info": {
   "codemirror_mode": {
    "name": "ipython",
    "version": 3
   },
   "file_extension": ".py",
   "mimetype": "text/x-python",
   "name": "python",
   "nbconvert_exporter": "python",
   "pygments_lexer": "ipython3",
   "version": "3.8.10"
  }
 },
 "nbformat": 4,
 "nbformat_minor": 5
}
